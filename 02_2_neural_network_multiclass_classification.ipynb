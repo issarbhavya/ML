{
  "nbformat": 4,
  "nbformat_minor": 0,
  "metadata": {
    "colab": {
      "provenance": [],
      "authorship_tag": "ABX9TyMe7t3NVIiwQCXTw7ZDkZ+w",
      "include_colab_link": true
    },
    "kernelspec": {
      "name": "python3",
      "display_name": "Python 3"
    },
    "language_info": {
      "name": "python"
    }
  },
  "cells": [
    {
      "cell_type": "markdown",
      "metadata": {
        "id": "view-in-github",
        "colab_type": "text"
      },
      "source": [
        "<a href=\"https://colab.research.google.com/github/issarbhavya/ML/blob/main/02_2_neural_network_multiclass_classification.ipynb\" target=\"_parent\"><img src=\"https://colab.research.google.com/assets/colab-badge.svg\" alt=\"Open In Colab\"/></a>"
      ]
    },
    {
      "cell_type": "markdown",
      "source": [
        "## Multiclass classification"
      ],
      "metadata": {
        "id": "CN-acJtKle3-"
      }
    },
    {
      "cell_type": "markdown",
      "source": [
        "***Fashion-MNIST is a dataset of Zalando's article images—consisting of a training set of 60,000 examples and a test set of 10,000 examples. Each example is a 28x28 grayscale image, associated with a label from 10 classes.***"
      ],
      "metadata": {
        "id": "EwQGG4dciiyi"
      }
    },
    {
      "cell_type": "code",
      "source": [
        "import tensorflow as tf\n",
        "\n",
        "from tensorflow.keras.datasets import fashion_mnist ### importing dataset\n",
        "\n",
        "\n",
        "# the data is already in tensor form and splitted into train and test data\n",
        "# So we just need to load the dataset\n",
        "(train_data, train_labels), (test_data, test_labels) = fashion_mnist.load_data()\n",
        " "
      ],
      "metadata": {
        "id": "4bOy2wNYlmi_"
      },
      "execution_count": 136,
      "outputs": []
    },
    {
      "cell_type": "markdown",
      "source": [
        "\n",
        "\n",
        "---\n",
        "\n",
        "\n",
        "Label\tDescription\n",
        "\n",
        "0 :\tT-shirt/top\n",
        "\n",
        "1\t: Trouser\n",
        "\n",
        "2\t: Pullover\n",
        "\n",
        "3\t: Dress\n",
        "\n",
        "4\t: Coat\n",
        "\n",
        "5\t: Sandal\n",
        "\n",
        "6\t: Shirt\n",
        "\n",
        "7\t: Sneaker\n",
        "\n",
        "8\t: Bag\n",
        "\n",
        "9\t: Ankle boot\n",
        "\n",
        "---\n",
        "\n"
      ],
      "metadata": {
        "id": "j5PaUrvxpp8r"
      }
    },
    {
      "cell_type": "code",
      "source": [
        "print(f\"Training sample:\\n{train_data[0]}\\n\\n\")   # one of the element \n",
        "print(f\"Training label: {train_labels[0]}\")  # and its label"
      ],
      "metadata": {
        "colab": {
          "base_uri": "https://localhost:8080/"
        },
        "id": "jxWi2tZSpeSq",
        "outputId": "1440a433-3a39-47cf-e428-4b69aaa4fa7b"
      },
      "execution_count": 137,
      "outputs": [
        {
          "output_type": "stream",
          "name": "stdout",
          "text": [
            "Training sample:\n",
            "[[  0   0   0   0   0   0   0   0   0   0   0   0   0   0   0   0   0   0\n",
            "    0   0   0   0   0   0   0   0   0   0]\n",
            " [  0   0   0   0   0   0   0   0   0   0   0   0   0   0   0   0   0   0\n",
            "    0   0   0   0   0   0   0   0   0   0]\n",
            " [  0   0   0   0   0   0   0   0   0   0   0   0   0   0   0   0   0   0\n",
            "    0   0   0   0   0   0   0   0   0   0]\n",
            " [  0   0   0   0   0   0   0   0   0   0   0   0   1   0   0  13  73   0\n",
            "    0   1   4   0   0   0   0   1   1   0]\n",
            " [  0   0   0   0   0   0   0   0   0   0   0   0   3   0  36 136 127  62\n",
            "   54   0   0   0   1   3   4   0   0   3]\n",
            " [  0   0   0   0   0   0   0   0   0   0   0   0   6   0 102 204 176 134\n",
            "  144 123  23   0   0   0   0  12  10   0]\n",
            " [  0   0   0   0   0   0   0   0   0   0   0   0   0   0 155 236 207 178\n",
            "  107 156 161 109  64  23  77 130  72  15]\n",
            " [  0   0   0   0   0   0   0   0   0   0   0   1   0  69 207 223 218 216\n",
            "  216 163 127 121 122 146 141  88 172  66]\n",
            " [  0   0   0   0   0   0   0   0   0   1   1   1   0 200 232 232 233 229\n",
            "  223 223 215 213 164 127 123 196 229   0]\n",
            " [  0   0   0   0   0   0   0   0   0   0   0   0   0 183 225 216 223 228\n",
            "  235 227 224 222 224 221 223 245 173   0]\n",
            " [  0   0   0   0   0   0   0   0   0   0   0   0   0 193 228 218 213 198\n",
            "  180 212 210 211 213 223 220 243 202   0]\n",
            " [  0   0   0   0   0   0   0   0   0   1   3   0  12 219 220 212 218 192\n",
            "  169 227 208 218 224 212 226 197 209  52]\n",
            " [  0   0   0   0   0   0   0   0   0   0   6   0  99 244 222 220 218 203\n",
            "  198 221 215 213 222 220 245 119 167  56]\n",
            " [  0   0   0   0   0   0   0   0   0   4   0   0  55 236 228 230 228 240\n",
            "  232 213 218 223 234 217 217 209  92   0]\n",
            " [  0   0   1   4   6   7   2   0   0   0   0   0 237 226 217 223 222 219\n",
            "  222 221 216 223 229 215 218 255  77   0]\n",
            " [  0   3   0   0   0   0   0   0   0  62 145 204 228 207 213 221 218 208\n",
            "  211 218 224 223 219 215 224 244 159   0]\n",
            " [  0   0   0   0  18  44  82 107 189 228 220 222 217 226 200 205 211 230\n",
            "  224 234 176 188 250 248 233 238 215   0]\n",
            " [  0  57 187 208 224 221 224 208 204 214 208 209 200 159 245 193 206 223\n",
            "  255 255 221 234 221 211 220 232 246   0]\n",
            " [  3 202 228 224 221 211 211 214 205 205 205 220 240  80 150 255 229 221\n",
            "  188 154 191 210 204 209 222 228 225   0]\n",
            " [ 98 233 198 210 222 229 229 234 249 220 194 215 217 241  65  73 106 117\n",
            "  168 219 221 215 217 223 223 224 229  29]\n",
            " [ 75 204 212 204 193 205 211 225 216 185 197 206 198 213 240 195 227 245\n",
            "  239 223 218 212 209 222 220 221 230  67]\n",
            " [ 48 203 183 194 213 197 185 190 194 192 202 214 219 221 220 236 225 216\n",
            "  199 206 186 181 177 172 181 205 206 115]\n",
            " [  0 122 219 193 179 171 183 196 204 210 213 207 211 210 200 196 194 191\n",
            "  195 191 198 192 176 156 167 177 210  92]\n",
            " [  0   0  74 189 212 191 175 172 175 181 185 188 189 188 193 198 204 209\n",
            "  210 210 211 188 188 194 192 216 170   0]\n",
            " [  2   0   0   0  66 200 222 237 239 242 246 243 244 221 220 193 191 179\n",
            "  182 182 181 176 166 168  99  58   0   0]\n",
            " [  0   0   0   0   0   0   0  40  61  44  72  41  35   0   0   0   0   0\n",
            "    0   0   0   0   0   0   0   0   0   0]\n",
            " [  0   0   0   0   0   0   0   0   0   0   0   0   0   0   0   0   0   0\n",
            "    0   0   0   0   0   0   0   0   0   0]\n",
            " [  0   0   0   0   0   0   0   0   0   0   0   0   0   0   0   0   0   0\n",
            "    0   0   0   0   0   0   0   0   0   0]]\n",
            "\n",
            "\n",
            "Training label: 9\n"
          ]
        }
      ]
    },
    {
      "cell_type": "markdown",
      "source": [
        "\n",
        "\n",
        "---\n",
        "\n",
        "\n",
        "as the label is 9 then we can know that the image is of an ankle booot"
      ],
      "metadata": {
        "id": "i3f_H1nI1lTd"
      }
    },
    {
      "cell_type": "code",
      "source": [
        "# Check shape of a single example\n",
        "train_data[0].shape, train_labels[0].shape"
      ],
      "metadata": {
        "colab": {
          "base_uri": "https://localhost:8080/"
        },
        "id": "VtZff5Fp1y3P",
        "outputId": "d368d44f-740a-420b-d495-00df68253f41"
      },
      "execution_count": 138,
      "outputs": [
        {
          "output_type": "execute_result",
          "data": {
            "text/plain": [
              "((28, 28), ())"
            ]
          },
          "metadata": {},
          "execution_count": 138
        }
      ]
    },
    {
      "cell_type": "code",
      "source": [
        "# Plotting our sample\n",
        "import matplotlib.pyplot as plt\n",
        "plt.imshow(train_data[0]); ## this shows the image on matplotlib\n",
        "\n",
        "## the below isn't the exact same image given to us in data, instead\n",
        "## it is the image obtained on plotting the tensor data on matplotlib"
      ],
      "metadata": {
        "colab": {
          "base_uri": "https://localhost:8080/",
          "height": 430
        },
        "id": "xesCJhaX15i-",
        "outputId": "8830e66f-3d73-48b1-92ed-4b4206753ac9"
      },
      "execution_count": 139,
      "outputs": [
        {
          "output_type": "display_data",
          "data": {
            "text/plain": [
              "<Figure size 640x480 with 1 Axes>"
            ],
            "image/png": "[encoded data removed]"
          },
          "metadata": {}
        }
      ]
    },
    {
      "cell_type": "code",
      "source": [
        "## lets plot one more\n",
        "plt.imshow(train_data[7])"
      ],
      "metadata": {
        "colab": {
          "base_uri": "https://localhost:8080/",
          "height": 448
        },
        "id": "i501mkJp2An8",
        "outputId": "9e26999f-ffc5-4530-90ff-83bb4477c6ff"
      },
      "execution_count": 140,
      "outputs": [
        {
          "output_type": "execute_result",
          "data": {
            "text/plain": [
              "<matplotlib.image.AxesImage at 0x7f305cefc0d0>"
            ]
          },
          "metadata": {},
          "execution_count": 140
        },
        {
          "output_type": "display_data",
          "data": {
            "text/plain": [
              "<Figure size 640x480 with 1 Axes>"
            ],
            "image/png": "[encoded data removed]"
          },
          "metadata": {}
        }
      ]
    },
    {
      "cell_type": "code",
      "source": [
        "# label of it is \n",
        "train_labels[7]"
      ],
      "metadata": {
        "colab": {
          "base_uri": "https://localhost:8080/"
        },
        "id": "zgky6Kxf2jRp",
        "outputId": "c422f405-52a9-4dc0-a0ad-63edf2149814"
      },
      "execution_count": 141,
      "outputs": [
        {
          "output_type": "execute_result",
          "data": {
            "text/plain": [
              "2"
            ]
          },
          "metadata": {},
          "execution_count": 141
        }
      ]
    },
    {
      "cell_type": "code",
      "source": [
        "\n",
        "class_names = ['T-shirt/top', 'Trouser', 'Pullover', 'Dress', 'Coat', \n",
        "               'Sandal', 'Shirt', 'Sneaker', 'Bag', 'Ankle boot']\n",
        "\n",
        "# How many classes are there (this'll be our output shape)?\n",
        "len(class_names)"
      ],
      "metadata": {
        "colab": {
          "base_uri": "https://localhost:8080/"
        },
        "id": "ka7EZPOo2s9J",
        "outputId": "e14f2355-4879-4c44-ba0f-4bdcf3b31711"
      },
      "execution_count": 142,
      "outputs": [
        {
          "output_type": "execute_result",
          "data": {
            "text/plain": [
              "10"
            ]
          },
          "metadata": {},
          "execution_count": 142
        }
      ]
    },
    {
      "cell_type": "code",
      "source": [
        "plt.imshow(train_data[17], cmap=plt.cm.binary) # change the colours to black & white\n",
        "plt.title(class_names[train_labels[17]]); # setting label as title name of image"
      ],
      "metadata": {
        "colab": {
          "base_uri": "https://localhost:8080/",
          "height": 452
        },
        "id": "7bzqyfNn41jp",
        "outputId": "3d4f64d1-baa7-47e8-c540-df660de0cad7"
      },
      "execution_count": 143,
      "outputs": [
        {
          "output_type": "display_data",
          "data": {
            "text/plain": [
              "<Figure size 640x480 with 1 Axes>"
            ],
            "image/png": "[encoded data removed]"
          },
          "metadata": {}
        }
      ]
    },
    {
      "cell_type": "code",
      "source": [
        "# Plot multiple random images of fashion MNIST\n",
        "import random\n",
        "plt.figure(figsize=(7, 7)) #increases the size\n",
        "for i in range(4):\n",
        "  ax= plt.subplot(2,2,i+1) # 2 rows, 2 columns , nd index will increase by 1 everytime\n",
        "  rand_index=random.choice(range(len(train_data)))\n",
        "  plt.imshow(train_data[rand_index],cmap=plt.cm.binary)\n",
        "  plt.title(class_names[train_labels[rand_index]])\n",
        "  # plt.axis(False)\n"
      ],
      "metadata": {
        "colab": {
          "base_uri": "https://localhost:8080/",
          "height": 622
        },
        "id": "V8BEeLEN45ZQ",
        "outputId": "50b1a84a-877f-4a59-ee1d-5317e0feca65"
      },
      "execution_count": 144,
      "outputs": [
        {
          "output_type": "display_data",
          "data": {
            "text/plain": [
              "<Figure size 700x700 with 4 Axes>"
            ],
            "image/png": "[encoded data removed]"
          },
          "metadata": {}
        }
      ]
    },
    {
      "cell_type": "code",
      "source": [
        "tf.random.set_seed(42)\n",
        "\n",
        "#create\n",
        "model_11= tf.keras.Sequential([\n",
        "    tf.keras.layers.Flatten(input_shape=(28,28)),\n",
        "    # Flattening is used to convert resultant 2-Dimensional arrays into a single long continuous linear vector\n",
        "    # so, here it will be 28 * 28 = 784\n",
        "\n",
        "    tf.keras.layers.Dense(4, activation=\"relu\"),\n",
        "    tf.keras.layers.Dense(4, activation=\"relu\"),\n",
        "    \n",
        "    tf.keras.layers.Dense(10, activation=\"softmax\") # in multiclass, output layer activation is SOFTMAX\n",
        "])\n",
        "\n",
        "#compile\n",
        "model_11.compile(loss=tf.keras.losses.SparseCategoricalCrossentropy(), \n",
        "                 # different loss function for multiclass classifcation,\n",
        "                 # for providing labels as integers, we can use SparseCategoricalCrossentropy\n",
        "                 optimizer=tf.keras.optimizers.Adam(),\n",
        "                 metrics=[\"accuracy\"]\n",
        "                 )\n",
        "\n",
        "non_norm_history = model_11.fit(train_data,\n",
        "                                train_labels,\n",
        "                                epochs=10,\n",
        "                                validation_data=(test_data,test_labels)\n",
        "                                ## see how the model performs on the test set during training\n",
        "                                )"
      ],
      "metadata": {
        "colab": {
          "base_uri": "https://localhost:8080/"
        },
        "id": "TVghS__p5212",
        "outputId": "1f8a6b78-42d0-42d1-a14a-19d813179689"
      },
      "execution_count": 145,
      "outputs": [
        {
          "output_type": "stream",
          "name": "stdout",
          "text": [
            "Epoch 1/10\n",
            "1875/1875 [==============================] - 4s 2ms/step - loss: 2.0428 - accuracy: 0.2136 - val_loss: 1.8447 - val_accuracy: 0.2527\n",
            "Epoch 2/10\n",
            "1875/1875 [==============================] - 3s 2ms/step - loss: 1.7400 - accuracy: 0.2803 - val_loss: 1.6644 - val_accuracy: 0.3065\n",
            "Epoch 3/10\n",
            "1875/1875 [==============================] - 3s 2ms/step - loss: 1.6123 - accuracy: 0.3225 - val_loss: 1.5939 - val_accuracy: 0.3233\n",
            "Epoch 4/10\n",
            "1875/1875 [==============================] - 3s 1ms/step - loss: 1.5426 - accuracy: 0.3563 - val_loss: 1.5654 - val_accuracy: 0.3818\n",
            "Epoch 5/10\n",
            "1875/1875 [==============================] - 3s 2ms/step - loss: 1.5089 - accuracy: 0.3686 - val_loss: 1.5048 - val_accuracy: 0.3614\n",
            "Epoch 6/10\n",
            "1875/1875 [==============================] - 3s 1ms/step - loss: 1.4869 - accuracy: 0.3741 - val_loss: 1.5124 - val_accuracy: 0.3777\n",
            "Epoch 7/10\n",
            "1875/1875 [==============================] - 3s 1ms/step - loss: 1.4702 - accuracy: 0.3794 - val_loss: 1.4751 - val_accuracy: 0.3845\n",
            "Epoch 8/10\n",
            "1875/1875 [==============================] - 3s 2ms/step - loss: 1.4667 - accuracy: 0.3765 - val_loss: 1.4561 - val_accuracy: 0.3983\n",
            "Epoch 9/10\n",
            "1875/1875 [==============================] - 3s 2ms/step - loss: 1.4498 - accuracy: 0.3882 - val_loss: 1.4588 - val_accuracy: 0.3920\n",
            "Epoch 10/10\n",
            "1875/1875 [==============================] - 3s 1ms/step - loss: 1.4311 - accuracy: 0.3972 - val_loss: 1.4165 - val_accuracy: 0.4124\n"
          ]
        }
      ]
    },
    {
      "cell_type": "markdown",
      "source": [
        "val_loss and val_accuracy is the the loss and accuracy that our model has on the test data\n",
        "\n",
        "our val_accuracy is around 40 percent only and ,\n",
        "\n",
        "* guessing with 10 classes would result in about 10% accuracy, but we can do better thus, our model is currently just a bit better then gussing"
      ],
      "metadata": {
        "id": "Y3IejKWd_Dzz"
      }
    },
    {
      "cell_type": "code",
      "source": [
        "train_data.min(), train_data.max()"
      ],
      "metadata": {
        "colab": {
          "base_uri": "https://localhost:8080/"
        },
        "id": "82yT0b7KDt2S",
        "outputId": "f8c4c753-6dce-4e64-b80a-0e40ac7121b9"
      },
      "execution_count": 146,
      "outputs": [
        {
          "output_type": "execute_result",
          "data": {
            "text/plain": [
              "(0, 255)"
            ]
          },
          "metadata": {},
          "execution_count": 146
        }
      ]
    },
    {
      "cell_type": "markdown",
      "source": [
        "neural networks prefer data to be normalized, that is they work on finding patterns between 0s and 1s ,\n",
        "\n",
        "thus 255 is a bigger set nd finding pattern in these would be too difficult\n",
        "\n",
        "\n",
        "\n",
        "---\n",
        "Thus to normalize, \n",
        "\n",
        "We can get these values between 0 and 1 by dividing the entire array by the maximum: 255.0 (dividing by a float also converts to a float).\n"
      ],
      "metadata": {
        "id": "lJkgmrdPFKWT"
      }
    },
    {
      "cell_type": "code",
      "source": [
        "# before, train_data f a single image looks like\n",
        "train_data[0]"
      ],
      "metadata": {
        "colab": {
          "base_uri": "https://localhost:8080/"
        },
        "id": "jZzljyVjHnoQ",
        "outputId": "d987de65-4a10-429d-bec4-337cb560c60b"
      },
      "execution_count": 147,
      "outputs": [
        {
          "output_type": "execute_result",
          "data": {
            "text/plain": [
              "array([[  0,   0,   0,   0,   0,   0,   0,   0,   0,   0,   0,   0,   0,\n",
              "          0,   0,   0,   0,   0,   0,   0,   0,   0,   0,   0,   0,   0,\n",
              "          0,   0],\n",
              "       [  0,   0,   0,   0,   0,   0,   0,   0,   0,   0,   0,   0,   0,\n",
              "          0,   0,   0,   0,   0,   0,   0,   0,   0,   0,   0,   0,   0,\n",
              "          0,   0],\n",
              "       [  0,   0,   0,   0,   0,   0,   0,   0,   0,   0,   0,   0,   0,\n",
              "          0,   0,   0,   0,   0,   0,   0,   0,   0,   0,   0,   0,   0,\n",
              "          0,   0],\n",
              "       [  0,   0,   0,   0,   0,   0,   0,   0,   0,   0,   0,   0,   1,\n",
              "          0,   0,  13,  73,   0,   0,   1,   4,   0,   0,   0,   0,   1,\n",
              "          1,   0],\n",
              "       [  0,   0,   0,   0,   0,   0,   0,   0,   0,   0,   0,   0,   3,\n",
              "          0,  36, 136, 127,  62,  54,   0,   0,   0,   1,   3,   4,   0,\n",
              "          0,   3],\n",
              "       [  0,   0,   0,   0,   0,   0,   0,   0,   0,   0,   0,   0,   6,\n",
              "          0, 102, 204, 176, 134, 144, 123,  23,   0,   0,   0,   0,  12,\n",
              "         10,   0],\n",
              "       [  0,   0,   0,   0,   0,   0,   0,   0,   0,   0,   0,   0,   0,\n",
              "          0, 155, 236, 207, 178, 107, 156, 161, 109,  64,  23,  77, 130,\n",
              "         72,  15],\n",
              "       [  0,   0,   0,   0,   0,   0,   0,   0,   0,   0,   0,   1,   0,\n",
              "         69, 207, 223, 218, 216, 216, 163, 127, 121, 122, 146, 141,  88,\n",
              "        172,  66],\n",
              "       [  0,   0,   0,   0,   0,   0,   0,   0,   0,   1,   1,   1,   0,\n",
              "        200, 232, 232, 233, 229, 223, 223, 215, 213, 164, 127, 123, 196,\n",
              "        229,   0],\n",
              "       [  0,   0,   0,   0,   0,   0,   0,   0,   0,   0,   0,   0,   0,\n",
              "        183, 225, 216, 223, 228, 235, 227, 224, 222, 224, 221, 223, 245,\n",
              "        173,   0],\n",
              "       [  0,   0,   0,   0,   0,   0,   0,   0,   0,   0,   0,   0,   0,\n",
              "        193, 228, 218, 213, 198, 180, 212, 210, 211, 213, 223, 220, 243,\n",
              "        202,   0],\n",
              "       [  0,   0,   0,   0,   0,   0,   0,   0,   0,   1,   3,   0,  12,\n",
              "        219, 220, 212, 218, 192, 169, 227, 208, 218, 224, 212, 226, 197,\n",
              "        209,  52],\n",
              "       [  0,   0,   0,   0,   0,   0,   0,   0,   0,   0,   6,   0,  99,\n",
              "        244, 222, 220, 218, 203, 198, 221, 215, 213, 222, 220, 245, 119,\n",
              "        167,  56],\n",
              "       [  0,   0,   0,   0,   0,   0,   0,   0,   0,   4,   0,   0,  55,\n",
              "        236, 228, 230, 228, 240, 232, 213, 218, 223, 234, 217, 217, 209,\n",
              "         92,   0],\n",
              "       [  0,   0,   1,   4,   6,   7,   2,   0,   0,   0,   0,   0, 237,\n",
              "        226, 217, 223, 222, 219, 222, 221, 216, 223, 229, 215, 218, 255,\n",
              "         77,   0],\n",
              "       [  0,   3,   0,   0,   0,   0,   0,   0,   0,  62, 145, 204, 228,\n",
              "        207, 213, 221, 218, 208, 211, 218, 224, 223, 219, 215, 224, 244,\n",
              "        159,   0],\n",
              "       [  0,   0,   0,   0,  18,  44,  82, 107, 189, 228, 220, 222, 217,\n",
              "        226, 200, 205, 211, 230, 224, 234, 176, 188, 250, 248, 233, 238,\n",
              "        215,   0],\n",
              "       [  0,  57, 187, 208, 224, 221, 224, 208, 204, 214, 208, 209, 200,\n",
              "        159, 245, 193, 206, 223, 255, 255, 221, 234, 221, 211, 220, 232,\n",
              "        246,   0],\n",
              "       [  3, 202, 228, 224, 221, 211, 211, 214, 205, 205, 205, 220, 240,\n",
              "         80, 150, 255, 229, 221, 188, 154, 191, 210, 204, 209, 222, 228,\n",
              "        225,   0],\n",
              "       [ 98, 233, 198, 210, 222, 229, 229, 234, 249, 220, 194, 215, 217,\n",
              "        241,  65,  73, 106, 117, 168, 219, 221, 215, 217, 223, 223, 224,\n",
              "        229,  29],\n",
              "       [ 75, 204, 212, 204, 193, 205, 211, 225, 216, 185, 197, 206, 198,\n",
              "        213, 240, 195, 227, 245, 239, 223, 218, 212, 209, 222, 220, 221,\n",
              "        230,  67],\n",
              "       [ 48, 203, 183, 194, 213, 197, 185, 190, 194, 192, 202, 214, 219,\n",
              "        221, 220, 236, 225, 216, 199, 206, 186, 181, 177, 172, 181, 205,\n",
              "        206, 115],\n",
              "       [  0, 122, 219, 193, 179, 171, 183, 196, 204, 210, 213, 207, 211,\n",
              "        210, 200, 196, 194, 191, 195, 191, 198, 192, 176, 156, 167, 177,\n",
              "        210,  92],\n",
              "       [  0,   0,  74, 189, 212, 191, 175, 172, 175, 181, 185, 188, 189,\n",
              "        188, 193, 198, 204, 209, 210, 210, 211, 188, 188, 194, 192, 216,\n",
              "        170,   0],\n",
              "       [  2,   0,   0,   0,  66, 200, 222, 237, 239, 242, 246, 243, 244,\n",
              "        221, 220, 193, 191, 179, 182, 182, 181, 176, 166, 168,  99,  58,\n",
              "          0,   0],\n",
              "       [  0,   0,   0,   0,   0,   0,   0,  40,  61,  44,  72,  41,  35,\n",
              "          0,   0,   0,   0,   0,   0,   0,   0,   0,   0,   0,   0,   0,\n",
              "          0,   0],\n",
              "       [  0,   0,   0,   0,   0,   0,   0,   0,   0,   0,   0,   0,   0,\n",
              "          0,   0,   0,   0,   0,   0,   0,   0,   0,   0,   0,   0,   0,\n",
              "          0,   0],\n",
              "       [  0,   0,   0,   0,   0,   0,   0,   0,   0,   0,   0,   0,   0,\n",
              "          0,   0,   0,   0,   0,   0,   0,   0,   0,   0,   0,   0,   0,\n",
              "          0,   0]], dtype=uint8)"
            ]
          },
          "metadata": {},
          "execution_count": 147
        }
      ]
    },
    {
      "cell_type": "code",
      "source": [
        "train_data = train_data / 255.0\n",
        "test_data = test_data / 255.0\n",
        "\n",
        "# Check the min and max values of the training data\n",
        "train_data.min(), train_data.max()\n"
      ],
      "metadata": {
        "colab": {
          "base_uri": "https://localhost:8080/"
        },
        "id": "iUkGpA9QFrRO",
        "outputId": "a226a49e-e94a-4dbe-e185-c0e4622dfaaa"
      },
      "execution_count": 148,
      "outputs": [
        {
          "output_type": "execute_result",
          "data": {
            "text/plain": [
              "(0.0, 1.0)"
            ]
          },
          "metadata": {},
          "execution_count": 148
        }
      ]
    },
    {
      "cell_type": "code",
      "source": [
        "train_data[0] # the folowing is the data of just a single image\n"
      ],
      "metadata": {
        "colab": {
          "base_uri": "https://localhost:8080/"
        },
        "id": "CyGa7MrZGbgM",
        "outputId": "3204a253-b4b9-4aa0-cbae-18311c2402bc"
      },
      "execution_count": 149,
      "outputs": [
        {
          "output_type": "execute_result",
          "data": {
            "text/plain": [
              "array([[0.        , 0.        , 0.        , 0.        , 0.        ,\n",
              "        0.        , 0.        , 0.        , 0.        , 0.        ,\n",
              "        0.        , 0.        , 0.        , 0.        , 0.        ,\n",
              "        0.        , 0.        , 0.        , 0.        , 0.        ,\n",
              "        0.        , 0.        , 0.        , 0.        , 0.        ,\n",
              "        0.        , 0.        , 0.        ],\n",
              "       [0.        , 0.        , 0.        , 0.        , 0.        ,\n",
              "        0.        , 0.        , 0.        , 0.        , 0.        ,\n",
              "        0.        , 0.        , 0.        , 0.        , 0.        ,\n",
              "        0.        , 0.        , 0.        , 0.        , 0.        ,\n",
              "        0.        , 0.        , 0.        , 0.        , 0.        ,\n",
              "        0.        , 0.        , 0.        ],\n",
              "       [0.        , 0.        , 0.        , 0.        , 0.        ,\n",
              "        0.        , 0.        , 0.        , 0.        , 0.        ,\n",
              "        0.        , 0.        , 0.        , 0.        , 0.        ,\n",
              "        0.        , 0.        , 0.        , 0.        , 0.        ,\n",
              "        0.        , 0.        , 0.        , 0.        , 0.        ,\n",
              "        0.        , 0.        , 0.        ],\n",
              "       [0.        , 0.        , 0.        , 0.        , 0.        ,\n",
              "        0.        , 0.        , 0.        , 0.        , 0.        ,\n",
              "        0.        , 0.        , 0.00392157, 0.        , 0.        ,\n",
              "        0.05098039, 0.28627451, 0.        , 0.        , 0.00392157,\n",
              "        0.01568627, 0.        , 0.        , 0.        , 0.        ,\n",
              "        0.00392157, 0.00392157, 0.        ],\n",
              "       [0.        , 0.        , 0.        , 0.        , 0.        ,\n",
              "        0.        , 0.        , 0.        , 0.        , 0.        ,\n",
              "        0.        , 0.        , 0.01176471, 0.        , 0.14117647,\n",
              "        0.53333333, 0.49803922, 0.24313725, 0.21176471, 0.        ,\n",
              "        0.        , 0.        , 0.00392157, 0.01176471, 0.01568627,\n",
              "        0.        , 0.        , 0.01176471],\n",
              "       [0.        , 0.        , 0.        , 0.        , 0.        ,\n",
              "        0.        , 0.        , 0.        , 0.        , 0.        ,\n",
              "        0.        , 0.        , 0.02352941, 0.        , 0.4       ,\n",
              "        0.8       , 0.69019608, 0.5254902 , 0.56470588, 0.48235294,\n",
              "        0.09019608, 0.        , 0.        , 0.        , 0.        ,\n",
              "        0.04705882, 0.03921569, 0.        ],\n",
              "       [0.        , 0.        , 0.        , 0.        , 0.        ,\n",
              "        0.        , 0.        , 0.        , 0.        , 0.        ,\n",
              "        0.        , 0.        , 0.        , 0.        , 0.60784314,\n",
              "        0.9254902 , 0.81176471, 0.69803922, 0.41960784, 0.61176471,\n",
              "        0.63137255, 0.42745098, 0.25098039, 0.09019608, 0.30196078,\n",
              "        0.50980392, 0.28235294, 0.05882353],\n",
              "       [0.        , 0.        , 0.        , 0.        , 0.        ,\n",
              "        0.        , 0.        , 0.        , 0.        , 0.        ,\n",
              "        0.        , 0.00392157, 0.        , 0.27058824, 0.81176471,\n",
              "        0.8745098 , 0.85490196, 0.84705882, 0.84705882, 0.63921569,\n",
              "        0.49803922, 0.4745098 , 0.47843137, 0.57254902, 0.55294118,\n",
              "        0.34509804, 0.6745098 , 0.25882353],\n",
              "       [0.        , 0.        , 0.        , 0.        , 0.        ,\n",
              "        0.        , 0.        , 0.        , 0.        , 0.00392157,\n",
              "        0.00392157, 0.00392157, 0.        , 0.78431373, 0.90980392,\n",
              "        0.90980392, 0.91372549, 0.89803922, 0.8745098 , 0.8745098 ,\n",
              "        0.84313725, 0.83529412, 0.64313725, 0.49803922, 0.48235294,\n",
              "        0.76862745, 0.89803922, 0.        ],\n",
              "       [0.        , 0.        , 0.        , 0.        , 0.        ,\n",
              "        0.        , 0.        , 0.        , 0.        , 0.        ,\n",
              "        0.        , 0.        , 0.        , 0.71764706, 0.88235294,\n",
              "        0.84705882, 0.8745098 , 0.89411765, 0.92156863, 0.89019608,\n",
              "        0.87843137, 0.87058824, 0.87843137, 0.86666667, 0.8745098 ,\n",
              "        0.96078431, 0.67843137, 0.        ],\n",
              "       [0.        , 0.        , 0.        , 0.        , 0.        ,\n",
              "        0.        , 0.        , 0.        , 0.        , 0.        ,\n",
              "        0.        , 0.        , 0.        , 0.75686275, 0.89411765,\n",
              "        0.85490196, 0.83529412, 0.77647059, 0.70588235, 0.83137255,\n",
              "        0.82352941, 0.82745098, 0.83529412, 0.8745098 , 0.8627451 ,\n",
              "        0.95294118, 0.79215686, 0.        ],\n",
              "       [0.        , 0.        , 0.        , 0.        , 0.        ,\n",
              "        0.        , 0.        , 0.        , 0.        , 0.00392157,\n",
              "        0.01176471, 0.        , 0.04705882, 0.85882353, 0.8627451 ,\n",
              "        0.83137255, 0.85490196, 0.75294118, 0.6627451 , 0.89019608,\n",
              "        0.81568627, 0.85490196, 0.87843137, 0.83137255, 0.88627451,\n",
              "        0.77254902, 0.81960784, 0.20392157],\n",
              "       [0.        , 0.        , 0.        , 0.        , 0.        ,\n",
              "        0.        , 0.        , 0.        , 0.        , 0.        ,\n",
              "        0.02352941, 0.        , 0.38823529, 0.95686275, 0.87058824,\n",
              "        0.8627451 , 0.85490196, 0.79607843, 0.77647059, 0.86666667,\n",
              "        0.84313725, 0.83529412, 0.87058824, 0.8627451 , 0.96078431,\n",
              "        0.46666667, 0.65490196, 0.21960784],\n",
              "       [0.        , 0.        , 0.        , 0.        , 0.        ,\n",
              "        0.        , 0.        , 0.        , 0.        , 0.01568627,\n",
              "        0.        , 0.        , 0.21568627, 0.9254902 , 0.89411765,\n",
              "        0.90196078, 0.89411765, 0.94117647, 0.90980392, 0.83529412,\n",
              "        0.85490196, 0.8745098 , 0.91764706, 0.85098039, 0.85098039,\n",
              "        0.81960784, 0.36078431, 0.        ],\n",
              "       [0.        , 0.        , 0.00392157, 0.01568627, 0.02352941,\n",
              "        0.02745098, 0.00784314, 0.        , 0.        , 0.        ,\n",
              "        0.        , 0.        , 0.92941176, 0.88627451, 0.85098039,\n",
              "        0.8745098 , 0.87058824, 0.85882353, 0.87058824, 0.86666667,\n",
              "        0.84705882, 0.8745098 , 0.89803922, 0.84313725, 0.85490196,\n",
              "        1.        , 0.30196078, 0.        ],\n",
              "       [0.        , 0.01176471, 0.        , 0.        , 0.        ,\n",
              "        0.        , 0.        , 0.        , 0.        , 0.24313725,\n",
              "        0.56862745, 0.8       , 0.89411765, 0.81176471, 0.83529412,\n",
              "        0.86666667, 0.85490196, 0.81568627, 0.82745098, 0.85490196,\n",
              "        0.87843137, 0.8745098 , 0.85882353, 0.84313725, 0.87843137,\n",
              "        0.95686275, 0.62352941, 0.        ],\n",
              "       [0.        , 0.        , 0.        , 0.        , 0.07058824,\n",
              "        0.17254902, 0.32156863, 0.41960784, 0.74117647, 0.89411765,\n",
              "        0.8627451 , 0.87058824, 0.85098039, 0.88627451, 0.78431373,\n",
              "        0.80392157, 0.82745098, 0.90196078, 0.87843137, 0.91764706,\n",
              "        0.69019608, 0.7372549 , 0.98039216, 0.97254902, 0.91372549,\n",
              "        0.93333333, 0.84313725, 0.        ],\n",
              "       [0.        , 0.22352941, 0.73333333, 0.81568627, 0.87843137,\n",
              "        0.86666667, 0.87843137, 0.81568627, 0.8       , 0.83921569,\n",
              "        0.81568627, 0.81960784, 0.78431373, 0.62352941, 0.96078431,\n",
              "        0.75686275, 0.80784314, 0.8745098 , 1.        , 1.        ,\n",
              "        0.86666667, 0.91764706, 0.86666667, 0.82745098, 0.8627451 ,\n",
              "        0.90980392, 0.96470588, 0.        ],\n",
              "       [0.01176471, 0.79215686, 0.89411765, 0.87843137, 0.86666667,\n",
              "        0.82745098, 0.82745098, 0.83921569, 0.80392157, 0.80392157,\n",
              "        0.80392157, 0.8627451 , 0.94117647, 0.31372549, 0.58823529,\n",
              "        1.        , 0.89803922, 0.86666667, 0.7372549 , 0.60392157,\n",
              "        0.74901961, 0.82352941, 0.8       , 0.81960784, 0.87058824,\n",
              "        0.89411765, 0.88235294, 0.        ],\n",
              "       [0.38431373, 0.91372549, 0.77647059, 0.82352941, 0.87058824,\n",
              "        0.89803922, 0.89803922, 0.91764706, 0.97647059, 0.8627451 ,\n",
              "        0.76078431, 0.84313725, 0.85098039, 0.94509804, 0.25490196,\n",
              "        0.28627451, 0.41568627, 0.45882353, 0.65882353, 0.85882353,\n",
              "        0.86666667, 0.84313725, 0.85098039, 0.8745098 , 0.8745098 ,\n",
              "        0.87843137, 0.89803922, 0.11372549],\n",
              "       [0.29411765, 0.8       , 0.83137255, 0.8       , 0.75686275,\n",
              "        0.80392157, 0.82745098, 0.88235294, 0.84705882, 0.7254902 ,\n",
              "        0.77254902, 0.80784314, 0.77647059, 0.83529412, 0.94117647,\n",
              "        0.76470588, 0.89019608, 0.96078431, 0.9372549 , 0.8745098 ,\n",
              "        0.85490196, 0.83137255, 0.81960784, 0.87058824, 0.8627451 ,\n",
              "        0.86666667, 0.90196078, 0.2627451 ],\n",
              "       [0.18823529, 0.79607843, 0.71764706, 0.76078431, 0.83529412,\n",
              "        0.77254902, 0.7254902 , 0.74509804, 0.76078431, 0.75294118,\n",
              "        0.79215686, 0.83921569, 0.85882353, 0.86666667, 0.8627451 ,\n",
              "        0.9254902 , 0.88235294, 0.84705882, 0.78039216, 0.80784314,\n",
              "        0.72941176, 0.70980392, 0.69411765, 0.6745098 , 0.70980392,\n",
              "        0.80392157, 0.80784314, 0.45098039],\n",
              "       [0.        , 0.47843137, 0.85882353, 0.75686275, 0.70196078,\n",
              "        0.67058824, 0.71764706, 0.76862745, 0.8       , 0.82352941,\n",
              "        0.83529412, 0.81176471, 0.82745098, 0.82352941, 0.78431373,\n",
              "        0.76862745, 0.76078431, 0.74901961, 0.76470588, 0.74901961,\n",
              "        0.77647059, 0.75294118, 0.69019608, 0.61176471, 0.65490196,\n",
              "        0.69411765, 0.82352941, 0.36078431],\n",
              "       [0.        , 0.        , 0.29019608, 0.74117647, 0.83137255,\n",
              "        0.74901961, 0.68627451, 0.6745098 , 0.68627451, 0.70980392,\n",
              "        0.7254902 , 0.7372549 , 0.74117647, 0.7372549 , 0.75686275,\n",
              "        0.77647059, 0.8       , 0.81960784, 0.82352941, 0.82352941,\n",
              "        0.82745098, 0.7372549 , 0.7372549 , 0.76078431, 0.75294118,\n",
              "        0.84705882, 0.66666667, 0.        ],\n",
              "       [0.00784314, 0.        , 0.        , 0.        , 0.25882353,\n",
              "        0.78431373, 0.87058824, 0.92941176, 0.9372549 , 0.94901961,\n",
              "        0.96470588, 0.95294118, 0.95686275, 0.86666667, 0.8627451 ,\n",
              "        0.75686275, 0.74901961, 0.70196078, 0.71372549, 0.71372549,\n",
              "        0.70980392, 0.69019608, 0.65098039, 0.65882353, 0.38823529,\n",
              "        0.22745098, 0.        , 0.        ],\n",
              "       [0.        , 0.        , 0.        , 0.        , 0.        ,\n",
              "        0.        , 0.        , 0.15686275, 0.23921569, 0.17254902,\n",
              "        0.28235294, 0.16078431, 0.1372549 , 0.        , 0.        ,\n",
              "        0.        , 0.        , 0.        , 0.        , 0.        ,\n",
              "        0.        , 0.        , 0.        , 0.        , 0.        ,\n",
              "        0.        , 0.        , 0.        ],\n",
              "       [0.        , 0.        , 0.        , 0.        , 0.        ,\n",
              "        0.        , 0.        , 0.        , 0.        , 0.        ,\n",
              "        0.        , 0.        , 0.        , 0.        , 0.        ,\n",
              "        0.        , 0.        , 0.        , 0.        , 0.        ,\n",
              "        0.        , 0.        , 0.        , 0.        , 0.        ,\n",
              "        0.        , 0.        , 0.        ],\n",
              "       [0.        , 0.        , 0.        , 0.        , 0.        ,\n",
              "        0.        , 0.        , 0.        , 0.        , 0.        ,\n",
              "        0.        , 0.        , 0.        , 0.        , 0.        ,\n",
              "        0.        , 0.        , 0.        , 0.        , 0.        ,\n",
              "        0.        , 0.        , 0.        , 0.        , 0.        ,\n",
              "        0.        , 0.        , 0.        ]])"
            ]
          },
          "metadata": {},
          "execution_count": 149
        }
      ]
    },
    {
      "cell_type": "code",
      "source": [
        "train_data.size, train_labels.size, test_data.size \n",
        "# train_data size will be 28*28*6, coz the picture is 28 X 28 pixels\n",
        "# nd number of images is 60000, thus size of data is 47040000"
      ],
      "metadata": {
        "colab": {
          "base_uri": "https://localhost:8080/"
        },
        "id": "ULdqqm24J53J",
        "outputId": "c7924de7-2321-4f8e-b5fb-c52229850ce6"
      },
      "execution_count": 150,
      "outputs": [
        {
          "output_type": "execute_result",
          "data": {
            "text/plain": [
              "(47040000, 60000, 7840000)"
            ]
          },
          "metadata": {},
          "execution_count": 150
        }
      ]
    },
    {
      "cell_type": "code",
      "source": [
        "## making model_12 similar to model_11 just the training datasets are the new ones\n",
        "\n",
        "\n",
        "tf.random.set_seed(42)\n",
        "\n",
        "# Create the model\n",
        "model_12 = tf.keras.Sequential([\n",
        "  tf.keras.layers.Flatten(input_shape=(28, 28)), # input layer (we had to reshape 28x28 to 784)\n",
        "  tf.keras.layers.Dense(4, activation=\"relu\"),\n",
        "  tf.keras.layers.Dense(4, activation=\"relu\"),\n",
        "  tf.keras.layers.Dense(10, activation=\"softmax\") # output shape is 10, activation is softmax\n",
        "])\n",
        "\n",
        "# Compile the model\n",
        "model_12.compile(loss=tf.keras.losses.SparseCategoricalCrossentropy(),\n",
        "                 optimizer=tf.keras.optimizers.Adam(),\n",
        "                 metrics=[\"accuracy\"])\n",
        "\n",
        "# Fit the model (to the normalized data)\n",
        "norm_history = model_12.fit(train_data,\n",
        "                            train_labels,\n",
        "                            epochs=20,\n",
        "                            validation_data=(test_data, test_labels))"
      ],
      "metadata": {
        "colab": {
          "base_uri": "https://localhost:8080/"
        },
        "id": "m-iVoeTUGh4q",
        "outputId": "aa230a8e-507a-42f0-d31f-30b4c8aabc1b"
      },
      "execution_count": 151,
      "outputs": [
        {
          "output_type": "stream",
          "name": "stdout",
          "text": [
            "Epoch 1/20\n",
            "1875/1875 [==============================] - 3s 2ms/step - loss: 1.4872 - accuracy: 0.4230 - val_loss: 1.1822 - val_accuracy: 0.5208\n",
            "Epoch 2/20\n",
            "1875/1875 [==============================] - 3s 1ms/step - loss: 1.0807 - accuracy: 0.5685 - val_loss: 1.0311 - val_accuracy: 0.6036\n",
            "Epoch 3/20\n",
            "1875/1875 [==============================] - 3s 2ms/step - loss: 0.9546 - accuracy: 0.6302 - val_loss: 0.9631 - val_accuracy: 0.6274\n",
            "Epoch 4/20\n",
            "1875/1875 [==============================] - 3s 1ms/step - loss: 0.8945 - accuracy: 0.6506 - val_loss: 0.9000 - val_accuracy: 0.6520\n",
            "Epoch 5/20\n",
            "1875/1875 [==============================] - 3s 1ms/step - loss: 0.8565 - accuracy: 0.6663 - val_loss: 0.8700 - val_accuracy: 0.6555\n",
            "Epoch 6/20\n",
            "1875/1875 [==============================] - 3s 1ms/step - loss: 0.8266 - accuracy: 0.6862 - val_loss: 0.8809 - val_accuracy: 0.6873\n",
            "Epoch 7/20\n",
            "1875/1875 [==============================] - 3s 2ms/step - loss: 0.7938 - accuracy: 0.7163 - val_loss: 0.8229 - val_accuracy: 0.7082\n",
            "Epoch 8/20\n",
            "1875/1875 [==============================] - 3s 1ms/step - loss: 0.7689 - accuracy: 0.7251 - val_loss: 0.7924 - val_accuracy: 0.7202\n",
            "Epoch 9/20\n",
            "1875/1875 [==============================] - 3s 1ms/step - loss: 0.7534 - accuracy: 0.7311 - val_loss: 0.8235 - val_accuracy: 0.6979\n",
            "Epoch 10/20\n",
            "1875/1875 [==============================] - 3s 1ms/step - loss: 0.7424 - accuracy: 0.7327 - val_loss: 0.7930 - val_accuracy: 0.7149\n",
            "Epoch 11/20\n",
            "1875/1875 [==============================] - 3s 2ms/step - loss: 0.7335 - accuracy: 0.7350 - val_loss: 0.7862 - val_accuracy: 0.7192\n",
            "Epoch 12/20\n",
            "1875/1875 [==============================] - 3s 1ms/step - loss: 0.7275 - accuracy: 0.7352 - val_loss: 0.8007 - val_accuracy: 0.7054\n",
            "Epoch 13/20\n",
            "1875/1875 [==============================] - 3s 1ms/step - loss: 0.7223 - accuracy: 0.7378 - val_loss: 0.7651 - val_accuracy: 0.7247\n",
            "Epoch 14/20\n",
            "1875/1875 [==============================] - 3s 1ms/step - loss: 0.7190 - accuracy: 0.7383 - val_loss: 0.7608 - val_accuracy: 0.7260\n",
            "Epoch 15/20\n",
            "1875/1875 [==============================] - 3s 2ms/step - loss: 0.7128 - accuracy: 0.7391 - val_loss: 0.7633 - val_accuracy: 0.7229\n",
            "Epoch 16/20\n",
            "1875/1875 [==============================] - 3s 1ms/step - loss: 0.7124 - accuracy: 0.7398 - val_loss: 0.7505 - val_accuracy: 0.7345\n",
            "Epoch 17/20\n",
            "1875/1875 [==============================] - 3s 1ms/step - loss: 0.7086 - accuracy: 0.7409 - val_loss: 0.7480 - val_accuracy: 0.7359\n",
            "Epoch 18/20\n",
            "1875/1875 [==============================] - 3s 1ms/step - loss: 0.7055 - accuracy: 0.7408 - val_loss: 0.7457 - val_accuracy: 0.7339\n",
            "Epoch 19/20\n",
            "1875/1875 [==============================] - 4s 2ms/step - loss: 0.7045 - accuracy: 0.7422 - val_loss: 0.7594 - val_accuracy: 0.7239\n",
            "Epoch 20/20\n",
            "1875/1875 [==============================] - 3s 1ms/step - loss: 0.7012 - accuracy: 0.7423 - val_loss: 0.7482 - val_accuracy: 0.7388\n"
          ]
        }
      ]
    },
    {
      "cell_type": "code",
      "source": [
        "import pandas as pd\n",
        "\n",
        "\n",
        "pd.DataFrame(non_norm_history.history).plot(title=\"Non-normalized Data\") # for model_11\n",
        "plt.axis(False)\n",
        "\n",
        "pd.DataFrame(norm_history.history).plot(title=\"Normalized data\") # for model_12\n",
        "plt.axis(False)"
      ],
      "metadata": {
        "colab": {
          "base_uri": "https://localhost:8080/",
          "height": 857
        },
        "id": "4nSrMqTLIbFC",
        "outputId": "a99ae0d4-9905-4601-e8ce-166804c7aa3b"
      },
      "execution_count": 152,
      "outputs": [
        {
          "output_type": "execute_result",
          "data": {
            "text/plain": [
              "(-0.9500000000000001, 19.95, 0.3697918191552162, 1.5403719708323478)"
            ]
          },
          "metadata": {},
          "execution_count": 152
        },
        {
          "output_type": "display_data",
          "data": {
            "text/plain": [
              "<Figure size 640x480 with 1 Axes>"
            ],
            "image/png": "[encoded data removed]"
          },
          "metadata": {}
        },
        {
          "output_type": "display_data",
          "data": {
            "text/plain": [
              "<Figure size 640x480 with 1 Axes>"
            ],
            "image/png": "[encoded data removed]"
          },
          "metadata": {}
        }
      ]
    },
    {
      "cell_type": "markdown",
      "source": [
        "🔑 Note: The same model with even slightly different data can produce dramatically different results. So when you're comparing models, it's important to make sure you're comparing them on the same criteria (e.g. same architecture but different data or same data but different architecture)."
      ],
      "metadata": {
        "id": "P40LQr46N_u-"
      }
    },
    {
      "cell_type": "code",
      "source": [
        "# Set random seed\n",
        "tf.random.set_seed(42)\n",
        "\n",
        "# Create the model\n",
        "model_13 = tf.keras.Sequential([\n",
        "  tf.keras.layers.Flatten(input_shape=(28, 28)), # input layer (we had to reshape 28x28 to 784)\n",
        "  tf.keras.layers.Dense(4, activation=\"relu\"),\n",
        "  tf.keras.layers.Dense(4, activation=\"relu\"),\n",
        "  tf.keras.layers.Dense(10, activation=\"softmax\") # output shape is 10, activation is softmax\n",
        "])\n",
        "\n",
        "# Compile the model\n",
        "model_13.compile(loss=tf.keras.losses.SparseCategoricalCrossentropy(),\n",
        "                 optimizer=tf.keras.optimizers.Adam(),\n",
        "                 metrics=[\"accuracy\"])\n",
        "\n",
        "# Create the learning rate callback\n",
        "lr_scheduler = tf.keras.callbacks.LearningRateScheduler(lambda epoch: 1e-3 * 10**(epoch/20)) ## learn this line\n",
        "\n",
        "# Fit the model\n",
        "find_lr_history = model_13.fit(train_data,\n",
        "                               train_labels,\n",
        "                               epochs=40, # model already doing pretty good with current LR, probably don't need 100 epochs\n",
        "                               validation_data=(test_data, test_labels),\n",
        "\n",
        "                               callbacks=[lr_scheduler]) # this as well"
      ],
      "metadata": {
        "colab": {
          "base_uri": "https://localhost:8080/"
        },
        "id": "fgpadK4AP7gW",
        "outputId": "821e1369-95d2-4e19-e126-056a2952fa1e"
      },
      "execution_count": 153,
      "outputs": [
        {
          "output_type": "stream",
          "name": "stdout",
          "text": [
            "Epoch 1/40\n",
            "1875/1875 [==============================] - 4s 2ms/step - loss: 1.2224 - accuracy: 0.5360 - val_loss: 0.8638 - val_accuracy: 0.6687 - lr: 0.0010\n",
            "Epoch 2/40\n",
            "1875/1875 [==============================] - 3s 1ms/step - loss: 0.7391 - accuracy: 0.7285 - val_loss: 0.7197 - val_accuracy: 0.7476 - lr: 0.0011\n",
            "Epoch 3/40\n",
            "1875/1875 [==============================] - 3s 2ms/step - loss: 0.6471 - accuracy: 0.7706 - val_loss: 0.6301 - val_accuracy: 0.7813 - lr: 0.0013\n",
            "Epoch 4/40\n",
            "1875/1875 [==============================] - 3s 1ms/step - loss: 0.5766 - accuracy: 0.7980 - val_loss: 0.5860 - val_accuracy: 0.7986 - lr: 0.0014\n",
            "Epoch 5/40\n",
            "1875/1875 [==============================] - 3s 1ms/step - loss: 0.5465 - accuracy: 0.8086 - val_loss: 0.5783 - val_accuracy: 0.7976 - lr: 0.0016\n",
            "Epoch 6/40\n",
            "1875/1875 [==============================] - 3s 1ms/step - loss: 0.5311 - accuracy: 0.8134 - val_loss: 0.5665 - val_accuracy: 0.8030 - lr: 0.0018\n",
            "Epoch 7/40\n",
            "1875/1875 [==============================] - 3s 2ms/step - loss: 0.5242 - accuracy: 0.8151 - val_loss: 0.5606 - val_accuracy: 0.8065 - lr: 0.0020\n",
            "Epoch 8/40\n",
            "1875/1875 [==============================] - 3s 2ms/step - loss: 0.5183 - accuracy: 0.8196 - val_loss: 0.5531 - val_accuracy: 0.8114 - lr: 0.0022\n",
            "Epoch 9/40\n",
            "1875/1875 [==============================] - 3s 1ms/step - loss: 0.5156 - accuracy: 0.8211 - val_loss: 0.5759 - val_accuracy: 0.8063 - lr: 0.0025\n",
            "Epoch 10/40\n",
            "1875/1875 [==============================] - 3s 1ms/step - loss: 0.5136 - accuracy: 0.8208 - val_loss: 0.5737 - val_accuracy: 0.8045 - lr: 0.0028\n",
            "Epoch 11/40\n",
            "1875/1875 [==============================] - 3s 2ms/step - loss: 0.5144 - accuracy: 0.8210 - val_loss: 0.5481 - val_accuracy: 0.8144 - lr: 0.0032\n",
            "Epoch 12/40\n",
            "1875/1875 [==============================] - 3s 1ms/step - loss: 0.5125 - accuracy: 0.8215 - val_loss: 0.5632 - val_accuracy: 0.8104 - lr: 0.0035\n",
            "Epoch 13/40\n",
            "1875/1875 [==============================] - 3s 1ms/step - loss: 0.5126 - accuracy: 0.8223 - val_loss: 0.5351 - val_accuracy: 0.8182 - lr: 0.0040\n",
            "Epoch 14/40\n",
            "1875/1875 [==============================] - 3s 1ms/step - loss: 0.5115 - accuracy: 0.8219 - val_loss: 0.5604 - val_accuracy: 0.8048 - lr: 0.0045\n",
            "Epoch 15/40\n",
            "1875/1875 [==============================] - 3s 2ms/step - loss: 0.5179 - accuracy: 0.8190 - val_loss: 0.5492 - val_accuracy: 0.8114 - lr: 0.0050\n",
            "Epoch 16/40\n",
            "1875/1875 [==============================] - 3s 1ms/step - loss: 0.5162 - accuracy: 0.8200 - val_loss: 0.5371 - val_accuracy: 0.8191 - lr: 0.0056\n",
            "Epoch 17/40\n",
            "1875/1875 [==============================] - 3s 1ms/step - loss: 0.5148 - accuracy: 0.8191 - val_loss: 0.5561 - val_accuracy: 0.8106 - lr: 0.0063\n",
            "Epoch 18/40\n",
            "1875/1875 [==============================] - 3s 2ms/step - loss: 0.5185 - accuracy: 0.8190 - val_loss: 0.5430 - val_accuracy: 0.8161 - lr: 0.0071\n",
            "Epoch 19/40\n",
            "1875/1875 [==============================] - 3s 2ms/step - loss: 0.5244 - accuracy: 0.8169 - val_loss: 0.5524 - val_accuracy: 0.8085 - lr: 0.0079\n",
            "Epoch 20/40\n",
            "1875/1875 [==============================] - 3s 1ms/step - loss: 0.5272 - accuracy: 0.8167 - val_loss: 0.5527 - val_accuracy: 0.8130 - lr: 0.0089\n",
            "Epoch 21/40\n",
            "1875/1875 [==============================] - 3s 1ms/step - loss: 0.5290 - accuracy: 0.8158 - val_loss: 0.5957 - val_accuracy: 0.7920 - lr: 0.0100\n",
            "Epoch 22/40\n",
            "1875/1875 [==============================] - 3s 2ms/step - loss: 0.5347 - accuracy: 0.8119 - val_loss: 0.5918 - val_accuracy: 0.8025 - lr: 0.0112\n",
            "Epoch 23/40\n",
            "1875/1875 [==============================] - 3s 2ms/step - loss: 0.5376 - accuracy: 0.8136 - val_loss: 0.6061 - val_accuracy: 0.7922 - lr: 0.0126\n",
            "Epoch 24/40\n",
            "1875/1875 [==============================] - 3s 2ms/step - loss: 0.5460 - accuracy: 0.8111 - val_loss: 0.6273 - val_accuracy: 0.7878 - lr: 0.0141\n",
            "Epoch 25/40\n",
            "1875/1875 [==============================] - 3s 2ms/step - loss: 0.5521 - accuracy: 0.8082 - val_loss: 0.5889 - val_accuracy: 0.8005 - lr: 0.0158\n",
            "Epoch 26/40\n",
            "1875/1875 [==============================] - 3s 1ms/step - loss: 0.5671 - accuracy: 0.8005 - val_loss: 0.6426 - val_accuracy: 0.7827 - lr: 0.0178\n",
            "Epoch 27/40\n",
            "1875/1875 [==============================] - 3s 2ms/step - loss: 0.5774 - accuracy: 0.7996 - val_loss: 0.5789 - val_accuracy: 0.8061 - lr: 0.0200\n",
            "Epoch 28/40\n",
            "1875/1875 [==============================] - 3s 2ms/step - loss: 0.5856 - accuracy: 0.7961 - val_loss: 0.6536 - val_accuracy: 0.7769 - lr: 0.0224\n",
            "Epoch 29/40\n",
            "1875/1875 [==============================] - 3s 1ms/step - loss: 0.6024 - accuracy: 0.7912 - val_loss: 0.6408 - val_accuracy: 0.7870 - lr: 0.0251\n",
            "Epoch 30/40\n",
            "1875/1875 [==============================] - 3s 1ms/step - loss: 0.6278 - accuracy: 0.7820 - val_loss: 0.6378 - val_accuracy: 0.7846 - lr: 0.0282\n",
            "Epoch 31/40\n",
            "1875/1875 [==============================] - 4s 2ms/step - loss: 0.6579 - accuracy: 0.7708 - val_loss: 0.7765 - val_accuracy: 0.6712 - lr: 0.0316\n",
            "Epoch 32/40\n",
            "1875/1875 [==============================] - 3s 1ms/step - loss: 0.6808 - accuracy: 0.7626 - val_loss: 0.8489 - val_accuracy: 0.7388 - lr: 0.0355\n",
            "Epoch 33/40\n",
            "1875/1875 [==============================] - 3s 2ms/step - loss: 0.7436 - accuracy: 0.7373 - val_loss: 0.9394 - val_accuracy: 0.7143 - lr: 0.0398\n",
            "Epoch 34/40\n",
            "1875/1875 [==============================] - 3s 2ms/step - loss: 0.8409 - accuracy: 0.6894 - val_loss: 0.7806 - val_accuracy: 0.7176 - lr: 0.0447\n",
            "Epoch 35/40\n",
            "1875/1875 [==============================] - 3s 2ms/step - loss: 0.9689 - accuracy: 0.6371 - val_loss: 0.9621 - val_accuracy: 0.6127 - lr: 0.0501\n",
            "Epoch 36/40\n",
            "1875/1875 [==============================] - 3s 2ms/step - loss: 1.0784 - accuracy: 0.5664 - val_loss: 1.0687 - val_accuracy: 0.5645 - lr: 0.0562\n",
            "Epoch 37/40\n",
            "1875/1875 [==============================] - 3s 2ms/step - loss: 1.1782 - accuracy: 0.5047 - val_loss: 1.3276 - val_accuracy: 0.4387 - lr: 0.0631\n",
            "Epoch 38/40\n",
            "1875/1875 [==============================] - 3s 2ms/step - loss: 1.6360 - accuracy: 0.3325 - val_loss: 1.8997 - val_accuracy: 0.1640 - lr: 0.0708\n",
            "Epoch 39/40\n",
            "1875/1875 [==============================] - 3s 2ms/step - loss: 1.7701 - accuracy: 0.1991 - val_loss: 1.7481 - val_accuracy: 0.1995 - lr: 0.0794\n",
            "Epoch 40/40\n",
            "1875/1875 [==============================] - 3s 2ms/step - loss: 1.7939 - accuracy: 0.1976 - val_loss: 1.7825 - val_accuracy: 0.2001 - lr: 0.0891\n"
          ]
        }
      ]
    },
    {
      "cell_type": "code",
      "source": [
        "lrs = 1e-3 * (10**(tf.range(40)/20))\n",
        "plt.semilogx(lrs,find_lr_history.history[\"loss\"])\n",
        "\n",
        "## here x axis is learning_rate and y axis is loss"
      ],
      "metadata": {
        "colab": {
          "base_uri": "https://localhost:8080/",
          "height": 452
        },
        "id": "4pcnfoM8RRTn",
        "outputId": "9ca71f96-f5f5-44e8-b279-3cfa91553aea"
      },
      "execution_count": 154,
      "outputs": [
        {
          "output_type": "execute_result",
          "data": {
            "text/plain": [
              "[<matplotlib.lines.Line2D at 0x7f3069fca1d0>]"
            ]
          },
          "metadata": {},
          "execution_count": 154
        },
        {
          "output_type": "display_data",
          "data": {
            "text/plain": [
              "<Figure size 640x480 with 1 Axes>"
            ],
            "image/png": "[encoded data removed]"
          },
          "metadata": {}
        }
      ]
    },
    {
      "cell_type": "markdown",
      "source": [
        "finding ideal learning rate, we need to find the lowest point and then check where was the graph sharply decreasing\n",
        "\n",
        "here it seems it was 10^-3 i.e. 0.001 which itself is the default lr of adam,\n",
        "\n",
        "so till now model_12 was the best"
      ],
      "metadata": {
        "id": "txc6phT4S5Ue"
      }
    },
    {
      "cell_type": "code",
      "source": [
        "#model 14 will be similar to model_12 just the epochs will be 20\n",
        "\n",
        "# Set random seed\n",
        "tf.random.set_seed(42)\n",
        "\n",
        "# Create the model\n",
        "model_14 = tf.keras.Sequential([\n",
        "  tf.keras.layers.Flatten(input_shape=(28, 28)), # input layer (we had to reshape 28x28 to 784)\n",
        "  tf.keras.layers.Dense(4, activation=\"relu\"),\n",
        "  tf.keras.layers.Dense(4, activation=\"relu\"),\n",
        "  tf.keras.layers.Dense(10, activation=\"softmax\") # output shape is 10, activation is softmax\n",
        "])\n",
        "\n",
        "# Compile the model\n",
        "model_14.compile(loss=tf.keras.losses.SparseCategoricalCrossentropy(),\n",
        "                 optimizer=tf.keras.optimizers.Adam(lr=0.001), # ideal learning rate (same as default)\n",
        "                 metrics=[\"accuracy\"])\n",
        "\n",
        "# Fit the model\n",
        "history = model_14.fit(train_data,\n",
        "                       train_labels,\n",
        "                       epochs=25,\n",
        "                       validation_data=(test_data, test_labels))"
      ],
      "metadata": {
        "colab": {
          "base_uri": "https://localhost:8080/"
        },
        "id": "ZxUKPZ-seI70",
        "outputId": "acd434bd-367d-4853-c119-cf7e6fcdffed"
      },
      "execution_count": 161,
      "outputs": [
        {
          "output_type": "stream",
          "name": "stderr",
          "text": [
            "WARNING:absl:`lr` is deprecated in Keras optimizer, please use `learning_rate` or use the legacy optimizer, e.g.,tf.keras.optimizers.legacy.Adam.\n"
          ]
        },
        {
          "output_type": "stream",
          "name": "stdout",
          "text": [
            "Epoch 1/25\n",
            "1875/1875 [==============================] - 4s 2ms/step - loss: 1.1314 - accuracy: 0.6137 - val_loss: 0.8872 - val_accuracy: 0.6950\n",
            "Epoch 2/25\n",
            "1875/1875 [==============================] - 4s 2ms/step - loss: 0.7968 - accuracy: 0.7262 - val_loss: 0.7526 - val_accuracy: 0.7382\n",
            "Epoch 3/25\n",
            "1875/1875 [==============================] - 3s 2ms/step - loss: 0.6893 - accuracy: 0.7550 - val_loss: 0.6927 - val_accuracy: 0.7540\n",
            "Epoch 4/25\n",
            "1875/1875 [==============================] - 4s 2ms/step - loss: 0.6446 - accuracy: 0.7676 - val_loss: 0.6640 - val_accuracy: 0.7615\n",
            "Epoch 5/25\n",
            "1875/1875 [==============================] - 3s 2ms/step - loss: 0.6221 - accuracy: 0.7726 - val_loss: 0.6318 - val_accuracy: 0.7703\n",
            "Epoch 6/25\n",
            "1875/1875 [==============================] - 3s 1ms/step - loss: 0.6061 - accuracy: 0.7775 - val_loss: 0.6407 - val_accuracy: 0.7692\n",
            "Epoch 7/25\n",
            "1875/1875 [==============================] - 3s 2ms/step - loss: 0.5927 - accuracy: 0.7834 - val_loss: 0.6374 - val_accuracy: 0.7706\n",
            "Epoch 8/25\n",
            "1875/1875 [==============================] - 3s 1ms/step - loss: 0.5817 - accuracy: 0.7905 - val_loss: 0.6084 - val_accuracy: 0.7872\n",
            "Epoch 9/25\n",
            "1875/1875 [==============================] - 3s 1ms/step - loss: 0.5711 - accuracy: 0.7974 - val_loss: 0.6034 - val_accuracy: 0.7884\n",
            "Epoch 10/25\n",
            "1875/1875 [==============================] - 3s 1ms/step - loss: 0.5635 - accuracy: 0.8019 - val_loss: 0.6107 - val_accuracy: 0.7895\n",
            "Epoch 11/25\n",
            "1875/1875 [==============================] - 3s 2ms/step - loss: 0.5570 - accuracy: 0.8062 - val_loss: 0.5930 - val_accuracy: 0.7963\n",
            "Epoch 12/25\n",
            "1875/1875 [==============================] - 3s 1ms/step - loss: 0.5503 - accuracy: 0.8087 - val_loss: 0.5856 - val_accuracy: 0.7998\n",
            "Epoch 13/25\n",
            "1875/1875 [==============================] - 3s 1ms/step - loss: 0.5449 - accuracy: 0.8113 - val_loss: 0.5770 - val_accuracy: 0.8017\n",
            "Epoch 14/25\n",
            "1875/1875 [==============================] - 3s 1ms/step - loss: 0.5402 - accuracy: 0.8141 - val_loss: 0.5845 - val_accuracy: 0.8005\n",
            "Epoch 15/25\n",
            "1875/1875 [==============================] - 3s 2ms/step - loss: 0.5369 - accuracy: 0.8154 - val_loss: 0.5793 - val_accuracy: 0.8030\n",
            "Epoch 16/25\n",
            "1875/1875 [==============================] - 3s 1ms/step - loss: 0.5345 - accuracy: 0.8145 - val_loss: 0.5724 - val_accuracy: 0.8043\n",
            "Epoch 17/25\n",
            "1875/1875 [==============================] - 3s 1ms/step - loss: 0.5299 - accuracy: 0.8163 - val_loss: 0.5903 - val_accuracy: 0.7967\n",
            "Epoch 18/25\n",
            "1875/1875 [==============================] - 3s 1ms/step - loss: 0.5288 - accuracy: 0.8170 - val_loss: 0.5725 - val_accuracy: 0.8018\n",
            "Epoch 19/25\n",
            "1875/1875 [==============================] - 3s 2ms/step - loss: 0.5265 - accuracy: 0.8181 - val_loss: 0.5703 - val_accuracy: 0.8042\n",
            "Epoch 20/25\n",
            "1875/1875 [==============================] - 3s 2ms/step - loss: 0.5245 - accuracy: 0.8187 - val_loss: 0.5884 - val_accuracy: 0.7965\n",
            "Epoch 21/25\n",
            "1875/1875 [==============================] - 3s 1ms/step - loss: 0.5218 - accuracy: 0.8194 - val_loss: 0.5642 - val_accuracy: 0.8060\n",
            "Epoch 22/25\n",
            "1875/1875 [==============================] - 3s 1ms/step - loss: 0.5196 - accuracy: 0.8205 - val_loss: 0.5756 - val_accuracy: 0.8016\n",
            "Epoch 23/25\n",
            "1875/1875 [==============================] - 3s 2ms/step - loss: 0.5185 - accuracy: 0.8221 - val_loss: 0.5804 - val_accuracy: 0.7983\n",
            "Epoch 24/25\n",
            "1875/1875 [==============================] - 3s 2ms/step - loss: 0.5171 - accuracy: 0.8217 - val_loss: 0.5626 - val_accuracy: 0.8064\n",
            "Epoch 25/25\n",
            "1875/1875 [==============================] - 3s 1ms/step - loss: 0.5162 - accuracy: 0.8216 - val_loss: 0.5851 - val_accuracy: 0.7967\n"
          ]
        }
      ]
    },
    {
      "cell_type": "code",
      "source": [
        "y_probs= model_14.predict(test_data)\n",
        "\n",
        "# first 5 predictions are :\n",
        "y_probs[:5]  \n",
        "\n",
        "## explenation of the output ,\n",
        "# the 5 arrays are data of 5 different image prediction result,\n",
        "\n",
        "#let's just take 1, there are 10 values in one, and the values showcase that what could the image of the following probably be\n",
        "\n",
        "# the highest value's index will depict the label, for e.g. in the first, highest alue is at index 7,\n",
        "# thus we will check for the item which has label as 7"
      ],
      "metadata": {
        "colab": {
          "base_uri": "https://localhost:8080/"
        },
        "id": "iTQ9MeMlVhaS",
        "outputId": "a1767f75-b971-410d-863e-557831de35fe"
      },
      "execution_count": 162,
      "outputs": [
        {
          "output_type": "stream",
          "name": "stdout",
          "text": [
            "313/313 [==============================] - 0s 866us/step\n"
          ]
        },
        {
          "output_type": "execute_result",
          "data": {
            "text/plain": [
              "array([[1.4753261e-08, 1.1953958e-12, 1.8077071e-12, 2.7757794e-06,\n",
              "        8.2863796e-09, 2.2689189e-01, 1.6519741e-07, 1.2950820e-01,\n",
              "        6.1045722e-03, 6.3749236e-01],\n",
              "       [3.7070579e-04, 8.8036522e-08, 9.7317123e-01, 1.2273506e-09,\n",
              "        9.9623315e-03, 8.9968911e-32, 1.6495589e-02, 0.0000000e+00,\n",
              "        3.8195012e-08, 2.4894011e-34],\n",
              "       [2.1494767e-05, 9.9895591e-01, 7.1842172e-05, 2.2654909e-04,\n",
              "        3.5332021e-06, 1.3215347e-08, 6.5410399e-04, 3.7358412e-11,\n",
              "        6.6153254e-05, 4.4702486e-07],\n",
              "       [1.0325998e-04, 9.9605405e-01, 4.0437677e-04, 1.3827106e-03,\n",
              "        3.9531897e-05, 1.8774962e-06, 1.8292373e-03, 1.7496500e-08,\n",
              "        1.8110737e-04, 3.7890709e-06],\n",
              "       [2.4951790e-01, 6.3404994e-04, 2.9226956e-01, 7.5588799e-03,\n",
              "        4.6038695e-02, 2.2493532e-16, 4.0360403e-01, 4.7306953e-34,\n",
              "        3.7682671e-04, 2.7481411e-18]], dtype=float32)"
            ]
          },
          "metadata": {},
          "execution_count": 162
        }
      ]
    },
    {
      "cell_type": "code",
      "source": [
        "y_probs[0]"
      ],
      "metadata": {
        "colab": {
          "base_uri": "https://localhost:8080/"
        },
        "id": "cAWTR7L6UHcx",
        "outputId": "92b0a7f4-e991-48d9-86c5-2ed6e7e81547"
      },
      "execution_count": 163,
      "outputs": [
        {
          "output_type": "execute_result",
          "data": {
            "text/plain": [
              "array([1.4753261e-08, 1.1953958e-12, 1.8077071e-12, 2.7757794e-06,\n",
              "       8.2863796e-09, 2.2689189e-01, 1.6519741e-07, 1.2950820e-01,\n",
              "       6.1045722e-03, 6.3749236e-01], dtype=float32)"
            ]
          },
          "metadata": {},
          "execution_count": 163
        }
      ]
    },
    {
      "cell_type": "code",
      "source": [
        "y_probs[0].argmax()"
      ],
      "metadata": {
        "colab": {
          "base_uri": "https://localhost:8080/"
        },
        "id": "TCMiOvn1YvnV",
        "outputId": "d5ea7b39-4e63-4405-c685-a319ff86d197"
      },
      "execution_count": 164,
      "outputs": [
        {
          "output_type": "execute_result",
          "data": {
            "text/plain": [
              "9"
            ]
          },
          "metadata": {},
          "execution_count": 164
        }
      ]
    },
    {
      "cell_type": "code",
      "source": [
        "# now let's check for label 5\n",
        "class_names[5]"
      ],
      "metadata": {
        "colab": {
          "base_uri": "https://localhost:8080/",
          "height": 36
        },
        "id": "WxITQXEqZAcR",
        "outputId": "39cb18ab-81dd-4bce-859d-f75b28994c4c"
      },
      "execution_count": 165,
      "outputs": [
        {
          "output_type": "execute_result",
          "data": {
            "text/plain": [
              "'Sandal'"
            ],
            "application/vnd.google.colaboratory.intrinsic+json": {
              "type": "string"
            }
          },
          "metadata": {},
          "execution_count": 165
        }
      ]
    },
    {
      "cell_type": "code",
      "source": [
        "y_preds = y_probs.argmax(axis=1)\n",
        "\n",
        "y_preds[:10], test_labels[:10]"
      ],
      "metadata": {
        "colab": {
          "base_uri": "https://localhost:8080/"
        },
        "id": "KJUIvVaYaQLU",
        "outputId": "907cd546-1b64-499a-cfda-8c9c53e68295"
      },
      "execution_count": 166,
      "outputs": [
        {
          "output_type": "execute_result",
          "data": {
            "text/plain": [
              "(array([9, 2, 1, 1, 6, 1, 4, 6, 5, 7]),\n",
              " array([9, 2, 1, 1, 6, 1, 4, 6, 5, 7], dtype=uint8))"
            ]
          },
          "metadata": {},
          "execution_count": 166
        }
      ]
    },
    {
      "cell_type": "code",
      "source": [
        "# Check out the non-prettified confusion matrix\n",
        "from sklearn.metrics import confusion_matrix\n",
        "confusion_matrix(y_true=test_labels, \n",
        "                 y_pred=y_preds)"
      ],
      "metadata": {
        "colab": {
          "base_uri": "https://localhost:8080/"
        },
        "id": "g2kIf_HRZJa-",
        "outputId": "385fcf3f-b31e-44a0-e818-cad2cd11bb08"
      },
      "execution_count": 167,
      "outputs": [
        {
          "output_type": "execute_result",
          "data": {
            "text/plain": [
              "array([[765,   4,  23, 132,   3,   1,  64,   0,   8,   0],\n",
              "       [  1, 947,   4,  40,   2,   0,   6,   0,   0,   0],\n",
              "       [ 37,   5, 795,  14,  83,   1,  61,   0,   4,   0],\n",
              "       [ 46,   8,  17, 867,  16,   2,  40,   0,   4,   0],\n",
              "       [  4,   1, 300,  36, 550,   1, 101,   0,   7,   0],\n",
              "       [  0,   0,   0,   3,   0, 899,   0,  55,  16,  27],\n",
              "       [205,   1, 164,  80, 100,   1, 438,   0,  11,   0],\n",
              "       [  0,   0,   0,   0,   0,  39,   0, 915,   1,  45],\n",
              "       [  1,   1,   3,  21,  12,  11,  70,   2, 876,   3],\n",
              "       [  0,   0,   0,   0,   0,  23,   0,  50,  12, 915]])"
            ]
          },
          "metadata": {},
          "execution_count": 167
        }
      ]
    },
    {
      "cell_type": "code",
      "source": [],
      "metadata": {
        "id": "AZXzMZqbZbPu"
      },
      "execution_count": 160,
      "outputs": []
    }
  ]
}