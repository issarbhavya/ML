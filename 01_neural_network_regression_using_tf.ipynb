{
  "nbformat": 4,
  "nbformat_minor": 0,
  "metadata": {
    "colab": {
      "provenance": [],
      "authorship_tag": "ABX9TyO+isxEtkuNccc/qovZJ3AB",
      "include_colab_link": true
    },
    "kernelspec": {
      "name": "python3",
      "display_name": "Python 3"
    },
    "language_info": {
      "name": "python"
    }
  },
  "cells": [
    {
      "cell_type": "markdown",
      "metadata": {
        "id": "view-in-github",
        "colab_type": "text"
      },
      "source": [
        "<a href=\"https://colab.research.google.com/github/issarbhavya/ML/blob/main/01_neural_network_regression_using_tf.ipynb\" target=\"_parent\"><img src=\"https://colab.research.google.com/assets/colab-badge.svg\" alt=\"Open In Colab\"/></a>"
      ]
    },
    {
      "cell_type": "markdown",
      "source": [
        "###  Typical architecture of a regresison neural network\n",
        "\n",
        "\n",
        "\n",
        "Hyperparamete:\tTypical value\n",
        "\n",
        "Input layer shape\t: same shape as number of features (e.g. 3 for # bedrooms, # bathrooms, # car spaces in housing price prediction)\n",
        "\n",
        "Hidden layer(s)\tProblem : specific, minimum = 1, maximum = unlimited\n",
        "\n",
        "Neurons per hidden layer :\tProblem specific, generally 10 to \n",
        "\n",
        "Output layer shape : \tSame shape as desired prediction shape (e.g. 1 for house price)\n",
        "\n",
        "Hidden activation :\tUsually ReLU (rectified linear unit)\n",
        "Output activation\t: one, ReLU, logistic/\n",
        "\n",
        "Loss function : MSE (mean square error) or MAE (mean absolute error)/Huber (combination of MAE/MSE) if \n",
        "\n",
        "Optimizer\t: SGD (stochastic gradient descent), Adam"
      ],
      "metadata": {
        "id": "vbOiqRZB1sHP"
      }
    },
    {
      "cell_type": "code",
      "execution_count": 20,
      "metadata": {
        "colab": {
          "base_uri": "https://localhost:8080/",
          "height": 452
        },
        "id": "ZdYyXc8cz1I7",
        "outputId": "528c3337-3462-4ada-f5ad-5ed0ab0499d1"
      },
      "outputs": [
        {
          "output_type": "execute_result",
          "data": {
            "text/plain": [
              "<matplotlib.collections.PathCollection at 0x7f0ac2ef0790>"
            ]
          },
          "metadata": {},
          "execution_count": 20
        },
        {
          "output_type": "display_data",
          "data": {
            "text/plain": [
              "<Figure size 640x480 with 1 Axes>"
            ],
            "image/png": "[encoded data removed]"
          },
          "metadata": {}
        }
      ],
      "source": [
        "import numpy as np\n",
        "import matplotlib.pyplot as plt\n",
        "\n",
        "# Create features\n",
        "X = np.array([-7.0, -4.0, -1.0, 2.0, 5.0, 8.0, 11.0, 14.0]) ## X is Independent variable\n",
        "\n",
        "# Create labels\n",
        "y = np.array([3.0, 6.0, 9.0, 12.0, 15.0, 18.0, 21.0, 24.0]) ## y is dependent variable\n",
        "\n",
        "\n",
        "## Independent variable is usually written in caps, whereas dependent is written in lower case\n",
        "\n",
        "# Visualize it\n",
        "plt.scatter(X, y)"
      ]
    },
    {
      "cell_type": "code",
      "source": [
        "## how about for finding pattern, we manipulate x to get y \n",
        "\n",
        "print(X + 10) \n",
        "\n",
        "print(y)\n",
        "\n",
        "## as you can see both are same"
      ],
      "metadata": {
        "colab": {
          "base_uri": "https://localhost:8080/"
        },
        "id": "nH9Z5ixM2DBW",
        "outputId": "10dfa6be-89f3-47bd-9ef4-fa500bae8b9c"
      },
      "execution_count": 9,
      "outputs": [
        {
          "output_type": "stream",
          "name": "stdout",
          "text": [
            "[ 3.  6.  9. 12. 15. 18. 21. 24.]\n",
            "[ 3.  6.  9. 12. 15. 18. 21. 24.]\n"
          ]
        }
      ]
    },
    {
      "cell_type": "markdown",
      "source": [
        "so, basically this is the relationship we want our neural network to learn.\n",
        "\n",
        "this is the realationship between ur Independent and dependent variable\n",
        "\n",
        "---\n",
        "\n"
      ],
      "metadata": {
        "id": "wYP_FpMs2idN"
      }
    },
    {
      "cell_type": "markdown",
      "source": [
        "## Regression input shapes and output shapes\n",
        "\n",
        "\n",
        "One of the most important concepts when working with neural networks are the input and output shapes.\n",
        "\n",
        "The input shape is the shape of your data that goes into the model.\n",
        "\n",
        "The output shape is the shape of your data you want to come out of your model.\n",
        "\n",
        "These will differ depending on the problem you're working on."
      ],
      "metadata": {
        "id": "JvkFdHCa3szB"
      }
    },
    {
      "cell_type": "code",
      "source": [
        "## Creating a demo for our housing price prediction problem\n",
        "\n",
        "import tensorflow as tf\n",
        "\n",
        "# basically here input and output shapes of a regresson model are converted to tensors\n",
        "house_info = tf.constant([\"bedroom\", \"bathroom\", \"garage\"])\n",
        "house_price = tf.constant([939700])\n",
        "house_info, house_price\n"
      ],
      "metadata": {
        "colab": {
          "base_uri": "https://localhost:8080/"
        },
        "id": "5eorRCSg3_Mu",
        "outputId": "df79501b-56c7-43c5-aa39-f1096882b39d"
      },
      "execution_count": 3,
      "outputs": [
        {
          "output_type": "execute_result",
          "data": {
            "text/plain": [
              "(<tf.Tensor: shape=(3,), dtype=string, numpy=array([b'bedroom', b'bathroom', b'garage'], dtype=object)>,\n",
              " <tf.Tensor: shape=(1,), dtype=int32, numpy=array([939700], dtype=int32)>)"
            ]
          },
          "metadata": {},
          "execution_count": 3
        }
      ]
    },
    {
      "cell_type": "markdown",
      "source": [
        "\n",
        "\n",
        "---\n",
        "\n",
        "\n",
        "Our goal here will be to use X to predict y.\n",
        "\n",
        "So our input will be X and our output will be y.\n",
        "\n",
        "\n"
      ],
      "metadata": {
        "id": "cMUwQNGE4AJi"
      }
    },
    {
      "cell_type": "code",
      "source": [
        "### lets check the input nd output shape \n",
        "\n",
        "# Take a single example of X\n",
        "input_shape = X[0].shape \n",
        "\n",
        "# Take a single example of y\n",
        "output_shape = y[0].shape\n",
        "\n",
        "input_shape, output_shape"
      ],
      "metadata": {
        "colab": {
          "base_uri": "https://localhost:8080/"
        },
        "id": "-Cg65lpt1ILw",
        "outputId": "5d0ef8ed-2409-448a-8b19-4c11219d5527"
      },
      "execution_count": 11,
      "outputs": [
        {
          "output_type": "execute_result",
          "data": {
            "text/plain": [
              "((), ())"
            ]
          },
          "metadata": {},
          "execution_count": 11
        }
      ]
    },
    {
      "cell_type": "markdown",
      "source": [
        "It's because no matter what kind of data we pass to our model, it's always going to take as input and return as ouput some kind of tensor.\n",
        "\n",
        "But in our case because of our dataset (only 2 small lists of numbers), we're looking at a special kind of tensor, more specifically a rank 0 tensor or a scalar.\n",
        "\n",
        "examples like these don't really make sense but what we basically need to do is, get one x vale nd return one y value"
      ],
      "metadata": {
        "id": "qnvSXVNP5BJh"
      }
    },
    {
      "cell_type": "code",
      "source": [
        "X,y"
      ],
      "metadata": {
        "colab": {
          "base_uri": "https://localhost:8080/"
        },
        "id": "-7x3vrLp7GZ6",
        "outputId": "841657ae-33e0-4a30-b038-acf095b29377"
      },
      "execution_count": 12,
      "outputs": [
        {
          "output_type": "execute_result",
          "data": {
            "text/plain": [
              "(array([-7., -4., -1.,  2.,  5.,  8., 11., 14.]),\n",
              " array([ 3.,  6.,  9., 12., 15., 18., 21., 24.]))"
            ]
          },
          "metadata": {},
          "execution_count": 12
        }
      ]
    },
    {
      "cell_type": "code",
      "source": [
        "X.shape,   y.shape"
      ],
      "metadata": {
        "colab": {
          "base_uri": "https://localhost:8080/"
        },
        "id": "dcFjiFNK7KN_",
        "outputId": "7f13b669-4b6d-42ce-ffd1-b32e4a0d7588"
      },
      "execution_count": 14,
      "outputs": [
        {
          "output_type": "execute_result",
          "data": {
            "text/plain": [
              "((8,), (8,))"
            ]
          },
          "metadata": {},
          "execution_count": 14
        }
      ]
    },
    {
      "cell_type": "code",
      "source": [
        "X[0].shape,   y[0].shape"
      ],
      "metadata": {
        "colab": {
          "base_uri": "https://localhost:8080/"
        },
        "id": "3nR5UlNF7PYS",
        "outputId": "282a82ef-21a2-4371-b058-c67d3bb8eaaa"
      },
      "execution_count": 17,
      "outputs": [
        {
          "output_type": "execute_result",
          "data": {
            "text/plain": [
              "((), ())"
            ]
          },
          "metadata": {},
          "execution_count": 17
        }
      ]
    },
    {
      "cell_type": "markdown",
      "source": [
        "confusion with the output since we have no dimension, that is, it is a scalar value"
      ],
      "metadata": {
        "id": "x7M9AX6k9vaK"
      }
    },
    {
      "cell_type": "code",
      "source": [
        "## converting our numpy array to tensorflow\n",
        "X=tf.constant(X)\n",
        "y=tf.constant(y)\n",
        "\n",
        "X,y"
      ],
      "metadata": {
        "colab": {
          "base_uri": "https://localhost:8080/"
        },
        "id": "CPqf3ask75U3",
        "outputId": "3fd04f44-f360-40bc-ce19-b6e20fd53957"
      },
      "execution_count": 18,
      "outputs": [
        {
          "output_type": "execute_result",
          "data": {
            "text/plain": [
              "(<tf.Tensor: shape=(8,), dtype=float64, numpy=array([-7., -4., -1.,  2.,  5.,  8., 11., 14.])>,\n",
              " <tf.Tensor: shape=(8,), dtype=float64, numpy=array([ 3.,  6.,  9., 12., 15., 18., 21., 24.])>)"
            ]
          },
          "metadata": {},
          "execution_count": 18
        }
      ]
    },
    {
      "cell_type": "code",
      "source": [
        "X[0].shape,   y[0].shape"
      ],
      "metadata": {
        "colab": {
          "base_uri": "https://localhost:8080/"
        },
        "id": "nAlXP0CF8VAx",
        "outputId": "ee87aa33-bc67-4fe7-a63b-b905d29db347"
      },
      "execution_count": 19,
      "outputs": [
        {
          "output_type": "execute_result",
          "data": {
            "text/plain": [
              "(TensorShape([]), TensorShape([]))"
            ]
          },
          "metadata": {},
          "execution_count": 19
        }
      ]
    },
    {
      "cell_type": "markdown",
      "source": [
        "same confusion ,\n",
        "\n",
        "\n",
        "\n",
        "In our case, we're trying to build a model to predict the pattern between X[0] equalling -7.0 and y[0] equalling 3.0.\n",
        "\n",
        "So now we get our answer, we're trying to use 1 X value to predict 1 y value.\n",
        "\n",
        "---\n",
        "\n",
        "\n",
        "\n",
        "\n",
        "So, now our question is how we will build a model to figure out the realtionship here\n",
        "\n",
        "\n"
      ],
      "metadata": {
        "id": "StIOEd-L8fwu"
      }
    },
    {
      "cell_type": "code",
      "source": [
        "plt.scatter(X, y)"
      ],
      "metadata": {
        "colab": {
          "base_uri": "https://localhost:8080/",
          "height": 452
        },
        "id": "WzZoPgYh8Xga",
        "outputId": "4739c66f-8693-4ea8-f47f-c14fac4e6939"
      },
      "execution_count": 21,
      "outputs": [
        {
          "output_type": "execute_result",
          "data": {
            "text/plain": [
              "<matplotlib.collections.PathCollection at 0x7f0ac2ee49d0>"
            ]
          },
          "metadata": {},
          "execution_count": 21
        },
        {
          "output_type": "display_data",
          "data": {
            "text/plain": [
              "<Figure size 640x480 with 1 Axes>"
            ],
            "image/png": "[encoded data removed]"
          },
          "metadata": {}
        }
      ]
    },
    {
      "cell_type": "markdown",
      "source": [
        "### Steps in modeling a Tensor Flow\n",
        "\n",
        "\n",
        "\n",
        "---\n",
        "\n",
        "\n",
        "**1 Creating a model-** \n",
        "\n",
        "a. define the **input and output layers**\n",
        "\n",
        "b. define **hidden layer** for deep learning\n",
        "\n",
        "---\n",
        "**2 compiling a model-**\n",
        "\n",
        "a. define **loss function**(tells us how wrong our model is)\n",
        "\n",
        "b. define **optimizer** (tells our model to improve patterns it is learning)\n",
        "\n",
        "c. **Evaluation metrics**(to find out ways to understand model decision making policies better)\n",
        "\n",
        "---\n",
        "**3 fitting a model-**\n",
        "\n",
        "Letting model to try nd find patterns between X nd y(features and labels)\n",
        "\n",
        "---\n",
        "\n",
        "\n",
        "\n",
        "\n"
      ],
      "metadata": {
        "id": "TMCg6jco9QbH"
      }
    },
    {
      "cell_type": "code",
      "source": [
        "tf.random.set_seed(42)\n",
        "\n",
        "\n",
        "\n",
        "\n",
        "## 1. Creating model using Sequential API\n",
        "\"\"\"\n",
        "in tensorflow nd keras there are basically two types of apis, Sequential nd functional\n",
        "\n",
        "\"\"\"\n",
        "\n",
        "model = tf.keras.Sequential([\n",
        "# this basically tells tensorflow that i want to create a model nd want it to go sequentially through it \n",
        "  \n",
        "   \n",
        "   tf.keras.layers.Dense(1)   \n",
        "   # the following is our input layer, we have used \"1\",\n",
        "   # as we want our model to take input of one number \n",
        "])\n",
        "\n",
        "\n",
        "## 2. compile the model\n",
        "\n",
        "model.compile(loss=tf.keras.losses.mae,  # mae : mean absolute error\n",
        "             # the above line computes mean absolute error between labels and prediction\n",
        "\n",
        "             # so this basically tells us that on an avg\n",
        "             # how wrong the predictions(y_pred) are compared to true values(y_true)\n",
        "             \n",
        "             optimizer= tf.keras.optimizers.SGD(), # sgd : stochasitc gradient descent\n",
        "             # it tells neural network how to improve\n",
        "              \n",
        "             metrics=[\"mae\"]\n",
        "             ) \n",
        "\n",
        "\n",
        "## 3. fit the model\n",
        "\n",
        "# model.fit(X, y, epochs=5) # this will break with TensorFlow 2.7.0+\n",
        "\n",
        "\n",
        "model.fit(tf.expand_dims(X, axis=-1), y, epochs=5)\n",
        "# epochs=5 means 5 laps/oppertunities to go through all of the\n",
        "# X nd y values nd find out the patters/relatoinships"
      ],
      "metadata": {
        "colab": {
          "base_uri": "https://localhost:8080/"
        },
        "id": "6M5sYwmD9aTe",
        "outputId": "5c6d6148-1d23-4b87-8111-0a34ceda13e3"
      },
      "execution_count": 25,
      "outputs": [
        {
          "output_type": "stream",
          "name": "stdout",
          "text": [
            "Epoch 1/5\n",
            "1/1 [==============================] - 1s 599ms/step - loss: 8.8776 - mae: 8.8776\n",
            "Epoch 2/5\n",
            "1/1 [==============================] - 0s 14ms/step - loss: 8.7451 - mae: 8.7451\n",
            "Epoch 3/5\n",
            "1/1 [==============================] - 0s 15ms/step - loss: 8.6126 - mae: 8.6126\n",
            "Epoch 4/5\n",
            "1/1 [==============================] - 0s 13ms/step - loss: 8.4801 - mae: 8.4801\n",
            "Epoch 5/5\n",
            "1/1 [==============================] - 0s 14ms/step - loss: 8.3476 - mae: 8.3476\n"
          ]
        },
        {
          "output_type": "execute_result",
          "data": {
            "text/plain": [
              "<keras.callbacks.History at 0x7f0ac2955ab0>"
            ]
          },
          "metadata": {},
          "execution_count": 25
        }
      ]
    },
    {
      "cell_type": "markdown",
      "source": [
        "\n",
        "\n",
        "---\n",
        "\n",
        "\n",
        "Thus we have trained our model\n",
        "\n",
        "now let's chaek it with X nd y\n",
        "\n"
      ],
      "metadata": {
        "id": "8Gt2GnS4MayB"
      }
    },
    {
      "cell_type": "code",
      "source": [
        "model.predict([17.0])"
      ],
      "metadata": {
        "colab": {
          "base_uri": "https://localhost:8080/"
        },
        "id": "f_WgaQ7wRWyM",
        "outputId": "1d7e7fb7-27b4-4f2a-b9f5-48a1b30277e1"
      },
      "execution_count": 26,
      "outputs": [
        {
          "output_type": "stream",
          "name": "stdout",
          "text": [
            "1/1 [==============================] - 0s 102ms/step\n"
          ]
        },
        {
          "output_type": "execute_result",
          "data": {
            "text/plain": [
              "array([[25.476719]], dtype=float32)"
            ]
          },
          "metadata": {},
          "execution_count": 26
        }
      ]
    },
    {
      "cell_type": "markdown",
      "source": [
        "the answer must be 27, but still it is close to it, as we can see that after training of 5 laps, loss is still 8.34 "
      ],
      "metadata": {
        "id": "XwOji9XyRu1F"
      }
    },
    {
      "cell_type": "code",
      "source": [
        "model.predict([22.0])"
      ],
      "metadata": {
        "colab": {
          "base_uri": "https://localhost:8080/"
        },
        "id": "RhEPow-0Rr0u",
        "outputId": "49ab04b8-0a05-4c15-a195-9d5e61555a74"
      },
      "execution_count": 27,
      "outputs": [
        {
          "output_type": "stream",
          "name": "stdout",
          "text": [
            "1/1 [==============================] - 0s 199ms/step\n"
          ]
        },
        {
          "output_type": "execute_result",
          "data": {
            "text/plain": [
              "array([[32.955166]], dtype=float32)"
            ]
          },
          "metadata": {},
          "execution_count": 27
        }
      ]
    },
    {
      "cell_type": "code",
      "source": [
        "model.predict([39.0])"
      ],
      "metadata": {
        "colab": {
          "base_uri": "https://localhost:8080/"
        },
        "id": "isStBtY0STLH",
        "outputId": "29b75cb1-ce64-495a-b5f0-d78267fbf786"
      },
      "execution_count": 30,
      "outputs": [
        {
          "output_type": "stream",
          "name": "stdout",
          "text": [
            "1/1 [==============================] - 0s 144ms/step\n"
          ]
        },
        {
          "output_type": "execute_result",
          "data": {
            "text/plain": [
              "array([[58.381886]], dtype=float32)"
            ]
          },
          "metadata": {},
          "execution_count": 30
        }
      ]
    },
    {
      "cell_type": "markdown",
      "source": [
        "Thus as we can see, that for different different predictions, the answers are still not matching nd sometimes difference in expected result is more nd sometimes its less"
      ],
      "metadata": {
        "id": "ORZo91IOSfuj"
      }
    },
    {
      "cell_type": "markdown",
      "source": [
        "## Improving our model"
      ],
      "metadata": {
        "id": "NSixHCPfS3DD"
      }
    },
    {
      "cell_type": "code",
      "source": [],
      "metadata": {
        "id": "XIlRIIF6S6p2"
      },
      "execution_count": null,
      "outputs": []
    }
  ]
}