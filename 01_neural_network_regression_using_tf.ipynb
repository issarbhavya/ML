{
  "nbformat": 4,
  "nbformat_minor": 0,
  "metadata": {
    "colab": {
      "provenance": [],
      "collapsed_sections": [
        "StIOEd-L8fwu"
      ],
      "authorship_tag": "ABX9TyOKP5C8TOcEkzH7vu5/F8nN",
      "include_colab_link": true
    },
    "kernelspec": {
      "name": "python3",
      "display_name": "Python 3"
    },
    "language_info": {
      "name": "python"
    }
  },
  "cells": [
    {
      "cell_type": "markdown",
      "metadata": {
        "id": "view-in-github",
        "colab_type": "text"
      },
      "source": [
        "<a href=\"https://colab.research.google.com/github/issarbhavya/ML/blob/main/01_neural_network_regression_using_tf.ipynb\" target=\"_parent\"><img src=\"https://colab.research.google.com/assets/colab-badge.svg\" alt=\"Open In Colab\"/></a>"
      ]
    },
    {
      "cell_type": "markdown",
      "source": [
        "###  Typical architecture of a regresison neural network\n",
        "\n",
        "\n",
        "\n",
        "Hyperparamete:\tTypical value\n",
        "\n",
        "Input layer shape\t: same shape as number of features (e.g. 3 for # bedrooms, # bathrooms, # car spaces in housing price prediction)\n",
        "\n",
        "Hidden layer(s)\tProblem : specific, minimum = 1, maximum = unlimited\n",
        "\n",
        "Neurons per hidden layer :\tProblem specific, generally 10 to \n",
        "\n",
        "Output layer shape : \tSame shape as desired prediction shape (e.g. 1 for house price)\n",
        "\n",
        "Hidden activation :\tUsually ReLU (rectified linear unit)\n",
        "Output activation\t: one, ReLU, logistic/\n",
        "\n",
        "Loss function : MSE (mean square error) or MAE (mean absolute error)/Huber (combination of MAE/MSE) if \n",
        "\n",
        "Optimizer\t: SGD (stochastic gradient descent), Adam"
      ],
      "metadata": {
        "id": "vbOiqRZB1sHP"
      }
    },
    {
      "cell_type": "code",
      "execution_count": 2,
      "metadata": {
        "colab": {
          "base_uri": "https://localhost:8080/",
          "height": 453
        },
        "id": "ZdYyXc8cz1I7",
        "outputId": "0985e3bb-110d-401a-e521-bed20631295d"
      },
      "outputs": [
        {
          "output_type": "execute_result",
          "data": {
            "text/plain": [
              "<matplotlib.collections.PathCollection at 0x7f9da46c3820>"
            ]
          },
          "metadata": {},
          "execution_count": 2
        },
        {
          "output_type": "display_data",
          "data": {
            "text/plain": [
              "<Figure size 640x480 with 1 Axes>"
            ],
            "image/png": "[encoded data removed]"
          },
          "metadata": {}
        }
      ],
      "source": [
        "import numpy as np\n",
        "import matplotlib.pyplot as plt\n",
        "\n",
        "# Create features\n",
        "X = np.array([-7.0, -4.0, -1.0, 2.0, 5.0, 8.0, 11.0, 14.0]) ## X is Independent variable\n",
        "\n",
        "# Create labels\n",
        "y = np.array([3.0, 6.0, 9.0, 12.0, 15.0, 18.0, 21.0, 24.0]) ## y is dependent variable\n",
        "\n",
        "\n",
        "## Independent variable is usually written in caps, whereas dependent is written in lower case\n",
        "\n",
        "# Visualize it\n",
        "plt.scatter(X, y)"
      ]
    },
    {
      "cell_type": "code",
      "source": [
        "## how about for finding pattern, we manipulate x to get y \n",
        "\n",
        "print(X + 10) \n",
        "\n",
        "print(y)\n",
        "\n",
        "## as you can see both are same"
      ],
      "metadata": {
        "colab": {
          "base_uri": "https://localhost:8080/"
        },
        "id": "nH9Z5ixM2DBW",
        "outputId": "08ec32c1-c357-42c5-ec80-8e76d1a82a6c"
      },
      "execution_count": 3,
      "outputs": [
        {
          "output_type": "stream",
          "name": "stdout",
          "text": [
            "[ 3.  6.  9. 12. 15. 18. 21. 24.]\n",
            "[ 3.  6.  9. 12. 15. 18. 21. 24.]\n"
          ]
        }
      ]
    },
    {
      "cell_type": "markdown",
      "source": [
        "so, basically this is the relationship we want our neural network to learn.\n",
        "\n",
        "this is the realationship between ur Independent and dependent variable\n",
        "\n",
        "---\n",
        "\n"
      ],
      "metadata": {
        "id": "wYP_FpMs2idN"
      }
    },
    {
      "cell_type": "markdown",
      "source": [
        "## Regression input shapes and output shapes\n",
        "\n",
        "\n",
        "One of the most important concepts when working with neural networks are the input and output shapes.\n",
        "\n",
        "The input shape is the shape of your data that goes into the model.\n",
        "\n",
        "The output shape is the shape of your data you want to come out of your model.\n",
        "\n",
        "These will differ depending on the problem you're working on."
      ],
      "metadata": {
        "id": "JvkFdHCa3szB"
      }
    },
    {
      "cell_type": "code",
      "source": [
        "## Creating a demo for our housing price prediction problem\n",
        "\n",
        "import tensorflow as tf\n",
        "\n",
        "# basically here input and output shapes of a regresson model are converted to tensors\n",
        "house_info = tf.constant([\"bedroom\", \"bathroom\", \"garage\"])\n",
        "house_price = tf.constant([939700])\n",
        "house_info, house_price\n"
      ],
      "metadata": {
        "colab": {
          "base_uri": "https://localhost:8080/"
        },
        "id": "5eorRCSg3_Mu",
        "outputId": "7c16dd04-2180-46ea-d1ef-468a07132091"
      },
      "execution_count": 4,
      "outputs": [
        {
          "output_type": "execute_result",
          "data": {
            "text/plain": [
              "(<tf.Tensor: shape=(3,), dtype=string, numpy=array([b'bedroom', b'bathroom', b'garage'], dtype=object)>,\n",
              " <tf.Tensor: shape=(1,), dtype=int32, numpy=array([939700], dtype=int32)>)"
            ]
          },
          "metadata": {},
          "execution_count": 4
        }
      ]
    },
    {
      "cell_type": "markdown",
      "source": [
        "\n",
        "\n",
        "---\n",
        "\n",
        "\n",
        "Our goal here will be to use X to predict y.\n",
        "\n",
        "So our input will be X and our output will be y.\n",
        "\n",
        "\n"
      ],
      "metadata": {
        "id": "cMUwQNGE4AJi"
      }
    },
    {
      "cell_type": "code",
      "source": [
        "### lets check the input nd output shape \n",
        "\n",
        "# Take a single example of X\n",
        "input_shape = X[0].shape \n",
        "\n",
        "# Take a single example of y\n",
        "output_shape = y[0].shape\n",
        "\n",
        "input_shape, output_shape"
      ],
      "metadata": {
        "colab": {
          "base_uri": "https://localhost:8080/"
        },
        "id": "-Cg65lpt1ILw",
        "outputId": "975a987e-aa4a-473b-8aa5-4167fa0e0de2"
      },
      "execution_count": 5,
      "outputs": [
        {
          "output_type": "execute_result",
          "data": {
            "text/plain": [
              "((), ())"
            ]
          },
          "metadata": {},
          "execution_count": 5
        }
      ]
    },
    {
      "cell_type": "markdown",
      "source": [
        "It's because no matter what kind of data we pass to our model, it's always going to take as input and return as ouput some kind of tensor.\n",
        "\n",
        "But in our case because of our dataset (only 2 small lists of numbers), we're looking at a special kind of tensor, more specifically a rank 0 tensor or a scalar.\n",
        "\n",
        "examples like these don't really make sense but what we basically need to do is, get one x vale nd return one y value"
      ],
      "metadata": {
        "id": "qnvSXVNP5BJh"
      }
    },
    {
      "cell_type": "code",
      "source": [
        "X,y"
      ],
      "metadata": {
        "colab": {
          "base_uri": "https://localhost:8080/"
        },
        "id": "-7x3vrLp7GZ6",
        "outputId": "50260ba4-bf38-472b-e8bb-0876d72ece88"
      },
      "execution_count": 6,
      "outputs": [
        {
          "output_type": "execute_result",
          "data": {
            "text/plain": [
              "(array([-7., -4., -1.,  2.,  5.,  8., 11., 14.]),\n",
              " array([ 3.,  6.,  9., 12., 15., 18., 21., 24.]))"
            ]
          },
          "metadata": {},
          "execution_count": 6
        }
      ]
    },
    {
      "cell_type": "code",
      "source": [
        "X.shape,   y.shape"
      ],
      "metadata": {
        "colab": {
          "base_uri": "https://localhost:8080/"
        },
        "id": "dcFjiFNK7KN_",
        "outputId": "6ad9d79b-8f85-43f0-cd20-fc001969e127"
      },
      "execution_count": 7,
      "outputs": [
        {
          "output_type": "execute_result",
          "data": {
            "text/plain": [
              "((8,), (8,))"
            ]
          },
          "metadata": {},
          "execution_count": 7
        }
      ]
    },
    {
      "cell_type": "code",
      "source": [
        "X[0].shape,   y[0].shape"
      ],
      "metadata": {
        "colab": {
          "base_uri": "https://localhost:8080/"
        },
        "id": "3nR5UlNF7PYS",
        "outputId": "2c6ef4af-b3a5-475e-b39f-e44285eeee96"
      },
      "execution_count": 8,
      "outputs": [
        {
          "output_type": "execute_result",
          "data": {
            "text/plain": [
              "((), ())"
            ]
          },
          "metadata": {},
          "execution_count": 8
        }
      ]
    },
    {
      "cell_type": "markdown",
      "source": [
        "confusion with the output since we have no dimension, that is, it is a scalar value"
      ],
      "metadata": {
        "id": "x7M9AX6k9vaK"
      }
    },
    {
      "cell_type": "code",
      "source": [
        "## converting our numpy array to tensorflow\n",
        "X=tf.constant(X)\n",
        "y=tf.constant(y)\n",
        "\n",
        "X,y"
      ],
      "metadata": {
        "colab": {
          "base_uri": "https://localhost:8080/"
        },
        "id": "CPqf3ask75U3",
        "outputId": "9363a1f8-7d6b-4233-8cfe-8eacee8b2822"
      },
      "execution_count": 9,
      "outputs": [
        {
          "output_type": "execute_result",
          "data": {
            "text/plain": [
              "(<tf.Tensor: shape=(8,), dtype=float64, numpy=array([-7., -4., -1.,  2.,  5.,  8., 11., 14.])>,\n",
              " <tf.Tensor: shape=(8,), dtype=float64, numpy=array([ 3.,  6.,  9., 12., 15., 18., 21., 24.])>)"
            ]
          },
          "metadata": {},
          "execution_count": 9
        }
      ]
    },
    {
      "cell_type": "code",
      "source": [
        "X[0].shape,   y[0].shape"
      ],
      "metadata": {
        "colab": {
          "base_uri": "https://localhost:8080/"
        },
        "id": "nAlXP0CF8VAx",
        "outputId": "b04d0398-4a9b-448b-de08-a0cc521b7549"
      },
      "execution_count": 10,
      "outputs": [
        {
          "output_type": "execute_result",
          "data": {
            "text/plain": [
              "(TensorShape([]), TensorShape([]))"
            ]
          },
          "metadata": {},
          "execution_count": 10
        }
      ]
    },
    {
      "cell_type": "markdown",
      "source": [
        "same confusion ,\n",
        "\n",
        "\n",
        "\n",
        "In our case, we're trying to build a model to predict the pattern between X[0] equalling -7.0 and y[0] equalling 3.0.\n",
        "\n",
        "So now we get our answer, we're trying to use 1 X value to predict 1 y value.\n",
        "\n",
        "---\n",
        "\n",
        "\n",
        "\n",
        "\n",
        "So, now our question is how we will build a model to figure out the realtionship here\n",
        "\n",
        "\n"
      ],
      "metadata": {
        "id": "StIOEd-L8fwu"
      }
    },
    {
      "cell_type": "code",
      "source": [
        "plt.scatter(X, y)"
      ],
      "metadata": {
        "colab": {
          "base_uri": "https://localhost:8080/",
          "height": 453
        },
        "id": "WzZoPgYh8Xga",
        "outputId": "745c2ece-d06e-4232-ce36-beb79aa39059"
      },
      "execution_count": 11,
      "outputs": [
        {
          "output_type": "execute_result",
          "data": {
            "text/plain": [
              "<matplotlib.collections.PathCollection at 0x7f9d2ae1bd60>"
            ]
          },
          "metadata": {},
          "execution_count": 11
        },
        {
          "output_type": "display_data",
          "data": {
            "text/plain": [
              "<Figure size 640x480 with 1 Axes>"
            ],
            "image/png": "[encoded data removed]"
          },
          "metadata": {}
        }
      ]
    },
    {
      "cell_type": "markdown",
      "source": [
        "### Steps in modeling a Tensor Flow\n",
        "\n",
        "\n",
        "\n",
        "---\n",
        "\n",
        "\n",
        "**1 Creating a model-** \n",
        "\n",
        "a. define the **input and output layers**\n",
        "\n",
        "b. define **hidden layer** for deep learning\n",
        "\n",
        "---\n",
        "**2 compiling a model-**\n",
        "\n",
        "a. define **loss function**(tells us how wrong our model is)\n",
        "\n",
        "b. define **optimizer** (tells our model to improve patterns it is learning)\n",
        "\n",
        "c. **Evaluation metrics**(to find out ways to understand model decision making policies better)\n",
        "\n",
        "---\n",
        "**3 fitting a model-**\n",
        "\n",
        "Letting model to try nd find patterns between X nd y(features and labels)\n",
        "\n",
        "---\n",
        "\n",
        "\n",
        "\n",
        "\n"
      ],
      "metadata": {
        "id": "TMCg6jco9QbH"
      }
    },
    {
      "cell_type": "code",
      "source": [
        "tf.random.set_seed(42)\n",
        "\n",
        "\n",
        "\n",
        "\n",
        "## 1. Creating model using Sequential API\n",
        "\"\"\"\n",
        "in tensorflow nd keras there are basically two types of apis, Sequential nd functional\n",
        "\n",
        "\"\"\"\n",
        "\n",
        "model = tf.keras.Sequential([\n",
        "# this basically tells tensorflow that i want to create a model nd want it to go sequentially through it \n",
        "  \n",
        "   \n",
        "   tf.keras.layers.Dense(1)   \n",
        "   # the following is our input layer, we have used \"1\",\n",
        "   # as we want our model to take input of one number \n",
        "])\n",
        "\n",
        "\n",
        "## 2. compile the model\n",
        "\n",
        "model.compile(loss=tf.keras.losses.mae,  # mae : mean absolute error\n",
        "             # the above line computes mean absolute error between labels and prediction\n",
        "\n",
        "             # so this basically tells us that on an avg\n",
        "             # how wrong the predictions(y_pred) are compared to true values(y_true)\n",
        "             \n",
        "             optimizer= tf.keras.optimizers.SGD(), # sgd : stochasitc gradient descent\n",
        "             # it tells neural network how to improve\n",
        "              \n",
        "             metrics=[\"mae\"]\n",
        "             ) \n",
        "\n",
        "\n",
        "## 3. fit the model\n",
        "\n",
        "# model.fit(X, y, epochs=5) # this will break with TensorFlow 2.7.0+\n",
        "\n",
        "\n",
        "model.fit(tf.expand_dims(X, axis=-1), y, epochs=5)\n",
        "# epochs=5 means 5 laps/oppertunities to go through all of the\n",
        "# X nd y values nd find out the patters/relatoinships"
      ],
      "metadata": {
        "colab": {
          "base_uri": "https://localhost:8080/"
        },
        "id": "6M5sYwmD9aTe",
        "outputId": "0ae62f7a-be6d-4ed9-99aa-acb56e24b6d8"
      },
      "execution_count": 12,
      "outputs": [
        {
          "output_type": "stream",
          "name": "stdout",
          "text": [
            "Epoch 1/5\n",
            "1/1 [==============================] - 1s 592ms/step - loss: 14.6820 - mae: 14.6820\n",
            "Epoch 2/5\n",
            "1/1 [==============================] - 0s 12ms/step - loss: 14.5495 - mae: 14.5495\n",
            "Epoch 3/5\n",
            "1/1 [==============================] - 0s 13ms/step - loss: 14.4170 - mae: 14.4170\n",
            "Epoch 4/5\n",
            "1/1 [==============================] - 0s 12ms/step - loss: 14.2845 - mae: 14.2845\n",
            "Epoch 5/5\n",
            "1/1 [==============================] - 0s 8ms/step - loss: 14.1520 - mae: 14.1520\n"
          ]
        },
        {
          "output_type": "execute_result",
          "data": {
            "text/plain": [
              "<keras.callbacks.History at 0x7f9d2abe9030>"
            ]
          },
          "metadata": {},
          "execution_count": 12
        }
      ]
    },
    {
      "cell_type": "markdown",
      "source": [
        "\n",
        "\n",
        "---\n",
        "\n",
        "\n",
        "Thus we have trained our model\n",
        "\n",
        "now let's chaek it with X nd y\n",
        "\n"
      ],
      "metadata": {
        "id": "8Gt2GnS4MayB"
      }
    },
    {
      "cell_type": "code",
      "source": [
        "model.predict([17.0])"
      ],
      "metadata": {
        "colab": {
          "base_uri": "https://localhost:8080/"
        },
        "id": "f_WgaQ7wRWyM",
        "outputId": "88e966f2-1c29-45ba-9442-61fe12b32192"
      },
      "execution_count": 13,
      "outputs": [
        {
          "output_type": "stream",
          "name": "stdout",
          "text": [
            "1/1 [==============================] - 0s 102ms/step\n"
          ]
        },
        {
          "output_type": "execute_result",
          "data": {
            "text/plain": [
              "array([[-2.7162895]], dtype=float32)"
            ]
          },
          "metadata": {},
          "execution_count": 13
        }
      ]
    },
    {
      "cell_type": "markdown",
      "source": [
        "the answer must be 27, but still it is close to it, as we can see that after training of 5 laps, loss is still 8.34 "
      ],
      "metadata": {
        "id": "XwOji9XyRu1F"
      }
    },
    {
      "cell_type": "code",
      "source": [
        "model.predict([22.0])"
      ],
      "metadata": {
        "colab": {
          "base_uri": "https://localhost:8080/"
        },
        "id": "RhEPow-0Rr0u",
        "outputId": "2373fd34-51f3-48df-c237-256b4291795f"
      },
      "execution_count": 14,
      "outputs": [
        {
          "output_type": "stream",
          "name": "stdout",
          "text": [
            "1/1 [==============================] - 0s 45ms/step\n"
          ]
        },
        {
          "output_type": "execute_result",
          "data": {
            "text/plain": [
              "array([[-3.5299041]], dtype=float32)"
            ]
          },
          "metadata": {},
          "execution_count": 14
        }
      ]
    },
    {
      "cell_type": "code",
      "source": [
        "model.predict([39.0])"
      ],
      "metadata": {
        "colab": {
          "base_uri": "https://localhost:8080/"
        },
        "id": "isStBtY0STLH",
        "outputId": "318b828d-a094-4355-cad6-df4753e0fd86"
      },
      "execution_count": 15,
      "outputs": [
        {
          "output_type": "stream",
          "name": "stdout",
          "text": [
            "1/1 [==============================] - 0s 42ms/step\n"
          ]
        },
        {
          "output_type": "execute_result",
          "data": {
            "text/plain": [
              "array([[-6.2961936]], dtype=float32)"
            ]
          },
          "metadata": {},
          "execution_count": 15
        }
      ]
    },
    {
      "cell_type": "markdown",
      "source": [
        "Thus as we can see, that for different different predictions, the answers are still not matching nd sometimes difference in expected result is more nd sometimes its less"
      ],
      "metadata": {
        "id": "ORZo91IOSfuj"
      }
    },
    {
      "cell_type": "markdown",
      "source": [
        "## Improving our model\n",
        "\n",
        "To improve our model, we alter almost every part of the 3 steps we went through before.\n",
        "\n",
        "1. Creating a model - here you might want to add more layers, increase the number of hidden units (also called neurons) within each layer, change the activation functions of each layer.\n",
        "\n",
        "2. Compiling a model - you might want to choose optimization function or perhaps change the learning rate of the optimization function.\n",
        "\n",
        "3. Fitting a model - perhaps you could fit a model for more epochs (leave it training for longer) or on more data (give the model more examples to learn from)."
      ],
      "metadata": {
        "id": "NSixHCPfS3DD"
      }
    },
    {
      "cell_type": "markdown",
      "source": [
        "\n",
        "\n",
        "---\n",
        "we can convert the smaller model to bigger nd improved model step by step, so follwing ways are (check the differences)\n"
      ],
      "metadata": {
        "id": "XIlRIIF6S6p2"
      }
    },
    {
      "cell_type": "code",
      "source": [
        "#create\n",
        "model=tf.keras.Sequential([\n",
        "    tf.keras.layers.Dense(1)\n",
        "])\n",
        "\n",
        "#compile\n",
        "model.compile(loss=tf.keras.losses.mae,\n",
        "              optimizer=tf.keras.optimizers.SGD(),\n",
        "              metrics=[\"mae\"])\n",
        "\n",
        "#fit\n",
        "model.fit(tf.expand_dims(X,axis=-1),y,epochs=100) ## laps has been changed to 100"
      ],
      "metadata": {
        "colab": {
          "base_uri": "https://localhost:8080/"
        },
        "id": "kOEcla8vWBwH",
        "outputId": "9364f4cb-c098-402e-fe79-0bc24fe4fbcb"
      },
      "execution_count": 16,
      "outputs": [
        {
          "output_type": "stream",
          "name": "stdout",
          "text": [
            "Epoch 1/100\n",
            "1/1 [==============================] - 0s 409ms/step - loss: 13.8537 - mae: 13.8537\n",
            "Epoch 2/100\n",
            "1/1 [==============================] - 0s 12ms/step - loss: 13.7212 - mae: 13.7212\n",
            "Epoch 3/100\n",
            "1/1 [==============================] - 0s 9ms/step - loss: 13.5887 - mae: 13.5887\n",
            "Epoch 4/100\n",
            "1/1 [==============================] - 0s 13ms/step - loss: 13.4562 - mae: 13.4562\n",
            "Epoch 5/100\n",
            "1/1 [==============================] - 0s 14ms/step - loss: 13.3237 - mae: 13.3237\n",
            "Epoch 6/100\n",
            "1/1 [==============================] - 0s 10ms/step - loss: 13.1912 - mae: 13.1912\n",
            "Epoch 7/100\n",
            "1/1 [==============================] - 0s 12ms/step - loss: 13.0587 - mae: 13.0587\n",
            "Epoch 8/100\n",
            "1/1 [==============================] - 0s 11ms/step - loss: 12.9262 - mae: 12.9262\n",
            "Epoch 9/100\n",
            "1/1 [==============================] - 0s 10ms/step - loss: 12.7937 - mae: 12.7937\n",
            "Epoch 10/100\n",
            "1/1 [==============================] - 0s 13ms/step - loss: 12.6612 - mae: 12.6612\n",
            "Epoch 11/100\n",
            "1/1 [==============================] - 0s 10ms/step - loss: 12.5287 - mae: 12.5287\n",
            "Epoch 12/100\n",
            "1/1 [==============================] - 0s 10ms/step - loss: 12.3962 - mae: 12.3962\n",
            "Epoch 13/100\n",
            "1/1 [==============================] - 0s 10ms/step - loss: 12.2637 - mae: 12.2637\n",
            "Epoch 14/100\n",
            "1/1 [==============================] - 0s 10ms/step - loss: 12.1312 - mae: 12.1312\n",
            "Epoch 15/100\n",
            "1/1 [==============================] - 0s 10ms/step - loss: 11.9987 - mae: 11.9987\n",
            "Epoch 16/100\n",
            "1/1 [==============================] - 0s 9ms/step - loss: 11.8662 - mae: 11.8662\n",
            "Epoch 17/100\n",
            "1/1 [==============================] - 0s 10ms/step - loss: 11.7337 - mae: 11.7337\n",
            "Epoch 18/100\n",
            "1/1 [==============================] - 0s 10ms/step - loss: 11.6012 - mae: 11.6012\n",
            "Epoch 19/100\n",
            "1/1 [==============================] - 0s 10ms/step - loss: 11.4687 - mae: 11.4687\n",
            "Epoch 20/100\n",
            "1/1 [==============================] - 0s 9ms/step - loss: 11.3362 - mae: 11.3362\n",
            "Epoch 21/100\n",
            "1/1 [==============================] - 0s 10ms/step - loss: 11.2037 - mae: 11.2037\n",
            "Epoch 22/100\n",
            "1/1 [==============================] - 0s 9ms/step - loss: 11.0712 - mae: 11.0712\n",
            "Epoch 23/100\n",
            "1/1 [==============================] - 0s 9ms/step - loss: 10.9387 - mae: 10.9387\n",
            "Epoch 24/100\n",
            "1/1 [==============================] - 0s 9ms/step - loss: 10.8062 - mae: 10.8062\n",
            "Epoch 25/100\n",
            "1/1 [==============================] - 0s 9ms/step - loss: 10.6737 - mae: 10.6737\n",
            "Epoch 26/100\n",
            "1/1 [==============================] - 0s 9ms/step - loss: 10.5412 - mae: 10.5412\n",
            "Epoch 27/100\n",
            "1/1 [==============================] - 0s 9ms/step - loss: 10.4087 - mae: 10.4087\n",
            "Epoch 28/100\n",
            "1/1 [==============================] - 0s 9ms/step - loss: 10.2762 - mae: 10.2762\n",
            "Epoch 29/100\n",
            "1/1 [==============================] - 0s 10ms/step - loss: 10.1437 - mae: 10.1437\n",
            "Epoch 30/100\n",
            "1/1 [==============================] - 0s 10ms/step - loss: 10.0112 - mae: 10.0112\n",
            "Epoch 31/100\n",
            "1/1 [==============================] - 0s 11ms/step - loss: 9.8787 - mae: 9.8787\n",
            "Epoch 32/100\n",
            "1/1 [==============================] - 0s 9ms/step - loss: 9.7462 - mae: 9.7462\n",
            "Epoch 33/100\n",
            "1/1 [==============================] - 0s 16ms/step - loss: 9.6137 - mae: 9.6137\n",
            "Epoch 34/100\n",
            "1/1 [==============================] - 0s 11ms/step - loss: 9.4812 - mae: 9.4812\n",
            "Epoch 35/100\n",
            "1/1 [==============================] - 0s 9ms/step - loss: 9.3487 - mae: 9.3487\n",
            "Epoch 36/100\n",
            "1/1 [==============================] - 0s 13ms/step - loss: 9.2162 - mae: 9.2162\n",
            "Epoch 37/100\n",
            "1/1 [==============================] - 0s 10ms/step - loss: 9.0837 - mae: 9.0837\n",
            "Epoch 38/100\n",
            "1/1 [==============================] - 0s 10ms/step - loss: 8.9512 - mae: 8.9512\n",
            "Epoch 39/100\n",
            "1/1 [==============================] - 0s 10ms/step - loss: 8.8187 - mae: 8.8187\n",
            "Epoch 40/100\n",
            "1/1 [==============================] - 0s 10ms/step - loss: 8.6862 - mae: 8.6862\n",
            "Epoch 41/100\n",
            "1/1 [==============================] - 0s 10ms/step - loss: 8.5537 - mae: 8.5537\n",
            "Epoch 42/100\n",
            "1/1 [==============================] - 0s 11ms/step - loss: 8.4212 - mae: 8.4212\n",
            "Epoch 43/100\n",
            "1/1 [==============================] - 0s 10ms/step - loss: 8.2887 - mae: 8.2887\n",
            "Epoch 44/100\n",
            "1/1 [==============================] - 0s 10ms/step - loss: 8.1562 - mae: 8.1562\n",
            "Epoch 45/100\n",
            "1/1 [==============================] - 0s 10ms/step - loss: 8.0237 - mae: 8.0237\n",
            "Epoch 46/100\n",
            "1/1 [==============================] - 0s 10ms/step - loss: 7.8912 - mae: 7.8912\n",
            "Epoch 47/100\n",
            "1/1 [==============================] - 0s 11ms/step - loss: 7.7587 - mae: 7.7587\n",
            "Epoch 48/100\n",
            "1/1 [==============================] - 0s 13ms/step - loss: 7.6262 - mae: 7.6262\n",
            "Epoch 49/100\n",
            "1/1 [==============================] - 0s 11ms/step - loss: 7.4937 - mae: 7.4937\n",
            "Epoch 50/100\n",
            "1/1 [==============================] - 0s 10ms/step - loss: 7.3612 - mae: 7.3612\n",
            "Epoch 51/100\n",
            "1/1 [==============================] - 0s 10ms/step - loss: 7.2287 - mae: 7.2287\n",
            "Epoch 52/100\n",
            "1/1 [==============================] - 0s 10ms/step - loss: 7.1175 - mae: 7.1175\n",
            "Epoch 53/100\n",
            "1/1 [==============================] - 0s 10ms/step - loss: 7.1119 - mae: 7.1119\n",
            "Epoch 54/100\n",
            "1/1 [==============================] - 0s 10ms/step - loss: 7.1063 - mae: 7.1063\n",
            "Epoch 55/100\n",
            "1/1 [==============================] - 0s 10ms/step - loss: 7.1006 - mae: 7.1006\n",
            "Epoch 56/100\n",
            "1/1 [==============================] - 0s 10ms/step - loss: 7.0950 - mae: 7.0950\n",
            "Epoch 57/100\n",
            "1/1 [==============================] - 0s 10ms/step - loss: 7.0894 - mae: 7.0894\n",
            "Epoch 58/100\n",
            "1/1 [==============================] - 0s 10ms/step - loss: 7.0838 - mae: 7.0838\n",
            "Epoch 59/100\n",
            "1/1 [==============================] - 0s 9ms/step - loss: 7.0781 - mae: 7.0781\n",
            "Epoch 60/100\n",
            "1/1 [==============================] - 0s 10ms/step - loss: 7.0725 - mae: 7.0725\n",
            "Epoch 61/100\n",
            "1/1 [==============================] - 0s 9ms/step - loss: 7.0669 - mae: 7.0669\n",
            "Epoch 62/100\n",
            "1/1 [==============================] - 0s 10ms/step - loss: 7.0613 - mae: 7.0613\n",
            "Epoch 63/100\n",
            "1/1 [==============================] - 0s 15ms/step - loss: 7.0556 - mae: 7.0556\n",
            "Epoch 64/100\n",
            "1/1 [==============================] - 0s 14ms/step - loss: 7.0500 - mae: 7.0500\n",
            "Epoch 65/100\n",
            "1/1 [==============================] - 0s 10ms/step - loss: 7.0444 - mae: 7.0444\n",
            "Epoch 66/100\n",
            "1/1 [==============================] - 0s 14ms/step - loss: 7.0388 - mae: 7.0388\n",
            "Epoch 67/100\n",
            "1/1 [==============================] - 0s 14ms/step - loss: 7.0331 - mae: 7.0331\n",
            "Epoch 68/100\n",
            "1/1 [==============================] - 0s 11ms/step - loss: 7.0275 - mae: 7.0275\n",
            "Epoch 69/100\n",
            "1/1 [==============================] - 0s 12ms/step - loss: 7.0219 - mae: 7.0219\n",
            "Epoch 70/100\n",
            "1/1 [==============================] - 0s 10ms/step - loss: 7.0163 - mae: 7.0163\n",
            "Epoch 71/100\n",
            "1/1 [==============================] - 0s 9ms/step - loss: 7.0106 - mae: 7.0106\n",
            "Epoch 72/100\n",
            "1/1 [==============================] - 0s 9ms/step - loss: 7.0050 - mae: 7.0050\n",
            "Epoch 73/100\n",
            "1/1 [==============================] - 0s 9ms/step - loss: 6.9994 - mae: 6.9994\n",
            "Epoch 74/100\n",
            "1/1 [==============================] - 0s 20ms/step - loss: 6.9938 - mae: 6.9938\n",
            "Epoch 75/100\n",
            "1/1 [==============================] - 0s 15ms/step - loss: 6.9881 - mae: 6.9881\n",
            "Epoch 76/100\n",
            "1/1 [==============================] - 0s 11ms/step - loss: 6.9825 - mae: 6.9825\n",
            "Epoch 77/100\n",
            "1/1 [==============================] - 0s 17ms/step - loss: 6.9769 - mae: 6.9769\n",
            "Epoch 78/100\n",
            "1/1 [==============================] - 0s 12ms/step - loss: 6.9713 - mae: 6.9713\n",
            "Epoch 79/100\n",
            "1/1 [==============================] - 0s 10ms/step - loss: 6.9656 - mae: 6.9656\n",
            "Epoch 80/100\n",
            "1/1 [==============================] - 0s 10ms/step - loss: 6.9600 - mae: 6.9600\n",
            "Epoch 81/100\n",
            "1/1 [==============================] - 0s 10ms/step - loss: 6.9544 - mae: 6.9544\n",
            "Epoch 82/100\n",
            "1/1 [==============================] - 0s 10ms/step - loss: 6.9488 - mae: 6.9488\n",
            "Epoch 83/100\n",
            "1/1 [==============================] - 0s 10ms/step - loss: 6.9431 - mae: 6.9431\n",
            "Epoch 84/100\n",
            "1/1 [==============================] - 0s 11ms/step - loss: 6.9375 - mae: 6.9375\n",
            "Epoch 85/100\n",
            "1/1 [==============================] - 0s 12ms/step - loss: 6.9319 - mae: 6.9319\n",
            "Epoch 86/100\n",
            "1/1 [==============================] - 0s 10ms/step - loss: 6.9263 - mae: 6.9263\n",
            "Epoch 87/100\n",
            "1/1 [==============================] - 0s 12ms/step - loss: 6.9206 - mae: 6.9206\n",
            "Epoch 88/100\n",
            "1/1 [==============================] - 0s 12ms/step - loss: 6.9150 - mae: 6.9150\n",
            "Epoch 89/100\n",
            "1/1 [==============================] - 0s 14ms/step - loss: 6.9094 - mae: 6.9094\n",
            "Epoch 90/100\n",
            "1/1 [==============================] - 0s 14ms/step - loss: 6.9038 - mae: 6.9038\n",
            "Epoch 91/100\n",
            "1/1 [==============================] - 0s 9ms/step - loss: 6.8981 - mae: 6.8981\n",
            "Epoch 92/100\n",
            "1/1 [==============================] - 0s 11ms/step - loss: 6.8925 - mae: 6.8925\n",
            "Epoch 93/100\n",
            "1/1 [==============================] - 0s 9ms/step - loss: 6.8869 - mae: 6.8869\n",
            "Epoch 94/100\n",
            "1/1 [==============================] - 0s 10ms/step - loss: 6.8813 - mae: 6.8813\n",
            "Epoch 95/100\n",
            "1/1 [==============================] - 0s 11ms/step - loss: 6.8756 - mae: 6.8756\n",
            "Epoch 96/100\n",
            "1/1 [==============================] - 0s 11ms/step - loss: 6.8700 - mae: 6.8700\n",
            "Epoch 97/100\n",
            "1/1 [==============================] - 0s 10ms/step - loss: 6.8644 - mae: 6.8644\n",
            "Epoch 98/100\n",
            "1/1 [==============================] - 0s 10ms/step - loss: 6.8588 - mae: 6.8588\n",
            "Epoch 99/100\n",
            "1/1 [==============================] - 0s 11ms/step - loss: 6.8531 - mae: 6.8531\n",
            "Epoch 100/100\n",
            "1/1 [==============================] - 0s 9ms/step - loss: 6.8475 - mae: 6.8475\n"
          ]
        },
        {
          "output_type": "execute_result",
          "data": {
            "text/plain": [
              "<keras.callbacks.History at 0x7f9d2b5ff190>"
            ]
          },
          "metadata": {},
          "execution_count": 16
        }
      ]
    },
    {
      "cell_type": "code",
      "source": [
        "model.predict([17.0])"
      ],
      "metadata": {
        "colab": {
          "base_uri": "https://localhost:8080/"
        },
        "id": "zXToTT18ZFK4",
        "outputId": "25fadb96-cbf0-4af6-8db8-01dd3190a0fb"
      },
      "execution_count": 17,
      "outputs": [
        {
          "output_type": "stream",
          "name": "stdout",
          "text": [
            "1/1 [==============================] - 0s 129ms/step\n"
          ]
        },
        {
          "output_type": "execute_result",
          "data": {
            "text/plain": [
              "array([[29.504414]], dtype=float32)"
            ]
          },
          "metadata": {},
          "execution_count": 17
        }
      ]
    },
    {
      "cell_type": "code",
      "source": [
        "model.predict([22.0])"
      ],
      "metadata": {
        "colab": {
          "base_uri": "https://localhost:8080/"
        },
        "id": "uM4UXuboZaxZ",
        "outputId": "1af81533-b8ff-4bdb-fe02-1abbe941b71c"
      },
      "execution_count": 18,
      "outputs": [
        {
          "output_type": "stream",
          "name": "stdout",
          "text": [
            "1/1 [==============================] - 0s 153ms/step\n"
          ]
        },
        {
          "output_type": "execute_result",
          "data": {
            "text/plain": [
              "array([[37.92409]], dtype=float32)"
            ]
          },
          "metadata": {},
          "execution_count": 18
        }
      ]
    },
    {
      "cell_type": "markdown",
      "source": [
        "\n",
        "\n",
        "---\n",
        "\n",
        "\n",
        "\n",
        "---\n",
        "\n"
      ],
      "metadata": {
        "id": "-5Ld1sxUeIcn"
      }
    },
    {
      "cell_type": "code",
      "source": [
        "X"
      ],
      "metadata": {
        "colab": {
          "base_uri": "https://localhost:8080/"
        },
        "id": "LOJ4xR4Rdvao",
        "outputId": "3918a45e-75ca-4522-ee6d-ad88695ad657"
      },
      "execution_count": 19,
      "outputs": [
        {
          "output_type": "execute_result",
          "data": {
            "text/plain": [
              "<tf.Tensor: shape=(8,), dtype=float64, numpy=array([-7., -4., -1.,  2.,  5.,  8., 11., 14.])>"
            ]
          },
          "metadata": {},
          "execution_count": 19
        }
      ]
    },
    {
      "cell_type": "code",
      "source": [
        "X=tf.expand_dims(X,axis=-1)\n",
        "X"
      ],
      "metadata": {
        "colab": {
          "base_uri": "https://localhost:8080/"
        },
        "id": "XOs3mIRFdlYI",
        "outputId": "62ce8930-6ab4-4c27-e695-1f883ab504ed"
      },
      "execution_count": 20,
      "outputs": [
        {
          "output_type": "execute_result",
          "data": {
            "text/plain": [
              "<tf.Tensor: shape=(8, 1), dtype=float64, numpy=\n",
              "array([[-7.],\n",
              "       [-4.],\n",
              "       [-1.],\n",
              "       [ 2.],\n",
              "       [ 5.],\n",
              "       [ 8.],\n",
              "       [11.],\n",
              "       [14.]])>"
            ]
          },
          "metadata": {},
          "execution_count": 20
        }
      ]
    },
    {
      "cell_type": "code",
      "source": [
        "## again improving the model\n",
        "\n",
        "#create\n",
        "model=tf.keras.Sequential([\n",
        "    tf.keras.layers.Dense(100, activation=\"relu\"),\n",
        "\n",
        "    \n",
        "    # adding more hidden layers, with 100 neurons \n",
        "    # it might show that the loss has reduced, but effictively won't improve the outcome\n",
        "\n",
        "\n",
        "    tf.keras.layers.Dense(1)\n",
        "])\n",
        "\n",
        "#compile\n",
        "model.compile(loss=\"mae\",\n",
        "              optimizer=tf.keras.optimizers.SGD(),\n",
        "              metrics=[\"mae\"]\n",
        "              )\n",
        "\n",
        "# fit\n",
        "model.fit(X,y,epochs=100)"
      ],
      "metadata": {
        "colab": {
          "base_uri": "https://localhost:8080/"
        },
        "id": "z9lhh5X4Zef4",
        "outputId": "5990225d-ea75-4d49-e15d-02acca4d492f"
      },
      "execution_count": 21,
      "outputs": [
        {
          "output_type": "stream",
          "name": "stdout",
          "text": [
            "Epoch 1/100\n",
            "1/1 [==============================] - 1s 628ms/step - loss: 13.5062 - mae: 13.5062\n",
            "Epoch 2/100\n",
            "1/1 [==============================] - 0s 15ms/step - loss: 12.9305 - mae: 12.9305\n",
            "Epoch 3/100\n",
            "1/1 [==============================] - 0s 12ms/step - loss: 12.3562 - mae: 12.3562\n",
            "Epoch 4/100\n",
            "1/1 [==============================] - 0s 11ms/step - loss: 11.7714 - mae: 11.7714\n",
            "Epoch 5/100\n",
            "1/1 [==============================] - 0s 12ms/step - loss: 11.1967 - mae: 11.1967\n",
            "Epoch 6/100\n",
            "1/1 [==============================] - 0s 10ms/step - loss: 10.5987 - mae: 10.5987\n",
            "Epoch 7/100\n",
            "1/1 [==============================] - 0s 12ms/step - loss: 9.9883 - mae: 9.9883\n",
            "Epoch 8/100\n",
            "1/1 [==============================] - 0s 11ms/step - loss: 9.3702 - mae: 9.3702\n",
            "Epoch 9/100\n",
            "1/1 [==============================] - 0s 10ms/step - loss: 8.7133 - mae: 8.7133\n",
            "Epoch 10/100\n",
            "1/1 [==============================] - 0s 14ms/step - loss: 8.0126 - mae: 8.0126\n",
            "Epoch 11/100\n",
            "1/1 [==============================] - 0s 15ms/step - loss: 7.2627 - mae: 7.2627\n",
            "Epoch 12/100\n",
            "1/1 [==============================] - 0s 17ms/step - loss: 6.4604 - mae: 6.4604\n",
            "Epoch 13/100\n",
            "1/1 [==============================] - 0s 17ms/step - loss: 5.5970 - mae: 5.5970\n",
            "Epoch 14/100\n",
            "1/1 [==============================] - 0s 12ms/step - loss: 4.6612 - mae: 4.6612\n",
            "Epoch 15/100\n",
            "1/1 [==============================] - 0s 11ms/step - loss: 4.2616 - mae: 4.2616\n",
            "Epoch 16/100\n",
            "1/1 [==============================] - 0s 11ms/step - loss: 4.2502 - mae: 4.2502\n",
            "Epoch 17/100\n",
            "1/1 [==============================] - 0s 10ms/step - loss: 4.1440 - mae: 4.1440\n",
            "Epoch 18/100\n",
            "1/1 [==============================] - 0s 11ms/step - loss: 4.1654 - mae: 4.1654\n",
            "Epoch 19/100\n",
            "1/1 [==============================] - 0s 12ms/step - loss: 4.0524 - mae: 4.0524\n",
            "Epoch 20/100\n",
            "1/1 [==============================] - 0s 13ms/step - loss: 4.0509 - mae: 4.0509\n",
            "Epoch 21/100\n",
            "1/1 [==============================] - 0s 13ms/step - loss: 3.9652 - mae: 3.9652\n",
            "Epoch 22/100\n",
            "1/1 [==============================] - 0s 11ms/step - loss: 3.9296 - mae: 3.9296\n",
            "Epoch 23/100\n",
            "1/1 [==============================] - 0s 11ms/step - loss: 3.9149 - mae: 3.9149\n",
            "Epoch 24/100\n",
            "1/1 [==============================] - 0s 12ms/step - loss: 3.8938 - mae: 3.8938\n",
            "Epoch 25/100\n",
            "1/1 [==============================] - 0s 10ms/step - loss: 3.9217 - mae: 3.9217\n",
            "Epoch 26/100\n",
            "1/1 [==============================] - 0s 19ms/step - loss: 3.8681 - mae: 3.8681\n",
            "Epoch 27/100\n",
            "1/1 [==============================] - 0s 20ms/step - loss: 3.9286 - mae: 3.9286\n",
            "Epoch 28/100\n",
            "1/1 [==============================] - 0s 16ms/step - loss: 3.8633 - mae: 3.8633\n",
            "Epoch 29/100\n",
            "1/1 [==============================] - 0s 12ms/step - loss: 3.9225 - mae: 3.9225\n",
            "Epoch 30/100\n",
            "1/1 [==============================] - 0s 17ms/step - loss: 3.8770 - mae: 3.8770\n",
            "Epoch 31/100\n",
            "1/1 [==============================] - 0s 10ms/step - loss: 3.8969 - mae: 3.8969\n",
            "Epoch 32/100\n",
            "1/1 [==============================] - 0s 10ms/step - loss: 3.8839 - mae: 3.8839\n",
            "Epoch 33/100\n",
            "1/1 [==============================] - 0s 14ms/step - loss: 3.8711 - mae: 3.8711\n",
            "Epoch 34/100\n",
            "1/1 [==============================] - 0s 13ms/step - loss: 3.8908 - mae: 3.8908\n",
            "Epoch 35/100\n",
            "1/1 [==============================] - 0s 13ms/step - loss: 3.8452 - mae: 3.8452\n",
            "Epoch 36/100\n",
            "1/1 [==============================] - 0s 13ms/step - loss: 3.8982 - mae: 3.8982\n",
            "Epoch 37/100\n",
            "1/1 [==============================] - 0s 11ms/step - loss: 3.8399 - mae: 3.8399\n",
            "Epoch 38/100\n",
            "1/1 [==============================] - 0s 14ms/step - loss: 3.8991 - mae: 3.8991\n",
            "Epoch 39/100\n",
            "1/1 [==============================] - 0s 12ms/step - loss: 3.8469 - mae: 3.8469\n",
            "Epoch 40/100\n",
            "1/1 [==============================] - 0s 11ms/step - loss: 3.8732 - mae: 3.8732\n",
            "Epoch 41/100\n",
            "1/1 [==============================] - 0s 13ms/step - loss: 3.8540 - mae: 3.8540\n",
            "Epoch 42/100\n",
            "1/1 [==============================] - 0s 15ms/step - loss: 3.8472 - mae: 3.8472\n",
            "Epoch 43/100\n",
            "1/1 [==============================] - 0s 12ms/step - loss: 3.8612 - mae: 3.8612\n",
            "Epoch 44/100\n",
            "1/1 [==============================] - 0s 12ms/step - loss: 3.8211 - mae: 3.8211\n",
            "Epoch 45/100\n",
            "1/1 [==============================] - 0s 10ms/step - loss: 3.8753 - mae: 3.8753\n",
            "Epoch 46/100\n",
            "1/1 [==============================] - 0s 11ms/step - loss: 3.8109 - mae: 3.8109\n",
            "Epoch 47/100\n",
            "1/1 [==============================] - 0s 16ms/step - loss: 3.8746 - mae: 3.8746\n",
            "Epoch 48/100\n",
            "1/1 [==============================] - 0s 14ms/step - loss: 3.8180 - mae: 3.8180\n",
            "Epoch 49/100\n",
            "1/1 [==============================] - 0s 12ms/step - loss: 3.8484 - mae: 3.8484\n",
            "Epoch 50/100\n",
            "1/1 [==============================] - 0s 14ms/step - loss: 3.8253 - mae: 3.8253\n",
            "Epoch 51/100\n",
            "1/1 [==============================] - 0s 12ms/step - loss: 3.8221 - mae: 3.8221\n",
            "Epoch 52/100\n",
            "1/1 [==============================] - 0s 12ms/step - loss: 3.8328 - mae: 3.8328\n",
            "Epoch 53/100\n",
            "1/1 [==============================] - 0s 10ms/step - loss: 3.8013 - mae: 3.8013\n",
            "Epoch 54/100\n",
            "1/1 [==============================] - 0s 11ms/step - loss: 3.8485 - mae: 3.8485\n",
            "Epoch 55/100\n",
            "1/1 [==============================] - 0s 12ms/step - loss: 3.7830 - mae: 3.7830\n",
            "Epoch 56/100\n",
            "1/1 [==============================] - 0s 12ms/step - loss: 3.8487 - mae: 3.8487\n",
            "Epoch 57/100\n",
            "1/1 [==============================] - 0s 11ms/step - loss: 3.7903 - mae: 3.7903\n",
            "Epoch 58/100\n",
            "1/1 [==============================] - 0s 12ms/step - loss: 3.8223 - mae: 3.8223\n",
            "Epoch 59/100\n",
            "1/1 [==============================] - 0s 11ms/step - loss: 3.7978 - mae: 3.7978\n",
            "Epoch 60/100\n",
            "1/1 [==============================] - 0s 11ms/step - loss: 3.7957 - mae: 3.7957\n",
            "Epoch 61/100\n",
            "1/1 [==============================] - 0s 11ms/step - loss: 3.8092 - mae: 3.8092\n",
            "Epoch 62/100\n",
            "1/1 [==============================] - 0s 12ms/step - loss: 3.7765 - mae: 3.7765\n",
            "Epoch 63/100\n",
            "1/1 [==============================] - 0s 12ms/step - loss: 3.8213 - mae: 3.8213\n",
            "Epoch 64/100\n",
            "1/1 [==============================] - 0s 11ms/step - loss: 3.7561 - mae: 3.7561\n",
            "Epoch 65/100\n",
            "1/1 [==============================] - 0s 12ms/step - loss: 3.8215 - mae: 3.8215\n",
            "Epoch 66/100\n",
            "1/1 [==============================] - 0s 15ms/step - loss: 3.7637 - mae: 3.7637\n",
            "Epoch 67/100\n",
            "1/1 [==============================] - 0s 11ms/step - loss: 3.7948 - mae: 3.7948\n",
            "Epoch 68/100\n",
            "1/1 [==============================] - 0s 11ms/step - loss: 3.7715 - mae: 3.7715\n",
            "Epoch 69/100\n",
            "1/1 [==============================] - 0s 16ms/step - loss: 3.7703 - mae: 3.7703\n",
            "Epoch 70/100\n",
            "1/1 [==============================] - 0s 11ms/step - loss: 3.7874 - mae: 3.7874\n",
            "Epoch 71/100\n",
            "1/1 [==============================] - 0s 10ms/step - loss: 3.7485 - mae: 3.7485\n",
            "Epoch 72/100\n",
            "1/1 [==============================] - 0s 13ms/step - loss: 3.7952 - mae: 3.7952\n",
            "Epoch 73/100\n",
            "1/1 [==============================] - 0s 10ms/step - loss: 3.7303 - mae: 3.7303\n",
            "Epoch 74/100\n",
            "1/1 [==============================] - 0s 11ms/step - loss: 3.7931 - mae: 3.7931\n",
            "Epoch 75/100\n",
            "1/1 [==============================] - 0s 11ms/step - loss: 3.7381 - mae: 3.7381\n",
            "Epoch 76/100\n",
            "1/1 [==============================] - 0s 12ms/step - loss: 3.7662 - mae: 3.7662\n",
            "Epoch 77/100\n",
            "1/1 [==============================] - 0s 13ms/step - loss: 3.7462 - mae: 3.7462\n",
            "Epoch 78/100\n",
            "1/1 [==============================] - 0s 13ms/step - loss: 3.7465 - mae: 3.7465\n",
            "Epoch 79/100\n",
            "1/1 [==============================] - 0s 11ms/step - loss: 3.7621 - mae: 3.7621\n",
            "Epoch 80/100\n",
            "1/1 [==============================] - 0s 17ms/step - loss: 3.7191 - mae: 3.7191\n",
            "Epoch 81/100\n",
            "1/1 [==============================] - 0s 15ms/step - loss: 3.7701 - mae: 3.7701\n",
            "Epoch 82/100\n",
            "1/1 [==============================] - 0s 12ms/step - loss: 3.7055 - mae: 3.7055\n",
            "Epoch 83/100\n",
            "1/1 [==============================] - 0s 13ms/step - loss: 3.7634 - mae: 3.7634\n",
            "Epoch 84/100\n",
            "1/1 [==============================] - 0s 15ms/step - loss: 3.7136 - mae: 3.7136\n",
            "Epoch 85/100\n",
            "1/1 [==============================] - 0s 11ms/step - loss: 3.7361 - mae: 3.7361\n",
            "Epoch 86/100\n",
            "1/1 [==============================] - 0s 12ms/step - loss: 3.7276 - mae: 3.7276\n",
            "Epoch 87/100\n",
            "1/1 [==============================] - 0s 12ms/step - loss: 3.7161 - mae: 3.7161\n",
            "Epoch 88/100\n",
            "1/1 [==============================] - 0s 16ms/step - loss: 3.7380 - mae: 3.7380\n",
            "Epoch 89/100\n",
            "1/1 [==============================] - 0s 17ms/step - loss: 3.6883 - mae: 3.6883\n",
            "Epoch 90/100\n",
            "1/1 [==============================] - 0s 12ms/step - loss: 3.7462 - mae: 3.7462\n",
            "Epoch 91/100\n",
            "1/1 [==============================] - 0s 10ms/step - loss: 3.6818 - mae: 3.6818\n",
            "Epoch 92/100\n",
            "1/1 [==============================] - 0s 15ms/step - loss: 3.7324 - mae: 3.7324\n",
            "Epoch 93/100\n",
            "1/1 [==============================] - 0s 14ms/step - loss: 3.6900 - mae: 3.6900\n",
            "Epoch 94/100\n",
            "1/1 [==============================] - 0s 9ms/step - loss: 3.7089 - mae: 3.7089\n",
            "Epoch 95/100\n",
            "1/1 [==============================] - 0s 10ms/step - loss: 3.7065 - mae: 3.7065\n",
            "Epoch 96/100\n",
            "1/1 [==============================] - 0s 9ms/step - loss: 3.6843 - mae: 3.6843\n",
            "Epoch 97/100\n",
            "1/1 [==============================] - 0s 10ms/step - loss: 3.7147 - mae: 3.7147\n",
            "Epoch 98/100\n",
            "1/1 [==============================] - 0s 10ms/step - loss: 3.6562 - mae: 3.6562\n",
            "Epoch 99/100\n",
            "1/1 [==============================] - 0s 9ms/step - loss: 3.7232 - mae: 3.7232\n",
            "Epoch 100/100\n",
            "1/1 [==============================] - 0s 9ms/step - loss: 3.6589 - mae: 3.6589\n"
          ]
        },
        {
          "output_type": "execute_result",
          "data": {
            "text/plain": [
              "<keras.callbacks.History at 0x7f9d2b4fb700>"
            ]
          },
          "metadata": {},
          "execution_count": 21
        }
      ]
    },
    {
      "cell_type": "code",
      "source": [
        "X,y"
      ],
      "metadata": {
        "colab": {
          "base_uri": "https://localhost:8080/"
        },
        "id": "1MrzIDmje1Zz",
        "outputId": "3c464685-cc1e-4b44-f37e-65f1d80426c0"
      },
      "execution_count": 22,
      "outputs": [
        {
          "output_type": "execute_result",
          "data": {
            "text/plain": [
              "(<tf.Tensor: shape=(8, 1), dtype=float64, numpy=\n",
              " array([[-7.],\n",
              "        [-4.],\n",
              "        [-1.],\n",
              "        [ 2.],\n",
              "        [ 5.],\n",
              "        [ 8.],\n",
              "        [11.],\n",
              "        [14.]])>,\n",
              " <tf.Tensor: shape=(8,), dtype=float64, numpy=array([ 3.,  6.,  9., 12., 15., 18., 21., 24.])>)"
            ]
          },
          "metadata": {},
          "execution_count": 22
        }
      ]
    },
    {
      "cell_type": "code",
      "source": [
        "model.predict([17.0])"
      ],
      "metadata": {
        "colab": {
          "base_uri": "https://localhost:8080/"
        },
        "id": "yU-MHD-8d6tr",
        "outputId": "661fe04b-ce2c-4a3a-adcb-6f0f2d37cbae"
      },
      "execution_count": 23,
      "outputs": [
        {
          "output_type": "stream",
          "name": "stdout",
          "text": [
            "1/1 [==============================] - 0s 185ms/step\n"
          ]
        },
        {
          "output_type": "execute_result",
          "data": {
            "text/plain": [
              "array([[31.262434]], dtype=float32)"
            ]
          },
          "metadata": {},
          "execution_count": 23
        }
      ]
    },
    {
      "cell_type": "code",
      "source": [
        "## again improving the model\n",
        "\n",
        "#create\n",
        "model=tf.keras.Sequential([\n",
        "    tf.keras.layers.Dense(50, activation=None),\n",
        "    # we have reduced the number of neurons, changed activation to None\n",
        "    \n",
        "    \n",
        "    tf.keras.layers.Dense(1)\n",
        "])\n",
        "\n",
        "#compile\n",
        "model.compile(loss=\"mae\",\n",
        "              optimizer=tf.keras.optimizers.SGD(),\n",
        "              metrics=[\"mae\"]\n",
        "              )\n",
        "\n",
        "# fit\n",
        "model.fit(X,y,epochs=100)"
      ],
      "metadata": {
        "colab": {
          "base_uri": "https://localhost:8080/"
        },
        "id": "I6QT4flmeBGp",
        "outputId": "a1854799-e4ae-4cd1-ec72-f923144ae60f"
      },
      "execution_count": 24,
      "outputs": [
        {
          "output_type": "stream",
          "name": "stdout",
          "text": [
            "Epoch 1/100\n",
            "1/1 [==============================] - 0s 473ms/step - loss: 12.9571 - mae: 12.9571\n",
            "Epoch 2/100\n",
            "1/1 [==============================] - 0s 9ms/step - loss: 12.4130 - mae: 12.4130\n",
            "Epoch 3/100\n",
            "1/1 [==============================] - 0s 13ms/step - loss: 11.8646 - mae: 11.8646\n",
            "Epoch 4/100\n",
            "1/1 [==============================] - 0s 13ms/step - loss: 11.3091 - mae: 11.3091\n",
            "Epoch 5/100\n",
            "1/1 [==============================] - 0s 8ms/step - loss: 10.7436 - mae: 10.7436\n",
            "Epoch 6/100\n",
            "1/1 [==============================] - 0s 9ms/step - loss: 10.1652 - mae: 10.1652\n",
            "Epoch 7/100\n",
            "1/1 [==============================] - 0s 10ms/step - loss: 9.5709 - mae: 9.5709\n",
            "Epoch 8/100\n",
            "1/1 [==============================] - 0s 8ms/step - loss: 8.9576 - mae: 8.9576\n",
            "Epoch 9/100\n",
            "1/1 [==============================] - 0s 9ms/step - loss: 8.3223 - mae: 8.3223\n",
            "Epoch 10/100\n",
            "1/1 [==============================] - 0s 9ms/step - loss: 7.6615 - mae: 7.6615\n",
            "Epoch 11/100\n",
            "1/1 [==============================] - 0s 8ms/step - loss: 7.2527 - mae: 7.2527\n",
            "Epoch 12/100\n",
            "1/1 [==============================] - 0s 9ms/step - loss: 7.2325 - mae: 7.2325\n",
            "Epoch 13/100\n",
            "1/1 [==============================] - 0s 9ms/step - loss: 7.2121 - mae: 7.2121\n",
            "Epoch 14/100\n",
            "1/1 [==============================] - 0s 9ms/step - loss: 7.1918 - mae: 7.1918\n",
            "Epoch 15/100\n",
            "1/1 [==============================] - 0s 9ms/step - loss: 7.1714 - mae: 7.1714\n",
            "Epoch 16/100\n",
            "1/1 [==============================] - 0s 9ms/step - loss: 7.1509 - mae: 7.1509\n",
            "Epoch 17/100\n",
            "1/1 [==============================] - 0s 12ms/step - loss: 7.1304 - mae: 7.1304\n",
            "Epoch 18/100\n",
            "1/1 [==============================] - 0s 9ms/step - loss: 7.1099 - mae: 7.1099\n",
            "Epoch 19/100\n",
            "1/1 [==============================] - 0s 9ms/step - loss: 7.0893 - mae: 7.0893\n",
            "Epoch 20/100\n",
            "1/1 [==============================] - 0s 9ms/step - loss: 7.0686 - mae: 7.0686\n",
            "Epoch 21/100\n",
            "1/1 [==============================] - 0s 9ms/step - loss: 7.0478 - mae: 7.0478\n",
            "Epoch 22/100\n",
            "1/1 [==============================] - 0s 10ms/step - loss: 7.0270 - mae: 7.0270\n",
            "Epoch 23/100\n",
            "1/1 [==============================] - 0s 9ms/step - loss: 7.0061 - mae: 7.0061\n",
            "Epoch 24/100\n",
            "1/1 [==============================] - 0s 9ms/step - loss: 6.9851 - mae: 6.9851\n",
            "Epoch 25/100\n",
            "1/1 [==============================] - 0s 9ms/step - loss: 6.9641 - mae: 6.9641\n",
            "Epoch 26/100\n",
            "1/1 [==============================] - 0s 10ms/step - loss: 6.9429 - mae: 6.9429\n",
            "Epoch 27/100\n",
            "1/1 [==============================] - 0s 11ms/step - loss: 6.9217 - mae: 6.9217\n",
            "Epoch 28/100\n",
            "1/1 [==============================] - 0s 11ms/step - loss: 6.9004 - mae: 6.9004\n",
            "Epoch 29/100\n",
            "1/1 [==============================] - 0s 9ms/step - loss: 6.8790 - mae: 6.8790\n",
            "Epoch 30/100\n",
            "1/1 [==============================] - 0s 12ms/step - loss: 6.8575 - mae: 6.8575\n",
            "Epoch 31/100\n",
            "1/1 [==============================] - 0s 11ms/step - loss: 6.8359 - mae: 6.8359\n",
            "Epoch 32/100\n",
            "1/1 [==============================] - 0s 11ms/step - loss: 6.8141 - mae: 6.8141\n",
            "Epoch 33/100\n",
            "1/1 [==============================] - 0s 12ms/step - loss: 6.7923 - mae: 6.7923\n",
            "Epoch 34/100\n",
            "1/1 [==============================] - 0s 10ms/step - loss: 6.7704 - mae: 6.7704\n",
            "Epoch 35/100\n",
            "1/1 [==============================] - 0s 11ms/step - loss: 6.7570 - mae: 6.7570\n",
            "Epoch 36/100\n",
            "1/1 [==============================] - 0s 12ms/step - loss: 6.7430 - mae: 6.7430\n",
            "Epoch 37/100\n",
            "1/1 [==============================] - 0s 12ms/step - loss: 6.7212 - mae: 6.7212\n",
            "Epoch 38/100\n",
            "1/1 [==============================] - 0s 10ms/step - loss: 6.6994 - mae: 6.6994\n",
            "Epoch 39/100\n",
            "1/1 [==============================] - 0s 10ms/step - loss: 6.6775 - mae: 6.6775\n",
            "Epoch 40/100\n",
            "1/1 [==============================] - 0s 10ms/step - loss: 6.6554 - mae: 6.6554\n",
            "Epoch 41/100\n",
            "1/1 [==============================] - 0s 9ms/step - loss: 6.6331 - mae: 6.6331\n",
            "Epoch 42/100\n",
            "1/1 [==============================] - 0s 10ms/step - loss: 6.6108 - mae: 6.6108\n",
            "Epoch 43/100\n",
            "1/1 [==============================] - 0s 10ms/step - loss: 6.5883 - mae: 6.5883\n",
            "Epoch 44/100\n",
            "1/1 [==============================] - 0s 10ms/step - loss: 6.5656 - mae: 6.5656\n",
            "Epoch 45/100\n",
            "1/1 [==============================] - 0s 10ms/step - loss: 6.5428 - mae: 6.5428\n",
            "Epoch 46/100\n",
            "1/1 [==============================] - 0s 8ms/step - loss: 6.5199 - mae: 6.5199\n",
            "Epoch 47/100\n",
            "1/1 [==============================] - 0s 8ms/step - loss: 6.4968 - mae: 6.4968\n",
            "Epoch 48/100\n",
            "1/1 [==============================] - 0s 11ms/step - loss: 6.4735 - mae: 6.4735\n",
            "Epoch 49/100\n",
            "1/1 [==============================] - 0s 11ms/step - loss: 6.4500 - mae: 6.4500\n",
            "Epoch 50/100\n",
            "1/1 [==============================] - 0s 11ms/step - loss: 6.4264 - mae: 6.4264\n",
            "Epoch 51/100\n",
            "1/1 [==============================] - 0s 10ms/step - loss: 6.4026 - mae: 6.4026\n",
            "Epoch 52/100\n",
            "1/1 [==============================] - 0s 10ms/step - loss: 6.3787 - mae: 6.3787\n",
            "Epoch 53/100\n",
            "1/1 [==============================] - 0s 13ms/step - loss: 6.3545 - mae: 6.3545\n",
            "Epoch 54/100\n",
            "1/1 [==============================] - 0s 10ms/step - loss: 6.3302 - mae: 6.3302\n",
            "Epoch 55/100\n",
            "1/1 [==============================] - 0s 10ms/step - loss: 6.3057 - mae: 6.3057\n",
            "Epoch 56/100\n",
            "1/1 [==============================] - 0s 16ms/step - loss: 6.2810 - mae: 6.2810\n",
            "Epoch 57/100\n",
            "1/1 [==============================] - 0s 11ms/step - loss: 6.2573 - mae: 6.2573\n",
            "Epoch 58/100\n",
            "1/1 [==============================] - 0s 11ms/step - loss: 6.2541 - mae: 6.2541\n",
            "Epoch 59/100\n",
            "1/1 [==============================] - 0s 10ms/step - loss: 6.2293 - mae: 6.2293\n",
            "Epoch 60/100\n",
            "1/1 [==============================] - 0s 12ms/step - loss: 6.2044 - mae: 6.2044\n",
            "Epoch 61/100\n",
            "1/1 [==============================] - 0s 12ms/step - loss: 6.1793 - mae: 6.1793\n",
            "Epoch 62/100\n",
            "1/1 [==============================] - 0s 11ms/step - loss: 6.1539 - mae: 6.1539\n",
            "Epoch 63/100\n",
            "1/1 [==============================] - 0s 9ms/step - loss: 6.1283 - mae: 6.1283\n",
            "Epoch 64/100\n",
            "1/1 [==============================] - 0s 11ms/step - loss: 6.1025 - mae: 6.1025\n",
            "Epoch 65/100\n",
            "1/1 [==============================] - 0s 9ms/step - loss: 6.0765 - mae: 6.0765\n",
            "Epoch 66/100\n",
            "1/1 [==============================] - 0s 10ms/step - loss: 6.0502 - mae: 6.0502\n",
            "Epoch 67/100\n",
            "1/1 [==============================] - 0s 10ms/step - loss: 6.0237 - mae: 6.0237\n",
            "Epoch 68/100\n",
            "1/1 [==============================] - 0s 13ms/step - loss: 5.9970 - mae: 5.9970\n",
            "Epoch 69/100\n",
            "1/1 [==============================] - 0s 11ms/step - loss: 5.9700 - mae: 5.9700\n",
            "Epoch 70/100\n",
            "1/1 [==============================] - 0s 11ms/step - loss: 5.9428 - mae: 5.9428\n",
            "Epoch 71/100\n",
            "1/1 [==============================] - 0s 10ms/step - loss: 5.9153 - mae: 5.9153\n",
            "Epoch 72/100\n",
            "1/1 [==============================] - 0s 13ms/step - loss: 5.8875 - mae: 5.8875\n",
            "Epoch 73/100\n",
            "1/1 [==============================] - 0s 10ms/step - loss: 5.8595 - mae: 5.8595\n",
            "Epoch 74/100\n",
            "1/1 [==============================] - 0s 12ms/step - loss: 5.8312 - mae: 5.8312\n",
            "Epoch 75/100\n",
            "1/1 [==============================] - 0s 9ms/step - loss: 5.8073 - mae: 5.8073\n",
            "Epoch 76/100\n",
            "1/1 [==============================] - 0s 8ms/step - loss: 5.8189 - mae: 5.8189\n",
            "Epoch 77/100\n",
            "1/1 [==============================] - 0s 9ms/step - loss: 5.9178 - mae: 5.9178\n",
            "Epoch 78/100\n",
            "1/1 [==============================] - 0s 9ms/step - loss: 5.7407 - mae: 5.7407\n",
            "Epoch 79/100\n",
            "1/1 [==============================] - 0s 9ms/step - loss: 5.7115 - mae: 5.7115\n",
            "Epoch 80/100\n",
            "1/1 [==============================] - 0s 9ms/step - loss: 5.6820 - mae: 5.6820\n",
            "Epoch 81/100\n",
            "1/1 [==============================] - 0s 9ms/step - loss: 5.6522 - mae: 5.6522\n",
            "Epoch 82/100\n",
            "1/1 [==============================] - 0s 9ms/step - loss: 5.6220 - mae: 5.6220\n",
            "Epoch 83/100\n",
            "1/1 [==============================] - 0s 9ms/step - loss: 5.5916 - mae: 5.5916\n",
            "Epoch 84/100\n",
            "1/1 [==============================] - 0s 9ms/step - loss: 5.5609 - mae: 5.5609\n",
            "Epoch 85/100\n",
            "1/1 [==============================] - 0s 9ms/step - loss: 5.5298 - mae: 5.5298\n",
            "Epoch 86/100\n",
            "1/1 [==============================] - 0s 9ms/step - loss: 5.4984 - mae: 5.4984\n",
            "Epoch 87/100\n",
            "1/1 [==============================] - 0s 10ms/step - loss: 5.4697 - mae: 5.4697\n",
            "Epoch 88/100\n",
            "1/1 [==============================] - 0s 9ms/step - loss: 5.5307 - mae: 5.5307\n",
            "Epoch 89/100\n",
            "1/1 [==============================] - 0s 10ms/step - loss: 5.5842 - mae: 5.5842\n",
            "Epoch 90/100\n",
            "1/1 [==============================] - 0s 9ms/step - loss: 5.3979 - mae: 5.3979\n",
            "Epoch 91/100\n",
            "1/1 [==============================] - 0s 10ms/step - loss: 5.3653 - mae: 5.3653\n",
            "Epoch 92/100\n",
            "1/1 [==============================] - 0s 10ms/step - loss: 5.3323 - mae: 5.3323\n",
            "Epoch 93/100\n",
            "1/1 [==============================] - 0s 10ms/step - loss: 5.2989 - mae: 5.2989\n",
            "Epoch 94/100\n",
            "1/1 [==============================] - 0s 10ms/step - loss: 5.2652 - mae: 5.2652\n",
            "Epoch 95/100\n",
            "1/1 [==============================] - 0s 9ms/step - loss: 5.2311 - mae: 5.2311\n",
            "Epoch 96/100\n",
            "1/1 [==============================] - 0s 9ms/step - loss: 5.1966 - mae: 5.1966\n",
            "Epoch 97/100\n",
            "1/1 [==============================] - 0s 9ms/step - loss: 5.1618 - mae: 5.1618\n",
            "Epoch 98/100\n",
            "1/1 [==============================] - 0s 10ms/step - loss: 5.1265 - mae: 5.1265\n",
            "Epoch 99/100\n",
            "1/1 [==============================] - 0s 9ms/step - loss: 5.1196 - mae: 5.1196\n",
            "Epoch 100/100\n",
            "1/1 [==============================] - 0s 9ms/step - loss: 5.1776 - mae: 5.1776\n"
          ]
        },
        {
          "output_type": "execute_result",
          "data": {
            "text/plain": [
              "<keras.callbacks.History at 0x7f9d2b5dda20>"
            ]
          },
          "metadata": {},
          "execution_count": 24
        }
      ]
    },
    {
      "cell_type": "code",
      "source": [
        "model.predict([17.0])"
      ],
      "metadata": {
        "colab": {
          "base_uri": "https://localhost:8080/"
        },
        "id": "e_6REWD2gAOq",
        "outputId": "b57b0ea7-de59-4496-bff0-0ee3a7df39e5"
      },
      "execution_count": 25,
      "outputs": [
        {
          "output_type": "stream",
          "name": "stdout",
          "text": [
            "1/1 [==============================] - 0s 73ms/step\n"
          ]
        },
        {
          "output_type": "execute_result",
          "data": {
            "text/plain": [
              "array([[32.030952]], dtype=float32)"
            ]
          },
          "metadata": {},
          "execution_count": 25
        }
      ]
    },
    {
      "cell_type": "markdown",
      "source": [
        "very near, but still for 22 its not that precise"
      ],
      "metadata": {
        "id": "vqWAaxBlizWK"
      }
    },
    {
      "cell_type": "code",
      "source": [
        "model.predict([22.0])"
      ],
      "metadata": {
        "colab": {
          "base_uri": "https://localhost:8080/"
        },
        "id": "5yCUrh4dgHcA",
        "outputId": "9613d782-eb68-4a14-aec7-57e3eefcfe9c"
      },
      "execution_count": 26,
      "outputs": [
        {
          "output_type": "stream",
          "name": "stdout",
          "text": [
            "1/1 [==============================] - 0s 39ms/step\n"
          ]
        },
        {
          "output_type": "execute_result",
          "data": {
            "text/plain": [
              "array([[40.476963]], dtype=float32)"
            ]
          },
          "metadata": {},
          "execution_count": 26
        }
      ]
    },
    {
      "cell_type": "markdown",
      "source": [
        "\n",
        "\n",
        "---\n",
        "\n",
        "\n",
        "\n",
        "---\n",
        "We need to try different different methods in training our model to get an more nd more precise results\n"
      ],
      "metadata": {
        "id": "uK5Gpc67gs-7"
      }
    },
    {
      "cell_type": "code",
      "source": [
        "# learning_rate is the most important change we can make to our neural network\n",
        "\n",
        "\n",
        "## again improving the model\n",
        "\n",
        "#create\n",
        "model=tf.keras.Sequential([\n",
        "    tf.keras.layers.Dense(50, activation=None),\n",
        "    # we have reduced the number of neurons, changed activation to None\n",
        "    \n",
        "    \n",
        "    tf.keras.layers.Dense(1)\n",
        "])\n",
        "\n",
        "#compile\n",
        "model.compile(loss=\"mae\",\n",
        "              optimizer=tf.keras.optimizers.Adam(learning_rate=0.01), \n",
        "              ## changing optimisation function and changing lr to 0.01,which by default is 0.001\n",
        "              \n",
        "              metrics=[\"mae\"]\n",
        "              )\n",
        "\n",
        "# fit\n",
        "model.fit(X,y,epochs=100)"
      ],
      "metadata": {
        "colab": {
          "base_uri": "https://localhost:8080/"
        },
        "id": "DGB85iAggRtt",
        "outputId": "df522212-a453-4076-aade-bf38d8c4b0b7"
      },
      "execution_count": 27,
      "outputs": [
        {
          "output_type": "stream",
          "name": "stdout",
          "text": [
            "Epoch 1/100\n",
            "1/1 [==============================] - 1s 571ms/step - loss: 14.2504 - mae: 14.2504\n",
            "Epoch 2/100\n",
            "1/1 [==============================] - 0s 10ms/step - loss: 13.5646 - mae: 13.5646\n",
            "Epoch 3/100\n",
            "1/1 [==============================] - 0s 10ms/step - loss: 12.8759 - mae: 12.8759\n",
            "Epoch 4/100\n",
            "1/1 [==============================] - 0s 10ms/step - loss: 12.1839 - mae: 12.1839\n",
            "Epoch 5/100\n",
            "1/1 [==============================] - 0s 10ms/step - loss: 11.4882 - mae: 11.4882\n",
            "Epoch 6/100\n",
            "1/1 [==============================] - 0s 10ms/step - loss: 10.7874 - mae: 10.7874\n",
            "Epoch 7/100\n",
            "1/1 [==============================] - 0s 9ms/step - loss: 10.0797 - mae: 10.0797\n",
            "Epoch 8/100\n",
            "1/1 [==============================] - 0s 9ms/step - loss: 9.3623 - mae: 9.3623\n",
            "Epoch 9/100\n",
            "1/1 [==============================] - 0s 11ms/step - loss: 8.6324 - mae: 8.6324\n",
            "Epoch 10/100\n",
            "1/1 [==============================] - 0s 11ms/step - loss: 7.8872 - mae: 7.8872\n",
            "Epoch 11/100\n",
            "1/1 [==============================] - 0s 9ms/step - loss: 7.1239 - mae: 7.1239\n",
            "Epoch 12/100\n",
            "1/1 [==============================] - 0s 10ms/step - loss: 6.6707 - mae: 6.6707\n",
            "Epoch 13/100\n",
            "1/1 [==============================] - 0s 10ms/step - loss: 6.8768 - mae: 6.8768\n",
            "Epoch 14/100\n",
            "1/1 [==============================] - 0s 9ms/step - loss: 7.1750 - mae: 7.1750\n",
            "Epoch 15/100\n",
            "1/1 [==============================] - 0s 9ms/step - loss: 7.4731 - mae: 7.4731\n",
            "Epoch 16/100\n",
            "1/1 [==============================] - 0s 10ms/step - loss: 7.6021 - mae: 7.6021\n",
            "Epoch 17/100\n",
            "1/1 [==============================] - 0s 9ms/step - loss: 7.5319 - mae: 7.5319\n",
            "Epoch 18/100\n",
            "1/1 [==============================] - 0s 9ms/step - loss: 7.3101 - mae: 7.3101\n",
            "Epoch 19/100\n",
            "1/1 [==============================] - 0s 9ms/step - loss: 6.9726 - mae: 6.9726\n",
            "Epoch 20/100\n",
            "1/1 [==============================] - 0s 10ms/step - loss: 6.6930 - mae: 6.6930\n",
            "Epoch 21/100\n",
            "1/1 [==============================] - 0s 10ms/step - loss: 6.4133 - mae: 6.4133\n",
            "Epoch 22/100\n",
            "1/1 [==============================] - 0s 11ms/step - loss: 6.1236 - mae: 6.1236\n",
            "Epoch 23/100\n",
            "1/1 [==============================] - 0s 9ms/step - loss: 6.0095 - mae: 6.0095\n",
            "Epoch 24/100\n",
            "1/1 [==============================] - 0s 12ms/step - loss: 5.9672 - mae: 5.9672\n",
            "Epoch 25/100\n",
            "1/1 [==============================] - 0s 9ms/step - loss: 6.1490 - mae: 6.1490\n",
            "Epoch 26/100\n",
            "1/1 [==============================] - 0s 9ms/step - loss: 6.2393 - mae: 6.2393\n",
            "Epoch 27/100\n",
            "1/1 [==============================] - 0s 8ms/step - loss: 6.2306 - mae: 6.2306\n",
            "Epoch 28/100\n",
            "1/1 [==============================] - 0s 9ms/step - loss: 6.1352 - mae: 6.1352\n",
            "Epoch 29/100\n",
            "1/1 [==============================] - 0s 9ms/step - loss: 5.9623 - mae: 5.9623\n",
            "Epoch 30/100\n",
            "1/1 [==============================] - 0s 9ms/step - loss: 5.7185 - mae: 5.7185\n",
            "Epoch 31/100\n",
            "1/1 [==============================] - 0s 9ms/step - loss: 5.4322 - mae: 5.4322\n",
            "Epoch 32/100\n",
            "1/1 [==============================] - 0s 9ms/step - loss: 5.3254 - mae: 5.3254\n",
            "Epoch 33/100\n",
            "1/1 [==============================] - 0s 9ms/step - loss: 5.2158 - mae: 5.2158\n",
            "Epoch 34/100\n",
            "1/1 [==============================] - 0s 9ms/step - loss: 5.2053 - mae: 5.2053\n",
            "Epoch 35/100\n",
            "1/1 [==============================] - 0s 9ms/step - loss: 5.1993 - mae: 5.1993\n",
            "Epoch 36/100\n",
            "1/1 [==============================] - 0s 9ms/step - loss: 5.1507 - mae: 5.1507\n",
            "Epoch 37/100\n",
            "1/1 [==============================] - 0s 9ms/step - loss: 5.0626 - mae: 5.0626\n",
            "Epoch 38/100\n",
            "1/1 [==============================] - 0s 9ms/step - loss: 4.9382 - mae: 4.9382\n",
            "Epoch 39/100\n",
            "1/1 [==============================] - 0s 9ms/step - loss: 4.7806 - mae: 4.7806\n",
            "Epoch 40/100\n",
            "1/1 [==============================] - 0s 9ms/step - loss: 4.5924 - mae: 4.5924\n",
            "Epoch 41/100\n",
            "1/1 [==============================] - 0s 9ms/step - loss: 4.4276 - mae: 4.4276\n",
            "Epoch 42/100\n",
            "1/1 [==============================] - 0s 13ms/step - loss: 4.3327 - mae: 4.3327\n",
            "Epoch 43/100\n",
            "1/1 [==============================] - 0s 9ms/step - loss: 4.2302 - mae: 4.2302\n",
            "Epoch 44/100\n",
            "1/1 [==============================] - 0s 10ms/step - loss: 4.1584 - mae: 4.1584\n",
            "Epoch 45/100\n",
            "1/1 [==============================] - 0s 14ms/step - loss: 4.0333 - mae: 4.0333\n",
            "Epoch 46/100\n",
            "1/1 [==============================] - 0s 11ms/step - loss: 3.8462 - mae: 3.8462\n",
            "Epoch 47/100\n",
            "1/1 [==============================] - 0s 10ms/step - loss: 3.6942 - mae: 3.6942\n",
            "Epoch 48/100\n",
            "1/1 [==============================] - 0s 11ms/step - loss: 3.5352 - mae: 3.5352\n",
            "Epoch 49/100\n",
            "1/1 [==============================] - 0s 11ms/step - loss: 3.3950 - mae: 3.3950\n",
            "Epoch 50/100\n",
            "1/1 [==============================] - 0s 10ms/step - loss: 3.2691 - mae: 3.2691\n",
            "Epoch 51/100\n",
            "1/1 [==============================] - 0s 10ms/step - loss: 3.0944 - mae: 3.0944\n",
            "Epoch 52/100\n",
            "1/1 [==============================] - 0s 10ms/step - loss: 2.8890 - mae: 2.8890\n",
            "Epoch 53/100\n",
            "1/1 [==============================] - 0s 11ms/step - loss: 2.7210 - mae: 2.7210\n",
            "Epoch 54/100\n",
            "1/1 [==============================] - 0s 11ms/step - loss: 2.5425 - mae: 2.5425\n",
            "Epoch 55/100\n",
            "1/1 [==============================] - 0s 11ms/step - loss: 2.3533 - mae: 2.3533\n",
            "Epoch 56/100\n",
            "1/1 [==============================] - 0s 11ms/step - loss: 2.1532 - mae: 2.1532\n",
            "Epoch 57/100\n",
            "1/1 [==============================] - 0s 11ms/step - loss: 1.9421 - mae: 1.9421\n",
            "Epoch 58/100\n",
            "1/1 [==============================] - 0s 12ms/step - loss: 1.7197 - mae: 1.7197\n",
            "Epoch 59/100\n",
            "1/1 [==============================] - 0s 11ms/step - loss: 1.4859 - mae: 1.4859\n",
            "Epoch 60/100\n",
            "1/1 [==============================] - 0s 11ms/step - loss: 1.2404 - mae: 1.2404\n",
            "Epoch 61/100\n",
            "1/1 [==============================] - 0s 10ms/step - loss: 0.9829 - mae: 0.9829\n",
            "Epoch 62/100\n",
            "1/1 [==============================] - 0s 11ms/step - loss: 0.7628 - mae: 0.7628\n",
            "Epoch 63/100\n",
            "1/1 [==============================] - 0s 11ms/step - loss: 0.4665 - mae: 0.4665\n",
            "Epoch 64/100\n",
            "1/1 [==============================] - 0s 17ms/step - loss: 0.2676 - mae: 0.2676\n",
            "Epoch 65/100\n",
            "1/1 [==============================] - 0s 11ms/step - loss: 0.1844 - mae: 0.1844\n",
            "Epoch 66/100\n",
            "1/1 [==============================] - 0s 11ms/step - loss: 0.5260 - mae: 0.5260\n",
            "Epoch 67/100\n",
            "1/1 [==============================] - 0s 11ms/step - loss: 0.7289 - mae: 0.7289\n",
            "Epoch 68/100\n",
            "1/1 [==============================] - 0s 11ms/step - loss: 0.6894 - mae: 0.6894\n",
            "Epoch 69/100\n",
            "1/1 [==============================] - 0s 11ms/step - loss: 0.8888 - mae: 0.8888\n",
            "Epoch 70/100\n",
            "1/1 [==============================] - 0s 11ms/step - loss: 0.9986 - mae: 0.9986\n",
            "Epoch 71/100\n",
            "1/1 [==============================] - 0s 11ms/step - loss: 0.8548 - mae: 0.8548\n",
            "Epoch 72/100\n",
            "1/1 [==============================] - 0s 11ms/step - loss: 0.7579 - mae: 0.7579\n",
            "Epoch 73/100\n",
            "1/1 [==============================] - 0s 10ms/step - loss: 0.7835 - mae: 0.7835\n",
            "Epoch 74/100\n",
            "1/1 [==============================] - 0s 12ms/step - loss: 0.6114 - mae: 0.6114\n",
            "Epoch 75/100\n",
            "1/1 [==============================] - 0s 13ms/step - loss: 0.4890 - mae: 0.4890\n",
            "Epoch 76/100\n",
            "1/1 [==============================] - 0s 15ms/step - loss: 0.4105 - mae: 0.4105\n",
            "Epoch 77/100\n",
            "1/1 [==============================] - 0s 12ms/step - loss: 0.1443 - mae: 0.1443\n",
            "Epoch 78/100\n",
            "1/1 [==============================] - 0s 11ms/step - loss: 0.2741 - mae: 0.2741\n",
            "Epoch 79/100\n",
            "1/1 [==============================] - 0s 15ms/step - loss: 0.2644 - mae: 0.2644\n",
            "Epoch 80/100\n",
            "1/1 [==============================] - 0s 11ms/step - loss: 0.3826 - mae: 0.3826\n",
            "Epoch 81/100\n",
            "1/1 [==============================] - 0s 11ms/step - loss: 0.5186 - mae: 0.5186\n",
            "Epoch 82/100\n",
            "1/1 [==============================] - 0s 10ms/step - loss: 0.4816 - mae: 0.4816\n",
            "Epoch 83/100\n",
            "1/1 [==============================] - 0s 10ms/step - loss: 0.3499 - mae: 0.3499\n",
            "Epoch 84/100\n",
            "1/1 [==============================] - 0s 9ms/step - loss: 0.3994 - mae: 0.3994\n",
            "Epoch 85/100\n",
            "1/1 [==============================] - 0s 10ms/step - loss: 0.2940 - mae: 0.2940\n",
            "Epoch 86/100\n",
            "1/1 [==============================] - 0s 10ms/step - loss: 0.2829 - mae: 0.2829\n",
            "Epoch 87/100\n",
            "1/1 [==============================] - 0s 10ms/step - loss: 0.2422 - mae: 0.2422\n",
            "Epoch 88/100\n",
            "1/1 [==============================] - 0s 9ms/step - loss: 0.0252 - mae: 0.0252\n",
            "Epoch 89/100\n",
            "1/1 [==============================] - 0s 10ms/step - loss: 0.3999 - mae: 0.3999\n",
            "Epoch 90/100\n",
            "1/1 [==============================] - 0s 10ms/step - loss: 0.4637 - mae: 0.4637\n",
            "Epoch 91/100\n",
            "1/1 [==============================] - 0s 10ms/step - loss: 0.3230 - mae: 0.3230\n",
            "Epoch 92/100\n",
            "1/1 [==============================] - 0s 10ms/step - loss: 0.2628 - mae: 0.2628\n",
            "Epoch 93/100\n",
            "1/1 [==============================] - 0s 10ms/step - loss: 0.3784 - mae: 0.3784\n",
            "Epoch 94/100\n",
            "1/1 [==============================] - 0s 10ms/step - loss: 0.2271 - mae: 0.2271\n",
            "Epoch 95/100\n",
            "1/1 [==============================] - 0s 12ms/step - loss: 0.2180 - mae: 0.2180\n",
            "Epoch 96/100\n",
            "1/1 [==============================] - 0s 10ms/step - loss: 0.3067 - mae: 0.3067\n",
            "Epoch 97/100\n",
            "1/1 [==============================] - 0s 11ms/step - loss: 0.1180 - mae: 0.1180\n",
            "Epoch 98/100\n",
            "1/1 [==============================] - 0s 12ms/step - loss: 0.3390 - mae: 0.3390\n",
            "Epoch 99/100\n",
            "1/1 [==============================] - 0s 9ms/step - loss: 0.4515 - mae: 0.4515\n",
            "Epoch 100/100\n",
            "1/1 [==============================] - 0s 10ms/step - loss: 0.3025 - mae: 0.3025\n"
          ]
        },
        {
          "output_type": "execute_result",
          "data": {
            "text/plain": [
              "<keras.callbacks.History at 0x7f9d2b5b1360>"
            ]
          },
          "metadata": {},
          "execution_count": 27
        }
      ]
    },
    {
      "cell_type": "markdown",
      "source": [
        "\n",
        "\n",
        "---\n",
        "\n",
        "\n",
        "Lowest loss till now \n",
        "\n",
        "\n",
        "\n",
        "---\n",
        "\n",
        "\n"
      ],
      "metadata": {
        "id": "o7h9Ot0qickZ"
      }
    },
    {
      "cell_type": "code",
      "source": [
        "model.predict([17.0])"
      ],
      "metadata": {
        "colab": {
          "base_uri": "https://localhost:8080/"
        },
        "id": "yDqj4G62iYle",
        "outputId": "021163fd-033a-4299-9e71-e7bcb6c82360"
      },
      "execution_count": 28,
      "outputs": [
        {
          "output_type": "stream",
          "name": "stderr",
          "text": [
            "WARNING:tensorflow:5 out of the last 9 calls to <function Model.make_predict_function.<locals>.predict_function at 0x7f9d2ac3f910> triggered tf.function retracing. Tracing is expensive and the excessive number of tracings could be due to (1) creating @tf.function repeatedly in a loop, (2) passing tensors with different shapes, (3) passing Python objects instead of tensors. For (1), please define your @tf.function outside of the loop. For (2), @tf.function has reduce_retracing=True option that can avoid unnecessary retracing. For (3), please refer to https://www.tensorflow.org/guide/function#controlling_retracing and https://www.tensorflow.org/api_docs/python/tf/function for  more details.\n"
          ]
        },
        {
          "output_type": "stream",
          "name": "stdout",
          "text": [
            "1/1 [==============================] - 0s 93ms/step\n"
          ]
        },
        {
          "output_type": "execute_result",
          "data": {
            "text/plain": [
              "array([[27.321722]], dtype=float32)"
            ]
          },
          "metadata": {},
          "execution_count": 28
        }
      ]
    },
    {
      "cell_type": "code",
      "source": [
        "model.predict([22.0])"
      ],
      "metadata": {
        "colab": {
          "base_uri": "https://localhost:8080/"
        },
        "id": "qSfBtutzisgM",
        "outputId": "e8259735-2b40-4c3f-fa8f-c3411736ccd1"
      },
      "execution_count": 29,
      "outputs": [
        {
          "output_type": "stream",
          "name": "stdout",
          "text": [
            "1/1 [==============================] - 0s 50ms/step\n"
          ]
        },
        {
          "output_type": "execute_result",
          "data": {
            "text/plain": [
              "array([[32.460133]], dtype=float32)"
            ]
          },
          "metadata": {},
          "execution_count": 29
        }
      ]
    },
    {
      "cell_type": "markdown",
      "source": [
        "\n",
        "\n",
        "---\n",
        "\n",
        "\n",
        "Best output till now\n",
        "\n",
        "---\n",
        "\n"
      ],
      "metadata": {
        "id": "DvIcrjZHi_iB"
      }
    },
    {
      "cell_type": "markdown",
      "source": [
        "### Evaluating a model\n",
        "\n",
        "A typical workflow you'll go through when building neural networks is:\n",
        "\n",
        "Build a model -> evaluate it -> build (tweak) a model -> evaulate it -> build (tweak) a model -> evaluate it...\n",
        "\n",
        ".\n",
        ".\n",
        ".\n",
        "\n",
        "\n",
        "> *Visualize, visualize, visualize*\n",
        "\n",
        "\n",
        "\n",
        "The data - what data are you working with? What does it look like?\n",
        "\n",
        "The model itself - what does the architecture look like? What are the different shapes?\n",
        "\n",
        "The training of a model - how does a model perform while it learns?\n",
        "\n",
        "The predictions of a model - how do the predictions of a model line up against the ground truth (the original labels)?\n",
        "\n",
        "\n",
        "\n",
        "\n"
      ],
      "metadata": {
        "id": "6tRlwp-7IPc2"
      }
    },
    {
      "cell_type": "code",
      "source": [
        "# Make a bigger dataset\n",
        "X = np.arange(-100, 100, 4)\n",
        "X"
      ],
      "metadata": {
        "colab": {
          "base_uri": "https://localhost:8080/"
        },
        "id": "AcFJhu7pI89w",
        "outputId": "6371b88b-9a16-4b6d-d21e-38d4609b8a34"
      },
      "execution_count": 30,
      "outputs": [
        {
          "output_type": "execute_result",
          "data": {
            "text/plain": [
              "array([-100,  -96,  -92,  -88,  -84,  -80,  -76,  -72,  -68,  -64,  -60,\n",
              "        -56,  -52,  -48,  -44,  -40,  -36,  -32,  -28,  -24,  -20,  -16,\n",
              "        -12,   -8,   -4,    0,    4,    8,   12,   16,   20,   24,   28,\n",
              "         32,   36,   40,   44,   48,   52,   56,   60,   64,   68,   72,\n",
              "         76,   80,   84,   88,   92,   96])"
            ]
          },
          "metadata": {},
          "execution_count": 30
        }
      ]
    },
    {
      "cell_type": "code",
      "source": [
        "# making label\n",
        "y=X+10\n",
        "y"
      ],
      "metadata": {
        "colab": {
          "base_uri": "https://localhost:8080/"
        },
        "id": "2xHEDvkgJDNL",
        "outputId": "361b0d0b-55fb-4833-d649-07206d41a2bb"
      },
      "execution_count": 32,
      "outputs": [
        {
          "output_type": "execute_result",
          "data": {
            "text/plain": [
              "array([-90, -86, -82, -78, -74, -70, -66, -62, -58, -54, -50, -46, -42,\n",
              "       -38, -34, -30, -26, -22, -18, -14, -10,  -6,  -2,   2,   6,  10,\n",
              "        14,  18,  22,  26,  30,  34,  38,  42,  46,  50,  54,  58,  62,\n",
              "        66,  70,  74,  78,  82,  86,  90,  94,  98, 102, 106])"
            ]
          },
          "metadata": {},
          "execution_count": 32
        }
      ]
    },
    {
      "cell_type": "markdown",
      "source": [
        "\n",
        "\n",
        "---\n",
        "\n",
        "\n",
        "\n",
        "**Split data into training/test set**\n",
        "\n",
        "*Training set - the model learns from this data, which is typically 70-80% of the total data available (like the course materials you study during the semester)*.\n",
        "\n",
        ".\n",
        "\n",
        "\n",
        "*Validation set - the model gets tuned on this data, which is typically 10-15% of the total data available (like the practice exam you take before the final exam).*\n",
        "\n",
        ".\n",
        "\n",
        "\n",
        "*Test set - the model gets evaluated on this data to test what it has learned, it's typically 10-15% of the total data available (like the final exam you take at the end of the semester). *"
      ],
      "metadata": {
        "id": "8z2dw7afJfYy"
      }
    },
    {
      "cell_type": "code",
      "source": [
        "# Split data into train and test sets\n",
        "X_train = X[:40] # first 40 examples (80% of data)\n",
        "y_train = y[:40]\n",
        "\n",
        "X_test = X[40:] # last 10 examples (20% of data)\n",
        "y_test = y[40:]\n",
        "\n",
        "len(X_train), len(X_test)"
      ],
      "metadata": {
        "colab": {
          "base_uri": "https://localhost:8080/"
        },
        "id": "YME7rdQeKEI_",
        "outputId": "300d4b96-faf8-4150-dfa6-944c25826b2e"
      },
      "execution_count": 33,
      "outputs": [
        {
          "output_type": "execute_result",
          "data": {
            "text/plain": [
              "(40, 10)"
            ]
          },
          "metadata": {},
          "execution_count": 33
        }
      ]
    },
    {
      "cell_type": "code",
      "source": [
        "import matplotlib.pyplot as plt\n",
        "\n",
        "plt.scatter(X_train,y_train, c=\"b\" ,label=\"training_data\")\n",
        "plt.scatter(X_test,y_test, c=\"g\", label=\"test_data\")\n",
        "\n",
        "plt.legend()"
      ],
      "metadata": {
        "colab": {
          "base_uri": "https://localhost:8080/",
          "height": 448
        },
        "id": "MpRcAnHqKPgx",
        "outputId": "85b1d257-13b5-491f-81e2-6d401412db54"
      },
      "execution_count": 40,
      "outputs": [
        {
          "output_type": "execute_result",
          "data": {
            "text/plain": [
              "<matplotlib.legend.Legend at 0x7f9d1644b730>"
            ]
          },
          "metadata": {},
          "execution_count": 40
        },
        {
          "output_type": "display_data",
          "data": {
            "text/plain": [
              "<Figure size 640x480 with 1 Axes>"
            ],
            "image/png": "[encoded data removed]"
          },
          "metadata": {}
        }
      ]
    },
    {
      "cell_type": "code",
      "source": [
        "### creating neural network which builds automaticallyby defining input_shape argument\n",
        "\n",
        "#create\n",
        "model=tf.keras.Sequential([\n",
        "    tf.keras.layers.Dense(1, input_shape=[1]) # we wrote \"1\" since we'r passing 1 no. to predict 1 no.\n",
        "])\n",
        "\n",
        "#compile\n",
        "model.compile(loss=tf.keras.losses.mae,\n",
        "              optimizer=tf.keras.optimizers.SGD(),\n",
        "              metrics=[\"mae\"])\n",
        "\n",
        "#fit\n",
        "# model.fit(X_train,y_train,epochs=100)              "
      ],
      "metadata": {
        "id": "e5kfAyVKK24H"
      },
      "execution_count": 38,
      "outputs": []
    },
    {
      "cell_type": "code",
      "source": [
        "model.summary()"
      ],
      "metadata": {
        "colab": {
          "base_uri": "https://localhost:8080/"
        },
        "id": "IfJIjhckRVkr",
        "outputId": "09aa2ab5-00b4-45d0-834b-309ea37a8322"
      },
      "execution_count": 39,
      "outputs": [
        {
          "output_type": "stream",
          "name": "stdout",
          "text": [
            "Model: \"sequential_5\"\n",
            "_________________________________________________________________\n",
            " Layer (type)                Output Shape              Param #   \n",
            "=================================================================\n",
            " dense_8 (Dense)             (None, 1)                 2         \n",
            "                                                                 \n",
            "=================================================================\n",
            "Total params: 2\n",
            "Trainable params: 2\n",
            "Non-trainable params: 0\n",
            "_________________________________________________________________\n"
          ]
        }
      ]
    },
    {
      "cell_type": "markdown",
      "source": [
        "Calling summary() on our model shows us the layers it contains, the output shape and the number of parameters.\n",
        "\n",
        ".\n",
        "\n",
        "\n",
        "\n",
        "> Total params - total number of parameters in the model.(X nd y)\n",
        "\n",
        "\n",
        "\n",
        "\n",
        "\n",
        "> Trainable parameters - these are the parameters (patterns) the model can update as it trains.\n",
        "\n",
        "> Non-trainable parameters - these parameters aren't updated during training (this is typical when you bring in the already learned patterns from other models during transfer learning).\n",
        "\n",
        "\n",
        "\n",
        "\n",
        "\n"
      ],
      "metadata": {
        "id": "rtOe3ZmWReof"
      }
    },
    {
      "cell_type": "code",
      "source": [
        "#### let's change our model to have 10 hidden layers in imput layer\n",
        "\n",
        "#create\n",
        "model=tf.keras.Sequential([\n",
        "    tf.keras.layers.Dense(10, input_shape=[1],name=\"input_layer\"), # input shape=1 nd output shape =10\n",
        "    tf.keras.layers.Dense(1, name=\"output_layer\")\n",
        "])\n",
        "\n",
        "#compile \n",
        "model.compile(loss=tf.keras.losses.mae,\n",
        "              optimizer=tf.keras.optimizers.SGD(),\n",
        "              metrics=[\"mae\"])"
      ],
      "metadata": {
        "id": "SlHdhcHGR56U"
      },
      "execution_count": 47,
      "outputs": []
    },
    {
      "cell_type": "code",
      "source": [
        "# Fit the model to the training data\n",
        "model.fit(X_train, y_train, epochs=100, verbose=0) # verbose controls how much gets output"
      ],
      "metadata": {
        "colab": {
          "base_uri": "https://localhost:8080/"
        },
        "id": "gXFOJFh6VmSk",
        "outputId": "4ebe7370-08d5-4524-e706-d09df8879fc2"
      },
      "execution_count": 48,
      "outputs": [
        {
          "output_type": "execute_result",
          "data": {
            "text/plain": [
              "<keras.callbacks.History at 0x7f9d152d6a40>"
            ]
          },
          "metadata": {},
          "execution_count": 48
        }
      ]
    },
    {
      "cell_type": "code",
      "source": [
        "# Check the model summary\n",
        "model.summary()"
      ],
      "metadata": {
        "colab": {
          "base_uri": "https://localhost:8080/"
        },
        "id": "emhxUlthYQtl",
        "outputId": "ee207b3f-0c65-4c13-89cb-7ba9cbf20cdd"
      },
      "execution_count": 49,
      "outputs": [
        {
          "output_type": "stream",
          "name": "stdout",
          "text": [
            "Model: \"sequential_7\"\n",
            "_________________________________________________________________\n",
            " Layer (type)                Output Shape              Param #   \n",
            "=================================================================\n",
            " input_layer (Dense)         (None, 10)                20        \n",
            "                                                                 \n",
            " output_layer (Dense)        (None, 1)                 11        \n",
            "                                                                 \n",
            "=================================================================\n",
            "Total params: 31\n",
            "Trainable params: 31\n",
            "Non-trainable params: 0\n",
            "_________________________________________________________________\n"
          ]
        }
      ]
    },
    {
      "cell_type": "code",
      "source": [
        "from tensorflow.keras.utils import plot_model\n",
        "\n",
        "plot_model(model)"
      ],
      "metadata": {
        "colab": {
          "base_uri": "https://localhost:8080/",
          "height": 272
        },
        "id": "OOZ9QY0GYTsA",
        "outputId": "02e3f465-c1ed-4c02-82cd-1ea6ef7faac4"
      },
      "execution_count": 50,
      "outputs": [
        {
          "output_type": "execute_result",
          "data": {
            "image/png": "[encoded data removed]",
            "text/plain": [
              "<IPython.core.display.Image object>"
            ]
          },
          "metadata": {},
          "execution_count": 50
        }
      ]
    },
    {
      "cell_type": "code",
      "source": [
        "# plot_model(model, show_shapes=True) commenting it out, coz added output_layer to model"
      ],
      "metadata": {
        "colab": {
          "base_uri": "https://localhost:8080/",
          "height": 201
        },
        "id": "v0MmKyhDY3o_",
        "outputId": "1cbf8bcc-d699-4e29-ff2c-3356cf1edf3c"
      },
      "execution_count": 45,
      "outputs": [
        {
          "output_type": "execute_result",
          "data": {
            "image/png": "[encoded data removed]",
            "text/plain": [
              "<IPython.core.display.Image object>"
            ]
          },
          "metadata": {},
          "execution_count": 45
        }
      ]
    },
    {
      "cell_type": "code",
      "source": [
        "### after adding output_layer and adding names to all\n",
        "\n",
        "plot_model(model, show_shapes=True)"
      ],
      "metadata": {
        "colab": {
          "base_uri": "https://localhost:8080/",
          "height": 312
        },
        "id": "Uz7W53uXY9TZ",
        "outputId": "1e7f8d3c-5a4c-4b59-d1c0-f689cefac3bd"
      },
      "execution_count": 51,
      "outputs": [
        {
          "output_type": "execute_result",
          "data": {
            "image/png": "[encoded data removed]",
            "text/plain": [
              "<IPython.core.display.Image object>"
            ]
          },
          "metadata": {},
          "execution_count": 51
        }
      ]
    },
    {
      "cell_type": "markdown",
      "source": [
        "## Visualizing our model's prediction"
      ],
      "metadata": {
        "id": "9nzj95N0Z06j"
      }
    },
    {
      "cell_type": "markdown",
      "source": [
        "To visualize predictions, it's always a good idea to plot them against the ground truth labels.\n",
        "\n",
        "Often you'll see this in the form of y_test vs. y_pred (ground truth vs. predictions).\n",
        "\n",
        "First, we'll make some predictions on the test data (X_test), remember the model has never seen the test data."
      ],
      "metadata": {
        "id": "PIF8iOzNariO"
      }
    },
    {
      "cell_type": "code",
      "source": [
        "X_test"
      ],
      "metadata": {
        "colab": {
          "base_uri": "https://localhost:8080/"
        },
        "id": "T4WQyM2zboLc",
        "outputId": "f3140063-4768-4e47-f5e7-c2132984c884"
      },
      "execution_count": 52,
      "outputs": [
        {
          "output_type": "execute_result",
          "data": {
            "text/plain": [
              "array([60, 64, 68, 72, 76, 80, 84, 88, 92, 96])"
            ]
          },
          "metadata": {},
          "execution_count": 52
        }
      ]
    },
    {
      "cell_type": "code",
      "source": [
        "# Make predictions\n",
        "y_preds = model.predict(X_test)\n",
        "\n",
        "# View the predictions\n",
        "y_preds"
      ],
      "metadata": {
        "colab": {
          "base_uri": "https://localhost:8080/"
        },
        "id": "0MItPq-Lbr7M",
        "outputId": "97d3d22e-6053-49c7-ab11-0646fdef5a22"
      },
      "execution_count": 55,
      "outputs": [
        {
          "output_type": "stream",
          "name": "stdout",
          "text": [
            "1/1 [==============================] - 0s 23ms/step\n"
          ]
        },
        {
          "output_type": "execute_result",
          "data": {
            "text/plain": [
              "array([[ 70.42521 ],\n",
              "       [ 75.00569 ],\n",
              "       [ 79.58619 ],\n",
              "       [ 84.166664],\n",
              "       [ 88.747154],\n",
              "       [ 93.327644],\n",
              "       [ 97.90813 ],\n",
              "       [102.48862 ],\n",
              "       [107.0691  ],\n",
              "       [111.64959 ]], dtype=float32)"
            ]
          },
          "metadata": {},
          "execution_count": 55
        }
      ]
    },
    {
      "cell_type": "code",
      "source": [
        "# Note: If you think you're going to be visualizing something a lot,\n",
        "# it's a good idea to functionize it so you can use it later.\n",
        "\n",
        "def plot_predictions(train_data=X_train, \n",
        "                     train_labels=y_train, \n",
        "                     test_data=X_test, \n",
        "                     test_labels=y_test, \n",
        "                     predictions=y_preds):\n",
        "  \"\"\"\n",
        "  Plots training data, test data and compares predictions.\n",
        "  \"\"\"\n",
        "  plt.figure(figsize=(10, 7))\n",
        "  # Plot training data in blue\n",
        "  plt.scatter(train_data, train_labels, c=\"b\", label=\"Training data\")\n",
        "  # Plot test data in green\n",
        "  plt.scatter(test_data, test_labels, c=\"g\", label=\"Testing data\")\n",
        "  # Plot the predictions in red (predictions were made on the test data)\n",
        "  plt.scatter(test_data, predictions, c=\"r\", label=\"Predictions\")\n",
        "  # Show the legend\n",
        "  plt.legend()"
      ],
      "metadata": {
        "id": "znvlxLy8buzQ"
      },
      "execution_count": 56,
      "outputs": []
    },
    {
      "cell_type": "code",
      "source": [
        "plot_predictions(train_data=X_train,\n",
        "                 train_labels=y_train,\n",
        "                 test_data=X_test,\n",
        "                 test_labels=y_test,\n",
        "                 predictions=y_preds)"
      ],
      "metadata": {
        "colab": {
          "base_uri": "https://localhost:8080/",
          "height": 599
        },
        "id": "ZYzShNUcc4JL",
        "outputId": "001ab8a6-fd92-44f3-96d1-3a18067e5b31"
      },
      "execution_count": 57,
      "outputs": [
        {
          "output_type": "display_data",
          "data": {
            "text/plain": [
              "<Figure size 1000x700 with 1 Axes>"
            ],
            "image/png": "[encoded data removed]"
          },
          "metadata": {}
        }
      ]
    },
    {
      "cell_type": "markdown",
      "source": [
        "# Evaluating prediction\n",
        "\n",
        "Two of the main metrics used for regression problems are:\n",
        "\n",
        "\n",
        "\n",
        "\n",
        "> Mean absolute error (MAE) - the mean difference between each of the predictions.\n",
        "\n",
        "\n",
        "\n",
        "> Mean squared error (MSE) - the squared mean difference between of the predictions (use if larger errors are more detrimental than smaller errors).\n",
        "\n",
        "\n",
        "The lower each of these values, the better.\n",
        "\n",
        ".\n",
        "\n",
        "You can also use model.evaluate() which will return the loss of the model as well as any metrics setup during the compile step."
      ],
      "metadata": {
        "id": "F5ujCvHdiUrC"
      }
    },
    {
      "cell_type": "code",
      "source": [
        "model.evaluate(X_test,y_test)"
      ],
      "metadata": {
        "colab": {
          "base_uri": "https://localhost:8080/"
        },
        "id": "Nme5ATZSc6SQ",
        "outputId": "0c03fdaa-78ff-4435-981b-35139385089a"
      },
      "execution_count": 58,
      "outputs": [
        {
          "output_type": "stream",
          "name": "stdout",
          "text": [
            "1/1 [==============================] - 0s 260ms/step - loss: 3.0374 - mae: 3.0374\n"
          ]
        },
        {
          "output_type": "execute_result",
          "data": {
            "text/plain": [
              "[3.037400722503662, 3.037400722503662]"
            ]
          },
          "metadata": {},
          "execution_count": 58
        }
      ]
    },
    {
      "cell_type": "code",
      "source": [
        "y_test,    y_preds"
      ],
      "metadata": {
        "colab": {
          "base_uri": "https://localhost:8080/"
        },
        "id": "lhiK5_iKojde",
        "outputId": "b243d13a-64b0-43c4-b0e0-528f92abb27a"
      },
      "execution_count": 60,
      "outputs": [
        {
          "output_type": "execute_result",
          "data": {
            "text/plain": [
              "(array([ 70,  74,  78,  82,  86,  90,  94,  98, 102, 106]),\n",
              " array([[ 70.42521 ],\n",
              "        [ 75.00569 ],\n",
              "        [ 79.58619 ],\n",
              "        [ 84.166664],\n",
              "        [ 88.747154],\n",
              "        [ 93.327644],\n",
              "        [ 97.90813 ],\n",
              "        [102.48862 ],\n",
              "        [107.0691  ],\n",
              "        [111.64959 ]], dtype=float32))"
            ]
          },
          "metadata": {},
          "execution_count": 60
        }
      ]
    },
    {
      "cell_type": "code",
      "source": [
        "### calculate mean absolute error \n",
        "\n",
        "mae = tf.metrics.mean_absolute_error(y_test,y_preds)\n",
        "mae"
      ],
      "metadata": {
        "colab": {
          "base_uri": "https://localhost:8080/"
        },
        "id": "AeavtjipiQ5Q",
        "outputId": "f488ffd7-7e32-48da-c08f-4596b690cd0c"
      },
      "execution_count": 61,
      "outputs": [
        {
          "output_type": "execute_result",
          "data": {
            "text/plain": [
              "<tf.Tensor: shape=(10,), dtype=float32, numpy=\n",
              "array([17.659832, 14.196585, 11.765524, 10.366667, 10.      , 10.665529,\n",
              "       12.363251, 15.190893, 19.0691  , 23.64959 ], dtype=float32)>"
            ]
          },
          "metadata": {},
          "execution_count": 61
        }
      ]
    },
    {
      "cell_type": "markdown",
      "source": [
        "\n",
        "\n",
        "---\n",
        "\n",
        "Huh? That's strange, MAE should be a single output.\n",
        "\n",
        "Instead, we get 10 values.\n",
        "\n",
        "---\n",
        "\n",
        ".\n",
        "\n",
        "This is because our y_test and y_preds tensors are different shapes."
      ],
      "metadata": {
        "id": "1bfq9El0pFvS"
      }
    },
    {
      "cell_type": "code",
      "source": [
        "y_test.shape, y_preds.shape"
      ],
      "metadata": {
        "colab": {
          "base_uri": "https://localhost:8080/"
        },
        "id": "spy_0EY1ov_x",
        "outputId": "c3272f61-44db-4187-efa8-1e0729cb3fc1"
      },
      "execution_count": 62,
      "outputs": [
        {
          "output_type": "execute_result",
          "data": {
            "text/plain": [
              "((10,), (10, 1))"
            ]
          },
          "metadata": {},
          "execution_count": 62
        }
      ]
    },
    {
      "cell_type": "code",
      "source": [
        "y_preds = y_preds.squeeze()\n",
        "y_preds.shape"
      ],
      "metadata": {
        "colab": {
          "base_uri": "https://localhost:8080/"
        },
        "id": "IeuK6uKPpUDU",
        "outputId": "585b2bed-bf82-4a1d-c3c8-07603d60826b"
      },
      "execution_count": 65,
      "outputs": [
        {
          "output_type": "execute_result",
          "data": {
            "text/plain": [
              "(10,)"
            ]
          },
          "metadata": {},
          "execution_count": 65
        }
      ]
    },
    {
      "cell_type": "code",
      "source": [
        "mae = tf.metrics.mean_absolute_error(y_test,y_preds)\n",
        "mae\n",
        "\n",
        "## thus now we are getting a single value for MAE Mean Absolute Error"
      ],
      "metadata": {
        "colab": {
          "base_uri": "https://localhost:8080/"
        },
        "id": "TJKLxZc-piyL",
        "outputId": "37052784-227e-4d07-ecf8-e974d264016b"
      },
      "execution_count": 66,
      "outputs": [
        {
          "output_type": "execute_result",
          "data": {
            "text/plain": [
              "<tf.Tensor: shape=(), dtype=float32, numpy=3.0373986>"
            ]
          },
          "metadata": {},
          "execution_count": 66
        }
      ]
    },
    {
      "cell_type": "code",
      "source": [
        "## calculating MSE Mean Square Error\n",
        "\n",
        "mse = tf.metrics.mean_squared_error(y_test,\n",
        "                                    y_preds)\n",
        "mse"
      ],
      "metadata": {
        "colab": {
          "base_uri": "https://localhost:8080/"
        },
        "id": "XmpsBVv4q5-A",
        "outputId": "4654bc60-91e2-4e81-8025-2b5ae95495bd"
      },
      "execution_count": 67,
      "outputs": [
        {
          "output_type": "execute_result",
          "data": {
            "text/plain": [
              "<tf.Tensor: shape=(), dtype=float32, numpy=12.005749>"
            ]
          },
          "metadata": {},
          "execution_count": 67
        }
      ]
    },
    {
      "cell_type": "markdown",
      "source": [
        "MSE is greater than MAE, \n",
        "\n",
        "mae: It is the difference between the measured value and “true” value \n",
        "\n",
        "mse: It assesses the average squared difference between the observed and predicted\n",
        "\n"
      ],
      "metadata": {
        "id": "WHKkuM5Gr4lm"
      }
    },
    {
      "cell_type": "code",
      "source": [
        "### Let's make functions for our evaluation metrics.\n",
        "\n",
        "def mae(y_test, y_pred):\n",
        "  \"\"\"\n",
        "  Calculuates mean absolute error between y_test and y_preds.\n",
        "  \"\"\"\n",
        "  return tf.metrics.mean_absolute_error(y_test,\n",
        "                                        y_pred)\n",
        "  \n",
        "def mse(y_test, y_pred):\n",
        "  \"\"\"\n",
        "  Calculates mean squared error between y_test and y_preds.\n",
        "  \"\"\"\n",
        "  return tf.metrics.mean_squared_error(y_test,\n",
        "                                       y_pred)\n",
        "     "
      ],
      "metadata": {
        "id": "uG6sPFIGtGqY"
      },
      "execution_count": 68,
      "outputs": []
    },
    {
      "cell_type": "markdown",
      "source": [
        "## Running experiments to evaluate a model"
      ],
      "metadata": {
        "id": "9uwa3gnmtPLN"
      }
    },
    {
      "cell_type": "markdown",
      "source": [
        "To do so, we'll build 3 models and compare their results:\n",
        "\n",
        ".\n",
        "\n",
        "model_1 - same as original model, 1 layer, trained for 100 epochs.\n",
        "\n",
        "model_2 - 2 layers, trained for 100 epochs.\n",
        "\n",
        "model_3 - 2 layers, trained for 500 epochs."
      ],
      "metadata": {
        "id": "iPdZHAvpt5GK"
      }
    },
    {
      "cell_type": "code",
      "source": [
        "# model_1\n",
        "\n",
        "tf.random.set_seed(42)\n",
        "\n",
        "model_1 = tf.keras.Sequential([\n",
        "    tf.keras.layers.Dense(1)\n",
        "])\n",
        "\n",
        "model_1.compile(loss=tf.keras.losses.mae,\n",
        "                optimizer=tf.keras.optimizers.SGD(),\n",
        "                metrics=[\"mae\"])\n",
        "\n",
        "model_1.fit(tf.expand_dims(X_train, axis=-1), y_train, epochs=100)"
      ],
      "metadata": {
        "colab": {
          "base_uri": "https://localhost:8080/"
        },
        "id": "VS9xKjveuFjV",
        "outputId": "fcd7c026-d9cb-4e9e-e76f-684fe0dee29c"
      },
      "execution_count": 74,
      "outputs": [
        {
          "output_type": "stream",
          "name": "stdout",
          "text": [
            "Epoch 1/100\n",
            "2/2 [==============================] - 1s 20ms/step - loss: 81.8595 - mae: 81.8595\n",
            "Epoch 2/100\n",
            "2/2 [==============================] - 0s 17ms/step - loss: 46.4624 - mae: 46.4624\n",
            "Epoch 3/100\n",
            "2/2 [==============================] - 0s 23ms/step - loss: 12.8454 - mae: 12.8454\n",
            "Epoch 4/100\n",
            "2/2 [==============================] - 0s 7ms/step - loss: 8.3663 - mae: 8.3663\n",
            "Epoch 5/100\n",
            "2/2 [==============================] - 0s 15ms/step - loss: 11.8442 - mae: 11.8442\n",
            "Epoch 6/100\n",
            "2/2 [==============================] - 0s 10ms/step - loss: 10.9661 - mae: 10.9661\n",
            "Epoch 7/100\n",
            "2/2 [==============================] - 0s 22ms/step - loss: 8.5011 - mae: 8.5011\n",
            "Epoch 8/100\n",
            "2/2 [==============================] - 0s 14ms/step - loss: 8.8994 - mae: 8.8994\n",
            "Epoch 9/100\n",
            "2/2 [==============================] - 0s 10ms/step - loss: 17.1779 - mae: 17.1779\n",
            "Epoch 10/100\n",
            "2/2 [==============================] - 0s 10ms/step - loss: 12.4679 - mae: 12.4679\n",
            "Epoch 11/100\n",
            "2/2 [==============================] - 0s 9ms/step - loss: 10.1744 - mae: 10.1744\n",
            "Epoch 12/100\n",
            "2/2 [==============================] - 0s 7ms/step - loss: 18.8283 - mae: 18.8283\n",
            "Epoch 13/100\n",
            "2/2 [==============================] - 0s 16ms/step - loss: 9.7118 - mae: 9.7118\n",
            "Epoch 14/100\n",
            "2/2 [==============================] - 0s 12ms/step - loss: 15.4746 - mae: 15.4746\n",
            "Epoch 15/100\n",
            "2/2 [==============================] - 0s 14ms/step - loss: 11.4399 - mae: 11.4399\n",
            "Epoch 16/100\n",
            "2/2 [==============================] - 0s 10ms/step - loss: 8.5573 - mae: 8.5573\n",
            "Epoch 17/100\n",
            "2/2 [==============================] - 0s 8ms/step - loss: 13.6504 - mae: 13.6504\n",
            "Epoch 18/100\n",
            "2/2 [==============================] - 0s 12ms/step - loss: 11.4762 - mae: 11.4762\n",
            "Epoch 19/100\n",
            "2/2 [==============================] - 0s 7ms/step - loss: 17.9454 - mae: 17.9454\n",
            "Epoch 20/100\n",
            "2/2 [==============================] - 0s 8ms/step - loss: 15.0799 - mae: 15.0799\n",
            "Epoch 21/100\n",
            "2/2 [==============================] - 0s 9ms/step - loss: 11.0530 - mae: 11.0530\n",
            "Epoch 22/100\n",
            "2/2 [==============================] - 0s 6ms/step - loss: 8.1888 - mae: 8.1888\n",
            "Epoch 23/100\n",
            "2/2 [==============================] - 0s 16ms/step - loss: 9.5304 - mae: 9.5304\n",
            "Epoch 24/100\n",
            "2/2 [==============================] - 0s 13ms/step - loss: 7.6892 - mae: 7.6892\n",
            "Epoch 25/100\n",
            "2/2 [==============================] - 0s 9ms/step - loss: 13.1801 - mae: 13.1801\n",
            "Epoch 26/100\n",
            "2/2 [==============================] - 0s 9ms/step - loss: 16.4511 - mae: 16.4511\n",
            "Epoch 27/100\n",
            "2/2 [==============================] - 0s 10ms/step - loss: 13.1954 - mae: 13.1954\n",
            "Epoch 28/100\n",
            "2/2 [==============================] - 0s 9ms/step - loss: 14.2891 - mae: 14.2891\n",
            "Epoch 29/100\n",
            "2/2 [==============================] - 0s 10ms/step - loss: 10.0939 - mae: 10.0939\n",
            "Epoch 30/100\n",
            "2/2 [==============================] - 0s 9ms/step - loss: 16.3763 - mae: 16.3763\n",
            "Epoch 31/100\n",
            "2/2 [==============================] - 0s 9ms/step - loss: 23.6307 - mae: 23.6307\n",
            "Epoch 32/100\n",
            "2/2 [==============================] - 0s 10ms/step - loss: 7.6429 - mae: 7.6429\n",
            "Epoch 33/100\n",
            "2/2 [==============================] - 0s 8ms/step - loss: 9.3417 - mae: 9.3417\n",
            "Epoch 34/100\n",
            "2/2 [==============================] - 0s 12ms/step - loss: 13.7365 - mae: 13.7365\n",
            "Epoch 35/100\n",
            "2/2 [==============================] - 0s 15ms/step - loss: 11.1590 - mae: 11.1590\n",
            "Epoch 36/100\n",
            "2/2 [==============================] - 0s 10ms/step - loss: 13.3560 - mae: 13.3560\n",
            "Epoch 37/100\n",
            "2/2 [==============================] - 0s 11ms/step - loss: 9.4936 - mae: 9.4936\n",
            "Epoch 38/100\n",
            "2/2 [==============================] - 0s 10ms/step - loss: 10.1539 - mae: 10.1539\n",
            "Epoch 39/100\n",
            "2/2 [==============================] - 0s 10ms/step - loss: 10.2108 - mae: 10.2108\n",
            "Epoch 40/100\n",
            "2/2 [==============================] - 0s 10ms/step - loss: 10.9455 - mae: 10.9455\n",
            "Epoch 41/100\n",
            "2/2 [==============================] - 0s 10ms/step - loss: 7.9389 - mae: 7.9389\n",
            "Epoch 42/100\n",
            "2/2 [==============================] - 0s 10ms/step - loss: 10.1080 - mae: 10.1080\n",
            "Epoch 43/100\n",
            "2/2 [==============================] - 0s 10ms/step - loss: 8.7219 - mae: 8.7219\n",
            "Epoch 44/100\n",
            "2/2 [==============================] - 0s 12ms/step - loss: 12.2098 - mae: 12.2098\n",
            "Epoch 45/100\n",
            "2/2 [==============================] - 0s 12ms/step - loss: 13.8300 - mae: 13.8300\n",
            "Epoch 46/100\n",
            "2/2 [==============================] - 0s 12ms/step - loss: 8.5022 - mae: 8.5022\n",
            "Epoch 47/100\n",
            "2/2 [==============================] - 0s 16ms/step - loss: 9.1500 - mae: 9.1500\n",
            "Epoch 48/100\n",
            "2/2 [==============================] - 0s 15ms/step - loss: 10.6337 - mae: 10.6337\n",
            "Epoch 49/100\n",
            "2/2 [==============================] - 0s 11ms/step - loss: 7.7670 - mae: 7.7670\n",
            "Epoch 50/100\n",
            "2/2 [==============================] - 0s 11ms/step - loss: 9.5552 - mae: 9.5552\n",
            "Epoch 51/100\n",
            "2/2 [==============================] - 0s 9ms/step - loss: 9.1800 - mae: 9.1800\n",
            "Epoch 52/100\n",
            "2/2 [==============================] - 0s 12ms/step - loss: 16.3508 - mae: 16.3508\n",
            "Epoch 53/100\n",
            "2/2 [==============================] - 0s 10ms/step - loss: 14.1564 - mae: 14.1564\n",
            "Epoch 54/100\n",
            "2/2 [==============================] - 0s 17ms/step - loss: 21.1591 - mae: 21.1591\n",
            "Epoch 55/100\n",
            "2/2 [==============================] - 0s 8ms/step - loss: 16.3905 - mae: 16.3905\n",
            "Epoch 56/100\n",
            "2/2 [==============================] - 0s 8ms/step - loss: 10.0130 - mae: 10.0130\n",
            "Epoch 57/100\n",
            "2/2 [==============================] - 0s 8ms/step - loss: 9.9765 - mae: 9.9765\n",
            "Epoch 58/100\n",
            "2/2 [==============================] - 0s 10ms/step - loss: 9.2388 - mae: 9.2388\n",
            "Epoch 59/100\n",
            "2/2 [==============================] - 0s 14ms/step - loss: 8.4385 - mae: 8.4385\n",
            "Epoch 60/100\n",
            "2/2 [==============================] - 0s 9ms/step - loss: 9.5059 - mae: 9.5059\n",
            "Epoch 61/100\n",
            "2/2 [==============================] - 0s 8ms/step - loss: 11.4487 - mae: 11.4487\n",
            "Epoch 62/100\n",
            "2/2 [==============================] - 0s 16ms/step - loss: 11.7225 - mae: 11.7225\n",
            "Epoch 63/100\n",
            "2/2 [==============================] - 0s 12ms/step - loss: 7.1051 - mae: 7.1051\n",
            "Epoch 64/100\n",
            "2/2 [==============================] - 0s 22ms/step - loss: 16.9975 - mae: 16.9975\n",
            "Epoch 65/100\n",
            "2/2 [==============================] - 0s 11ms/step - loss: 12.4901 - mae: 12.4901\n",
            "Epoch 66/100\n",
            "2/2 [==============================] - 0s 9ms/step - loss: 13.0510 - mae: 13.0510\n",
            "Epoch 67/100\n",
            "2/2 [==============================] - 0s 9ms/step - loss: 8.0893 - mae: 8.0893\n",
            "Epoch 68/100\n",
            "2/2 [==============================] - 0s 9ms/step - loss: 10.2189 - mae: 10.2189\n",
            "Epoch 69/100\n",
            "2/2 [==============================] - 0s 8ms/step - loss: 12.3976 - mae: 12.3976\n",
            "Epoch 70/100\n",
            "2/2 [==============================] - 0s 13ms/step - loss: 9.0699 - mae: 9.0699\n",
            "Epoch 71/100\n",
            "2/2 [==============================] - 0s 26ms/step - loss: 10.0546 - mae: 10.0546\n",
            "Epoch 72/100\n",
            "2/2 [==============================] - 0s 18ms/step - loss: 10.0700 - mae: 10.0700\n",
            "Epoch 73/100\n",
            "2/2 [==============================] - 0s 13ms/step - loss: 12.6244 - mae: 12.6244\n",
            "Epoch 74/100\n",
            "2/2 [==============================] - 0s 14ms/step - loss: 10.4173 - mae: 10.4173\n",
            "Epoch 75/100\n",
            "2/2 [==============================] - 0s 10ms/step - loss: 9.7397 - mae: 9.7397\n",
            "Epoch 76/100\n",
            "2/2 [==============================] - 0s 18ms/step - loss: 11.2406 - mae: 11.2406\n",
            "Epoch 77/100\n",
            "2/2 [==============================] - 0s 10ms/step - loss: 8.3802 - mae: 8.3802\n",
            "Epoch 78/100\n",
            "2/2 [==============================] - 0s 10ms/step - loss: 9.1407 - mae: 9.1407\n",
            "Epoch 79/100\n",
            "2/2 [==============================] - 0s 11ms/step - loss: 19.5381 - mae: 19.5381\n",
            "Epoch 80/100\n",
            "2/2 [==============================] - 0s 9ms/step - loss: 14.8929 - mae: 14.8929\n",
            "Epoch 81/100\n",
            "2/2 [==============================] - 0s 8ms/step - loss: 9.0406 - mae: 9.0406\n",
            "Epoch 82/100\n",
            "2/2 [==============================] - 0s 10ms/step - loss: 13.0238 - mae: 13.0238\n",
            "Epoch 83/100\n",
            "2/2 [==============================] - 0s 13ms/step - loss: 7.9446 - mae: 7.9446\n",
            "Epoch 84/100\n",
            "2/2 [==============================] - 0s 11ms/step - loss: 7.7150 - mae: 7.7150\n",
            "Epoch 85/100\n",
            "2/2 [==============================] - 0s 8ms/step - loss: 10.0637 - mae: 10.0637\n",
            "Epoch 86/100\n",
            "2/2 [==============================] - 0s 8ms/step - loss: 9.2716 - mae: 9.2716\n",
            "Epoch 87/100\n",
            "2/2 [==============================] - 0s 8ms/step - loss: 12.0497 - mae: 12.0497\n",
            "Epoch 88/100\n",
            "2/2 [==============================] - 0s 12ms/step - loss: 10.6704 - mae: 10.6704\n",
            "Epoch 89/100\n",
            "2/2 [==============================] - 0s 8ms/step - loss: 7.2922 - mae: 7.2922\n",
            "Epoch 90/100\n",
            "2/2 [==============================] - 0s 12ms/step - loss: 12.8111 - mae: 12.8111\n",
            "Epoch 91/100\n",
            "2/2 [==============================] - 0s 8ms/step - loss: 7.4983 - mae: 7.4983\n",
            "Epoch 92/100\n",
            "2/2 [==============================] - 0s 8ms/step - loss: 6.7798 - mae: 6.7798\n",
            "Epoch 93/100\n",
            "2/2 [==============================] - 0s 9ms/step - loss: 11.9626 - mae: 11.9626\n",
            "Epoch 94/100\n",
            "2/2 [==============================] - 0s 7ms/step - loss: 8.8988 - mae: 8.8988\n",
            "Epoch 95/100\n",
            "2/2 [==============================] - 0s 7ms/step - loss: 7.7424 - mae: 7.7424\n",
            "Epoch 96/100\n",
            "2/2 [==============================] - 0s 8ms/step - loss: 6.7749 - mae: 6.7749\n",
            "Epoch 97/100\n",
            "2/2 [==============================] - 0s 6ms/step - loss: 8.6489 - mae: 8.6489\n",
            "Epoch 98/100\n",
            "2/2 [==============================] - 0s 7ms/step - loss: 9.4224 - mae: 9.4224\n",
            "Epoch 99/100\n",
            "2/2 [==============================] - 0s 7ms/step - loss: 9.1568 - mae: 9.1568\n",
            "Epoch 100/100\n",
            "2/2 [==============================] - 0s 7ms/step - loss: 10.5163 - mae: 10.5163\n"
          ]
        },
        {
          "output_type": "execute_result",
          "data": {
            "text/plain": [
              "<keras.callbacks.History at 0x7f9d2aa0fe20>"
            ]
          },
          "metadata": {},
          "execution_count": 74
        }
      ]
    },
    {
      "cell_type": "code",
      "source": [
        "# Make and plot predictions for model_1\n",
        "y_preds_1 = model_1.predict(X_test)\n",
        "plot_predictions(predictions=y_preds_1)"
      ],
      "metadata": {
        "colab": {
          "base_uri": "https://localhost:8080/",
          "height": 617
        },
        "id": "ANgW9j-64nbC",
        "outputId": "88d2188d-342c-472f-f679-42a8fdc77818"
      },
      "execution_count": 75,
      "outputs": [
        {
          "output_type": "stream",
          "name": "stdout",
          "text": [
            "1/1 [==============================] - 0s 99ms/step\n"
          ]
        },
        {
          "output_type": "display_data",
          "data": {
            "text/plain": [
              "<Figure size 1000x700 with 1 Axes>"
            ],
            "image/png": "[encoded data removed]"
          },
          "metadata": {}
        }
      ]
    },
    {
      "cell_type": "code",
      "source": [
        "# Calculate model_1 metrics\n",
        "mae_1 = mae(y_test, y_preds_1.squeeze()).numpy()\n",
        "mse_1 = mse(y_test, y_preds_1.squeeze()).numpy()\n",
        "mae_1, mse_1\n",
        "     "
      ],
      "metadata": {
        "colab": {
          "base_uri": "https://localhost:8080/"
        },
        "id": "xUjMgkFg5WaS",
        "outputId": "3ba4236d-4445-4646-d4ee-c7a6ba918e22"
      },
      "execution_count": 89,
      "outputs": [
        {
          "output_type": "execute_result",
          "data": {
            "text/plain": [
              "(14.945013, 224.18965)"
            ]
          },
          "metadata": {},
          "execution_count": 89
        }
      ]
    },
    {
      "cell_type": "markdown",
      "source": [
        "Thus 14 is the avg difference between predicted and actual test case\n",
        "\n",
        "---\n",
        "\n"
      ],
      "metadata": {
        "id": "lepgYgGS6GzL"
      }
    },
    {
      "cell_type": "code",
      "source": [
        "# Set random seed\n",
        "tf.random.set_seed(42)\n",
        "\n",
        "# Replicate model_1 and add an extra layer\n",
        "model_2 = tf.keras.Sequential([\n",
        "  tf.keras.layers.Dense(100),\n",
        "  tf.keras.layers.Dense(1) # add a second layer\n",
        "])\n",
        "\n",
        "# Compile the model\n",
        "model_2.compile(loss=tf.keras.losses.mae,\n",
        "                optimizer=tf.keras.optimizers.SGD(),\n",
        "                metrics=['mae'])\n",
        "\n",
        "# Fit the model\n",
        "model_2.fit(tf.expand_dims(X_train, axis=-1), y_train, epochs=100, verbose=0)"
      ],
      "metadata": {
        "colab": {
          "base_uri": "https://localhost:8080/"
        },
        "id": "zlwxyAkV6Scn",
        "outputId": "34ee8929-ecf1-43f8-fba6-134fd59dbdba"
      },
      "execution_count": 80,
      "outputs": [
        {
          "output_type": "execute_result",
          "data": {
            "text/plain": [
              "<keras.callbacks.History at 0x7f9d2a88ce50>"
            ]
          },
          "metadata": {},
          "execution_count": 80
        }
      ]
    },
    {
      "cell_type": "code",
      "source": [
        "y_preds_2 = model_2.predict(X_test)\n",
        "plot_predictions(predictions=y_preds_2)"
      ],
      "metadata": {
        "colab": {
          "base_uri": "https://localhost:8080/",
          "height": 617
        },
        "id": "ZyO9QB_L6mO4",
        "outputId": "8281276b-f12d-4a5b-e5ee-e4756c6f6295"
      },
      "execution_count": 81,
      "outputs": [
        {
          "output_type": "stream",
          "name": "stdout",
          "text": [
            "1/1 [==============================] - 0s 57ms/step\n"
          ]
        },
        {
          "output_type": "display_data",
          "data": {
            "text/plain": [
              "<Figure size 1000x700 with 1 Axes>"
            ],
            "image/png": "[encoded data removed]"
          },
          "metadata": {}
        }
      ]
    },
    {
      "cell_type": "code",
      "source": [
        "# Calculate model_2 metrics\n",
        "mae_2 = mae(y_test, y_preds_2.squeeze()).numpy()\n",
        "mse_2 = mse(y_test, y_preds_2.squeeze()).numpy()\n",
        "mae_2, mse_2"
      ],
      "metadata": {
        "colab": {
          "base_uri": "https://localhost:8080/"
        },
        "id": "v-O_VEGt6u1R",
        "outputId": "bd1373fe-d247-4fc1-a69a-c82fd37e6add"
      },
      "execution_count": 82,
      "outputs": [
        {
          "output_type": "execute_result",
          "data": {
            "text/plain": [
              "(1.929602, 5.5693545)"
            ]
          },
          "metadata": {},
          "execution_count": 82
        }
      ]
    },
    {
      "cell_type": "markdown",
      "source": [
        "\n",
        "\n",
        "---\n",
        "\n",
        "\n",
        "\n",
        "---\n",
        "\n"
      ],
      "metadata": {
        "id": "dFVv3ROI7O5R"
      }
    },
    {
      "cell_type": "code",
      "source": [
        "# model_3\n",
        "\n",
        "tf.random.set_seed(42)\n",
        "\n",
        "# Replicate model_2\n",
        "model_3 = tf.keras.Sequential([\n",
        "  tf.keras.layers.Dense(1),\n",
        "  tf.keras.layers.Dense(1)\n",
        "])\n",
        "\n",
        "# Compile the model\n",
        "model_3.compile(loss=tf.keras.losses.mae,\n",
        "                optimizer=tf.keras.optimizers.SGD(),\n",
        "                metrics=['mae'])\n",
        "\n",
        "# Fit the model (this time for 500 epochs, not 100)\n",
        "model_3.fit(tf.expand_dims(X_train, axis=-1), y_train, epochs=500)"
      ],
      "metadata": {
        "colab": {
          "base_uri": "https://localhost:8080/"
        },
        "id": "wAYU5L_a6zw5",
        "outputId": "73d3c2dc-98db-4be1-f61e-994e5dfdc265"
      },
      "execution_count": 83,
      "outputs": [
        {
          "output_type": "stream",
          "name": "stdout",
          "text": [
            "Epoch 1/500\n",
            "2/2 [==============================] - 1s 23ms/step - loss: 110.5692 - mae: 110.5692\n",
            "Epoch 2/500\n",
            "2/2 [==============================] - 0s 14ms/step - loss: 38.1283 - mae: 38.1283\n",
            "Epoch 3/500\n",
            "2/2 [==============================] - 0s 20ms/step - loss: 10.5689 - mae: 10.5689\n",
            "Epoch 4/500\n",
            "2/2 [==============================] - 0s 11ms/step - loss: 12.1712 - mae: 12.1712\n",
            "Epoch 5/500\n",
            "2/2 [==============================] - 0s 10ms/step - loss: 13.1837 - mae: 13.1837\n",
            "Epoch 6/500\n",
            "2/2 [==============================] - 0s 10ms/step - loss: 10.6215 - mae: 10.6215\n",
            "Epoch 7/500\n",
            "2/2 [==============================] - 0s 10ms/step - loss: 11.5406 - mae: 11.5406\n",
            "Epoch 8/500\n",
            "2/2 [==============================] - 0s 10ms/step - loss: 10.6854 - mae: 10.6854\n",
            "Epoch 9/500\n",
            "2/2 [==============================] - 0s 16ms/step - loss: 35.4473 - mae: 35.4473\n",
            "Epoch 10/500\n",
            "2/2 [==============================] - 0s 11ms/step - loss: 23.2738 - mae: 23.2738\n",
            "Epoch 11/500\n",
            "2/2 [==============================] - 0s 9ms/step - loss: 10.2486 - mae: 10.2486\n",
            "Epoch 12/500\n",
            "2/2 [==============================] - 0s 15ms/step - loss: 25.1551 - mae: 25.1551\n",
            "Epoch 13/500\n",
            "2/2 [==============================] - 0s 13ms/step - loss: 17.1262 - mae: 17.1262\n",
            "Epoch 14/500\n",
            "2/2 [==============================] - 0s 10ms/step - loss: 26.1623 - mae: 26.1623\n",
            "Epoch 15/500\n",
            "2/2 [==============================] - 0s 8ms/step - loss: 18.1915 - mae: 18.1915\n",
            "Epoch 16/500\n",
            "2/2 [==============================] - 0s 9ms/step - loss: 7.8680 - mae: 7.8680\n",
            "Epoch 17/500\n",
            "2/2 [==============================] - 0s 9ms/step - loss: 22.3019 - mae: 22.3019\n",
            "Epoch 18/500\n",
            "2/2 [==============================] - 0s 8ms/step - loss: 10.8586 - mae: 10.8586\n",
            "Epoch 19/500\n",
            "2/2 [==============================] - 0s 10ms/step - loss: 10.7468 - mae: 10.7468\n",
            "Epoch 20/500\n",
            "2/2 [==============================] - 0s 8ms/step - loss: 12.0673 - mae: 12.0673\n",
            "Epoch 21/500\n",
            "2/2 [==============================] - 0s 12ms/step - loss: 20.2053 - mae: 20.2053\n",
            "Epoch 22/500\n",
            "2/2 [==============================] - 0s 8ms/step - loss: 13.8241 - mae: 13.8241\n",
            "Epoch 23/500\n",
            "2/2 [==============================] - 0s 11ms/step - loss: 9.5590 - mae: 9.5590\n",
            "Epoch 24/500\n",
            "2/2 [==============================] - 0s 10ms/step - loss: 11.9166 - mae: 11.9166\n",
            "Epoch 25/500\n",
            "2/2 [==============================] - 0s 8ms/step - loss: 16.2420 - mae: 16.2420\n",
            "Epoch 26/500\n",
            "2/2 [==============================] - 0s 8ms/step - loss: 16.4337 - mae: 16.4337\n",
            "Epoch 27/500\n",
            "2/2 [==============================] - 0s 8ms/step - loss: 11.6024 - mae: 11.6024\n",
            "Epoch 28/500\n",
            "2/2 [==============================] - 0s 7ms/step - loss: 30.0332 - mae: 30.0332\n",
            "Epoch 29/500\n",
            "2/2 [==============================] - 0s 7ms/step - loss: 9.2590 - mae: 9.2590\n",
            "Epoch 30/500\n",
            "2/2 [==============================] - 0s 7ms/step - loss: 30.5661 - mae: 30.5661\n",
            "Epoch 31/500\n",
            "2/2 [==============================] - 0s 7ms/step - loss: 55.5705 - mae: 55.5705\n",
            "Epoch 32/500\n",
            "2/2 [==============================] - 0s 8ms/step - loss: 9.7440 - mae: 9.7440\n",
            "Epoch 33/500\n",
            "2/2 [==============================] - 0s 9ms/step - loss: 12.3633 - mae: 12.3633\n",
            "Epoch 34/500\n",
            "2/2 [==============================] - 0s 8ms/step - loss: 24.7342 - mae: 24.7342\n",
            "Epoch 35/500\n",
            "2/2 [==============================] - 0s 9ms/step - loss: 11.9211 - mae: 11.9211\n",
            "Epoch 36/500\n",
            "2/2 [==============================] - 0s 7ms/step - loss: 22.0932 - mae: 22.0932\n",
            "Epoch 37/500\n",
            "2/2 [==============================] - 0s 8ms/step - loss: 17.5816 - mae: 17.5816\n",
            "Epoch 38/500\n",
            "2/2 [==============================] - 0s 8ms/step - loss: 10.7423 - mae: 10.7423\n",
            "Epoch 39/500\n",
            "2/2 [==============================] - 0s 9ms/step - loss: 11.2584 - mae: 11.2584\n",
            "Epoch 40/500\n",
            "2/2 [==============================] - 0s 10ms/step - loss: 18.2421 - mae: 18.2421\n",
            "Epoch 41/500\n",
            "2/2 [==============================] - 0s 8ms/step - loss: 10.5084 - mae: 10.5084\n",
            "Epoch 42/500\n",
            "2/2 [==============================] - 0s 9ms/step - loss: 7.8495 - mae: 7.8495\n",
            "Epoch 43/500\n",
            "2/2 [==============================] - 0s 9ms/step - loss: 14.2216 - mae: 14.2216\n",
            "Epoch 44/500\n",
            "2/2 [==============================] - 0s 7ms/step - loss: 24.9859 - mae: 24.9859\n",
            "Epoch 45/500\n",
            "2/2 [==============================] - 0s 7ms/step - loss: 10.9666 - mae: 10.9666\n",
            "Epoch 46/500\n",
            "2/2 [==============================] - 0s 8ms/step - loss: 13.0685 - mae: 13.0685\n",
            "Epoch 47/500\n",
            "2/2 [==============================] - 0s 9ms/step - loss: 10.4345 - mae: 10.4345\n",
            "Epoch 48/500\n",
            "2/2 [==============================] - 0s 8ms/step - loss: 17.1473 - mae: 17.1473\n",
            "Epoch 49/500\n",
            "2/2 [==============================] - 0s 7ms/step - loss: 9.6373 - mae: 9.6373\n",
            "Epoch 50/500\n",
            "2/2 [==============================] - 0s 8ms/step - loss: 13.9279 - mae: 13.9279\n",
            "Epoch 51/500\n",
            "2/2 [==============================] - 0s 10ms/step - loss: 11.6410 - mae: 11.6410\n",
            "Epoch 52/500\n",
            "2/2 [==============================] - 0s 9ms/step - loss: 30.8062 - mae: 30.8062\n",
            "Epoch 53/500\n",
            "2/2 [==============================] - 0s 13ms/step - loss: 14.4674 - mae: 14.4674\n",
            "Epoch 54/500\n",
            "2/2 [==============================] - 0s 11ms/step - loss: 24.1664 - mae: 24.1664\n",
            "Epoch 55/500\n",
            "2/2 [==============================] - 0s 8ms/step - loss: 23.4077 - mae: 23.4077\n",
            "Epoch 56/500\n",
            "2/2 [==============================] - 0s 8ms/step - loss: 10.9578 - mae: 10.9578\n",
            "Epoch 57/500\n",
            "2/2 [==============================] - 0s 8ms/step - loss: 12.8419 - mae: 12.8419\n",
            "Epoch 58/500\n",
            "2/2 [==============================] - 0s 8ms/step - loss: 9.6560 - mae: 9.6560\n",
            "Epoch 59/500\n",
            "2/2 [==============================] - 0s 8ms/step - loss: 13.0020 - mae: 13.0020\n",
            "Epoch 60/500\n",
            "2/2 [==============================] - 0s 8ms/step - loss: 10.6916 - mae: 10.6916\n",
            "Epoch 61/500\n",
            "2/2 [==============================] - 0s 11ms/step - loss: 17.4510 - mae: 17.4510\n",
            "Epoch 62/500\n",
            "2/2 [==============================] - 0s 9ms/step - loss: 10.6053 - mae: 10.6053\n",
            "Epoch 63/500\n",
            "2/2 [==============================] - 0s 9ms/step - loss: 10.4910 - mae: 10.4910\n",
            "Epoch 64/500\n",
            "2/2 [==============================] - 0s 8ms/step - loss: 24.8244 - mae: 24.8244\n",
            "Epoch 65/500\n",
            "2/2 [==============================] - 0s 9ms/step - loss: 10.6772 - mae: 10.6772\n",
            "Epoch 66/500\n",
            "2/2 [==============================] - 0s 10ms/step - loss: 21.7614 - mae: 21.7614\n",
            "Epoch 67/500\n",
            "2/2 [==============================] - 0s 9ms/step - loss: 10.7120 - mae: 10.7120\n",
            "Epoch 68/500\n",
            "2/2 [==============================] - 0s 7ms/step - loss: 10.6396 - mae: 10.6396\n",
            "Epoch 69/500\n",
            "2/2 [==============================] - 0s 7ms/step - loss: 22.6607 - mae: 22.6607\n",
            "Epoch 70/500\n",
            "2/2 [==============================] - 0s 8ms/step - loss: 9.3408 - mae: 9.3408\n",
            "Epoch 71/500\n",
            "2/2 [==============================] - 0s 9ms/step - loss: 15.4492 - mae: 15.4492\n",
            "Epoch 72/500\n",
            "2/2 [==============================] - 0s 7ms/step - loss: 7.0215 - mae: 7.0215\n",
            "Epoch 73/500\n",
            "2/2 [==============================] - 0s 7ms/step - loss: 12.2140 - mae: 12.2140\n",
            "Epoch 74/500\n",
            "2/2 [==============================] - 0s 6ms/step - loss: 17.3548 - mae: 17.3548\n",
            "Epoch 75/500\n",
            "2/2 [==============================] - 0s 8ms/step - loss: 7.2222 - mae: 7.2222\n",
            "Epoch 76/500\n",
            "2/2 [==============================] - 0s 7ms/step - loss: 9.4585 - mae: 9.4585\n",
            "Epoch 77/500\n",
            "2/2 [==============================] - 0s 8ms/step - loss: 22.1829 - mae: 22.1829\n",
            "Epoch 78/500\n",
            "2/2 [==============================] - 0s 8ms/step - loss: 17.4617 - mae: 17.4617\n",
            "Epoch 79/500\n",
            "2/2 [==============================] - 0s 8ms/step - loss: 14.7023 - mae: 14.7023\n",
            "Epoch 80/500\n",
            "2/2 [==============================] - 0s 7ms/step - loss: 24.7131 - mae: 24.7131\n",
            "Epoch 81/500\n",
            "2/2 [==============================] - 0s 6ms/step - loss: 11.5493 - mae: 11.5493\n",
            "Epoch 82/500\n",
            "2/2 [==============================] - 0s 12ms/step - loss: 12.3931 - mae: 12.3931\n",
            "Epoch 83/500\n",
            "2/2 [==============================] - 0s 7ms/step - loss: 17.0443 - mae: 17.0443\n",
            "Epoch 84/500\n",
            "2/2 [==============================] - 0s 7ms/step - loss: 7.2465 - mae: 7.2465\n",
            "Epoch 85/500\n",
            "2/2 [==============================] - 0s 7ms/step - loss: 37.3893 - mae: 37.3893\n",
            "Epoch 86/500\n",
            "2/2 [==============================] - 0s 8ms/step - loss: 21.3510 - mae: 21.3510\n",
            "Epoch 87/500\n",
            "2/2 [==============================] - 0s 8ms/step - loss: 11.0684 - mae: 11.0684\n",
            "Epoch 88/500\n",
            "2/2 [==============================] - 0s 8ms/step - loss: 25.2263 - mae: 25.2263\n",
            "Epoch 89/500\n",
            "2/2 [==============================] - 0s 10ms/step - loss: 9.3949 - mae: 9.3949\n",
            "Epoch 90/500\n",
            "2/2 [==============================] - 0s 7ms/step - loss: 17.4820 - mae: 17.4820\n",
            "Epoch 91/500\n",
            "2/2 [==============================] - 0s 9ms/step - loss: 10.8442 - mae: 10.8442\n",
            "Epoch 92/500\n",
            "2/2 [==============================] - 0s 7ms/step - loss: 19.1720 - mae: 19.1720\n",
            "Epoch 93/500\n",
            "2/2 [==============================] - 0s 6ms/step - loss: 8.3531 - mae: 8.3531\n",
            "Epoch 94/500\n",
            "2/2 [==============================] - 0s 11ms/step - loss: 11.5985 - mae: 11.5985\n",
            "Epoch 95/500\n",
            "2/2 [==============================] - 0s 8ms/step - loss: 26.2203 - mae: 26.2203\n",
            "Epoch 96/500\n",
            "2/2 [==============================] - 0s 8ms/step - loss: 11.2274 - mae: 11.2274\n",
            "Epoch 97/500\n",
            "2/2 [==============================] - 0s 8ms/step - loss: 16.8596 - mae: 16.8596\n",
            "Epoch 98/500\n",
            "2/2 [==============================] - 0s 6ms/step - loss: 6.6000 - mae: 6.6000\n",
            "Epoch 99/500\n",
            "2/2 [==============================] - 0s 7ms/step - loss: 12.5944 - mae: 12.5944\n",
            "Epoch 100/500\n",
            "2/2 [==============================] - 0s 7ms/step - loss: 19.3915 - mae: 19.3915\n",
            "Epoch 101/500\n",
            "2/2 [==============================] - 0s 8ms/step - loss: 16.1112 - mae: 16.1112\n",
            "Epoch 102/500\n",
            "2/2 [==============================] - 0s 7ms/step - loss: 11.2226 - mae: 11.2226\n",
            "Epoch 103/500\n",
            "2/2 [==============================] - 0s 8ms/step - loss: 9.3449 - mae: 9.3449\n",
            "Epoch 104/500\n",
            "2/2 [==============================] - 0s 7ms/step - loss: 24.9782 - mae: 24.9782\n",
            "Epoch 105/500\n",
            "2/2 [==============================] - 0s 7ms/step - loss: 12.0035 - mae: 12.0035\n",
            "Epoch 106/500\n",
            "2/2 [==============================] - 0s 8ms/step - loss: 10.1048 - mae: 10.1048\n",
            "Epoch 107/500\n",
            "2/2 [==============================] - 0s 8ms/step - loss: 22.5202 - mae: 22.5202\n",
            "Epoch 108/500\n",
            "2/2 [==============================] - 0s 8ms/step - loss: 8.1448 - mae: 8.1448\n",
            "Epoch 109/500\n",
            "2/2 [==============================] - 0s 8ms/step - loss: 13.3439 - mae: 13.3439\n",
            "Epoch 110/500\n",
            "2/2 [==============================] - 0s 7ms/step - loss: 8.0005 - mae: 8.0005\n",
            "Epoch 111/500\n",
            "2/2 [==============================] - 0s 8ms/step - loss: 15.7718 - mae: 15.7718\n",
            "Epoch 112/500\n",
            "2/2 [==============================] - 0s 7ms/step - loss: 8.7637 - mae: 8.7637\n",
            "Epoch 113/500\n",
            "2/2 [==============================] - 0s 7ms/step - loss: 22.6427 - mae: 22.6427\n",
            "Epoch 114/500\n",
            "2/2 [==============================] - 0s 10ms/step - loss: 19.0017 - mae: 19.0017\n",
            "Epoch 115/500\n",
            "2/2 [==============================] - 0s 7ms/step - loss: 11.1007 - mae: 11.1007\n",
            "Epoch 116/500\n",
            "2/2 [==============================] - 0s 7ms/step - loss: 23.0842 - mae: 23.0842\n",
            "Epoch 117/500\n",
            "2/2 [==============================] - 0s 9ms/step - loss: 9.5771 - mae: 9.5771\n",
            "Epoch 118/500\n",
            "2/2 [==============================] - 0s 8ms/step - loss: 10.6334 - mae: 10.6334\n",
            "Epoch 119/500\n",
            "2/2 [==============================] - 0s 7ms/step - loss: 8.0606 - mae: 8.0606\n",
            "Epoch 120/500\n",
            "2/2 [==============================] - 0s 8ms/step - loss: 29.3354 - mae: 29.3354\n",
            "Epoch 121/500\n",
            "2/2 [==============================] - 0s 7ms/step - loss: 8.0961 - mae: 8.0961\n",
            "Epoch 122/500\n",
            "2/2 [==============================] - 0s 7ms/step - loss: 28.0042 - mae: 28.0042\n",
            "Epoch 123/500\n",
            "2/2 [==============================] - 0s 11ms/step - loss: 32.5224 - mae: 32.5224\n",
            "Epoch 124/500\n",
            "2/2 [==============================] - 0s 7ms/step - loss: 19.3535 - mae: 19.3535\n",
            "Epoch 125/500\n",
            "2/2 [==============================] - 0s 8ms/step - loss: 9.5402 - mae: 9.5402\n",
            "Epoch 126/500\n",
            "2/2 [==============================] - 0s 7ms/step - loss: 9.6102 - mae: 9.6102\n",
            "Epoch 127/500\n",
            "2/2 [==============================] - 0s 10ms/step - loss: 12.7026 - mae: 12.7026\n",
            "Epoch 128/500\n",
            "2/2 [==============================] - 0s 7ms/step - loss: 12.8145 - mae: 12.8145\n",
            "Epoch 129/500\n",
            "2/2 [==============================] - 0s 10ms/step - loss: 13.9238 - mae: 13.9238\n",
            "Epoch 130/500\n",
            "2/2 [==============================] - 0s 8ms/step - loss: 10.2493 - mae: 10.2493\n",
            "Epoch 131/500\n",
            "2/2 [==============================] - 0s 10ms/step - loss: 21.6588 - mae: 21.6588\n",
            "Epoch 132/500\n",
            "2/2 [==============================] - 0s 11ms/step - loss: 8.2889 - mae: 8.2889\n",
            "Epoch 133/500\n",
            "2/2 [==============================] - 0s 8ms/step - loss: 9.0696 - mae: 9.0696\n",
            "Epoch 134/500\n",
            "2/2 [==============================] - 0s 7ms/step - loss: 16.8674 - mae: 16.8674\n",
            "Epoch 135/500\n",
            "2/2 [==============================] - 0s 12ms/step - loss: 10.6565 - mae: 10.6565\n",
            "Epoch 136/500\n",
            "2/2 [==============================] - 0s 11ms/step - loss: 18.4690 - mae: 18.4690\n",
            "Epoch 137/500\n",
            "2/2 [==============================] - 0s 13ms/step - loss: 23.4347 - mae: 23.4347\n",
            "Epoch 138/500\n",
            "2/2 [==============================] - 0s 7ms/step - loss: 9.2674 - mae: 9.2674\n",
            "Epoch 139/500\n",
            "2/2 [==============================] - 0s 10ms/step - loss: 9.0088 - mae: 9.0088\n",
            "Epoch 140/500\n",
            "2/2 [==============================] - 0s 8ms/step - loss: 16.6362 - mae: 16.6362\n",
            "Epoch 141/500\n",
            "2/2 [==============================] - 0s 8ms/step - loss: 8.4729 - mae: 8.4729\n",
            "Epoch 142/500\n",
            "2/2 [==============================] - 0s 7ms/step - loss: 37.1747 - mae: 37.1747\n",
            "Epoch 143/500\n",
            "2/2 [==============================] - 0s 7ms/step - loss: 25.7911 - mae: 25.7911\n",
            "Epoch 144/500\n",
            "2/2 [==============================] - 0s 10ms/step - loss: 9.5663 - mae: 9.5663\n",
            "Epoch 145/500\n",
            "2/2 [==============================] - 0s 7ms/step - loss: 26.5667 - mae: 26.5667\n",
            "Epoch 146/500\n",
            "2/2 [==============================] - 0s 7ms/step - loss: 8.8324 - mae: 8.8324\n",
            "Epoch 147/500\n",
            "2/2 [==============================] - 0s 10ms/step - loss: 15.6105 - mae: 15.6105\n",
            "Epoch 148/500\n",
            "2/2 [==============================] - 0s 10ms/step - loss: 18.2841 - mae: 18.2841\n",
            "Epoch 149/500\n",
            "2/2 [==============================] - 0s 10ms/step - loss: 8.2645 - mae: 8.2645\n",
            "Epoch 150/500\n",
            "2/2 [==============================] - 0s 7ms/step - loss: 7.5455 - mae: 7.5455\n",
            "Epoch 151/500\n",
            "2/2 [==============================] - 0s 8ms/step - loss: 18.3909 - mae: 18.3909\n",
            "Epoch 152/500\n",
            "2/2 [==============================] - 0s 7ms/step - loss: 10.3396 - mae: 10.3396\n",
            "Epoch 153/500\n",
            "2/2 [==============================] - 0s 7ms/step - loss: 29.6868 - mae: 29.6868\n",
            "Epoch 154/500\n",
            "2/2 [==============================] - 0s 7ms/step - loss: 10.5721 - mae: 10.5721\n",
            "Epoch 155/500\n",
            "2/2 [==============================] - 0s 9ms/step - loss: 15.4673 - mae: 15.4673\n",
            "Epoch 156/500\n",
            "2/2 [==============================] - 0s 8ms/step - loss: 17.0319 - mae: 17.0319\n",
            "Epoch 157/500\n",
            "2/2 [==============================] - 0s 8ms/step - loss: 32.7985 - mae: 32.7985\n",
            "Epoch 158/500\n",
            "2/2 [==============================] - 0s 7ms/step - loss: 10.7407 - mae: 10.7407\n",
            "Epoch 159/500\n",
            "2/2 [==============================] - 0s 10ms/step - loss: 8.9387 - mae: 8.9387\n",
            "Epoch 160/500\n",
            "2/2 [==============================] - 0s 8ms/step - loss: 22.0914 - mae: 22.0914\n",
            "Epoch 161/500\n",
            "2/2 [==============================] - 0s 7ms/step - loss: 11.7231 - mae: 11.7231\n",
            "Epoch 162/500\n",
            "2/2 [==============================] - 0s 7ms/step - loss: 21.5209 - mae: 21.5209\n",
            "Epoch 163/500\n",
            "2/2 [==============================] - 0s 7ms/step - loss: 19.2037 - mae: 19.2037\n",
            "Epoch 164/500\n",
            "2/2 [==============================] - 0s 7ms/step - loss: 11.0126 - mae: 11.0126\n",
            "Epoch 165/500\n",
            "2/2 [==============================] - 0s 7ms/step - loss: 9.6482 - mae: 9.6482\n",
            "Epoch 166/500\n",
            "2/2 [==============================] - 0s 7ms/step - loss: 21.6389 - mae: 21.6389\n",
            "Epoch 167/500\n",
            "2/2 [==============================] - 0s 7ms/step - loss: 26.1740 - mae: 26.1740\n",
            "Epoch 168/500\n",
            "2/2 [==============================] - 0s 8ms/step - loss: 9.8705 - mae: 9.8705\n",
            "Epoch 169/500\n",
            "2/2 [==============================] - 0s 7ms/step - loss: 22.4239 - mae: 22.4239\n",
            "Epoch 170/500\n",
            "2/2 [==============================] - 0s 7ms/step - loss: 10.1929 - mae: 10.1929\n",
            "Epoch 171/500\n",
            "2/2 [==============================] - 0s 7ms/step - loss: 18.1172 - mae: 18.1172\n",
            "Epoch 172/500\n",
            "2/2 [==============================] - 0s 7ms/step - loss: 28.6716 - mae: 28.6716\n",
            "Epoch 173/500\n",
            "2/2 [==============================] - 0s 7ms/step - loss: 16.4090 - mae: 16.4090\n",
            "Epoch 174/500\n",
            "2/2 [==============================] - 0s 10ms/step - loss: 11.7491 - mae: 11.7491\n",
            "Epoch 175/500\n",
            "2/2 [==============================] - 0s 7ms/step - loss: 27.1830 - mae: 27.1830\n",
            "Epoch 176/500\n",
            "2/2 [==============================] - 0s 8ms/step - loss: 8.7699 - mae: 8.7699\n",
            "Epoch 177/500\n",
            "2/2 [==============================] - 0s 9ms/step - loss: 8.7894 - mae: 8.7894\n",
            "Epoch 178/500\n",
            "2/2 [==============================] - 0s 10ms/step - loss: 16.1677 - mae: 16.1677\n",
            "Epoch 179/500\n",
            "2/2 [==============================] - 0s 9ms/step - loss: 10.4278 - mae: 10.4278\n",
            "Epoch 180/500\n",
            "2/2 [==============================] - 0s 9ms/step - loss: 8.0073 - mae: 8.0073\n",
            "Epoch 181/500\n",
            "2/2 [==============================] - 0s 8ms/step - loss: 17.7275 - mae: 17.7275\n",
            "Epoch 182/500\n",
            "2/2 [==============================] - 0s 7ms/step - loss: 11.1946 - mae: 11.1946\n",
            "Epoch 183/500\n",
            "2/2 [==============================] - 0s 8ms/step - loss: 12.3750 - mae: 12.3750\n",
            "Epoch 184/500\n",
            "2/2 [==============================] - 0s 8ms/step - loss: 27.2872 - mae: 27.2872\n",
            "Epoch 185/500\n",
            "2/2 [==============================] - 0s 12ms/step - loss: 7.5895 - mae: 7.5895\n",
            "Epoch 186/500\n",
            "2/2 [==============================] - 0s 8ms/step - loss: 15.9868 - mae: 15.9868\n",
            "Epoch 187/500\n",
            "2/2 [==============================] - 0s 14ms/step - loss: 8.6047 - mae: 8.6047\n",
            "Epoch 188/500\n",
            "2/2 [==============================] - 0s 9ms/step - loss: 28.7539 - mae: 28.7539\n",
            "Epoch 189/500\n",
            "2/2 [==============================] - 0s 13ms/step - loss: 13.1805 - mae: 13.1805\n",
            "Epoch 190/500\n",
            "2/2 [==============================] - 0s 8ms/step - loss: 18.3249 - mae: 18.3249\n",
            "Epoch 191/500\n",
            "2/2 [==============================] - 0s 8ms/step - loss: 13.7561 - mae: 13.7561\n",
            "Epoch 192/500\n",
            "2/2 [==============================] - 0s 8ms/step - loss: 13.7332 - mae: 13.7332\n",
            "Epoch 193/500\n",
            "2/2 [==============================] - 0s 7ms/step - loss: 28.5965 - mae: 28.5965\n",
            "Epoch 194/500\n",
            "2/2 [==============================] - 0s 7ms/step - loss: 7.0924 - mae: 7.0924\n",
            "Epoch 195/500\n",
            "2/2 [==============================] - 0s 7ms/step - loss: 7.0907 - mae: 7.0907\n",
            "Epoch 196/500\n",
            "2/2 [==============================] - 0s 7ms/step - loss: 22.0468 - mae: 22.0468\n",
            "Epoch 197/500\n",
            "2/2 [==============================] - 0s 8ms/step - loss: 20.7685 - mae: 20.7685\n",
            "Epoch 198/500\n",
            "2/2 [==============================] - 0s 7ms/step - loss: 12.4390 - mae: 12.4390\n",
            "Epoch 199/500\n",
            "2/2 [==============================] - 0s 7ms/step - loss: 17.8416 - mae: 17.8416\n",
            "Epoch 200/500\n",
            "2/2 [==============================] - 0s 7ms/step - loss: 13.6881 - mae: 13.6881\n",
            "Epoch 201/500\n",
            "2/2 [==============================] - 0s 7ms/step - loss: 5.5144 - mae: 5.5144\n",
            "Epoch 202/500\n",
            "2/2 [==============================] - 0s 8ms/step - loss: 13.6367 - mae: 13.6367\n",
            "Epoch 203/500\n",
            "2/2 [==============================] - 0s 8ms/step - loss: 9.4249 - mae: 9.4249\n",
            "Epoch 204/500\n",
            "2/2 [==============================] - 0s 8ms/step - loss: 20.8321 - mae: 20.8321\n",
            "Epoch 205/500\n",
            "2/2 [==============================] - 0s 8ms/step - loss: 9.5332 - mae: 9.5332\n",
            "Epoch 206/500\n",
            "2/2 [==============================] - 0s 8ms/step - loss: 11.1706 - mae: 11.1706\n",
            "Epoch 207/500\n",
            "2/2 [==============================] - 0s 8ms/step - loss: 17.7111 - mae: 17.7111\n",
            "Epoch 208/500\n",
            "2/2 [==============================] - 0s 11ms/step - loss: 14.4138 - mae: 14.4138\n",
            "Epoch 209/500\n",
            "2/2 [==============================] - 0s 13ms/step - loss: 16.7345 - mae: 16.7345\n",
            "Epoch 210/500\n",
            "2/2 [==============================] - 0s 8ms/step - loss: 18.2543 - mae: 18.2543\n",
            "Epoch 211/500\n",
            "2/2 [==============================] - 0s 8ms/step - loss: 9.9779 - mae: 9.9779\n",
            "Epoch 212/500\n",
            "2/2 [==============================] - 0s 8ms/step - loss: 18.7302 - mae: 18.7302\n",
            "Epoch 213/500\n",
            "2/2 [==============================] - 0s 8ms/step - loss: 14.9496 - mae: 14.9496\n",
            "Epoch 214/500\n",
            "2/2 [==============================] - 0s 8ms/step - loss: 14.5340 - mae: 14.5340\n",
            "Epoch 215/500\n",
            "2/2 [==============================] - 0s 7ms/step - loss: 23.1794 - mae: 23.1794\n",
            "Epoch 216/500\n",
            "2/2 [==============================] - 0s 8ms/step - loss: 13.5874 - mae: 13.5874\n",
            "Epoch 217/500\n",
            "2/2 [==============================] - 0s 7ms/step - loss: 10.0611 - mae: 10.0611\n",
            "Epoch 218/500\n",
            "2/2 [==============================] - 0s 7ms/step - loss: 12.4320 - mae: 12.4320\n",
            "Epoch 219/500\n",
            "2/2 [==============================] - 0s 7ms/step - loss: 5.8689 - mae: 5.8689\n",
            "Epoch 220/500\n",
            "2/2 [==============================] - 0s 10ms/step - loss: 10.1986 - mae: 10.1986\n",
            "Epoch 221/500\n",
            "2/2 [==============================] - 0s 8ms/step - loss: 28.8509 - mae: 28.8509\n",
            "Epoch 222/500\n",
            "2/2 [==============================] - 0s 7ms/step - loss: 28.0300 - mae: 28.0300\n",
            "Epoch 223/500\n",
            "2/2 [==============================] - 0s 7ms/step - loss: 10.0861 - mae: 10.0861\n",
            "Epoch 224/500\n",
            "2/2 [==============================] - 0s 9ms/step - loss: 14.6364 - mae: 14.6364\n",
            "Epoch 225/500\n",
            "2/2 [==============================] - 0s 12ms/step - loss: 16.6548 - mae: 16.6548\n",
            "Epoch 226/500\n",
            "2/2 [==============================] - 0s 8ms/step - loss: 15.8760 - mae: 15.8760\n",
            "Epoch 227/500\n",
            "2/2 [==============================] - 0s 6ms/step - loss: 16.0956 - mae: 16.0956\n",
            "Epoch 228/500\n",
            "2/2 [==============================] - 0s 7ms/step - loss: 13.8731 - mae: 13.8731\n",
            "Epoch 229/500\n",
            "2/2 [==============================] - 0s 8ms/step - loss: 17.9950 - mae: 17.9950\n",
            "Epoch 230/500\n",
            "2/2 [==============================] - 0s 7ms/step - loss: 15.5871 - mae: 15.5871\n",
            "Epoch 231/500\n",
            "2/2 [==============================] - 0s 7ms/step - loss: 21.1182 - mae: 21.1182\n",
            "Epoch 232/500\n",
            "2/2 [==============================] - 0s 8ms/step - loss: 25.4684 - mae: 25.4684\n",
            "Epoch 233/500\n",
            "2/2 [==============================] - 0s 9ms/step - loss: 16.4785 - mae: 16.4785\n",
            "Epoch 234/500\n",
            "2/2 [==============================] - 0s 9ms/step - loss: 7.3570 - mae: 7.3570\n",
            "Epoch 235/500\n",
            "2/2 [==============================] - 0s 7ms/step - loss: 17.1163 - mae: 17.1163\n",
            "Epoch 236/500\n",
            "2/2 [==============================] - 0s 7ms/step - loss: 7.2127 - mae: 7.2127\n",
            "Epoch 237/500\n",
            "2/2 [==============================] - 0s 7ms/step - loss: 9.3055 - mae: 9.3055\n",
            "Epoch 238/500\n",
            "2/2 [==============================] - 0s 7ms/step - loss: 8.1705 - mae: 8.1705\n",
            "Epoch 239/500\n",
            "2/2 [==============================] - 0s 7ms/step - loss: 17.1259 - mae: 17.1259\n",
            "Epoch 240/500\n",
            "2/2 [==============================] - 0s 7ms/step - loss: 8.9358 - mae: 8.9358\n",
            "Epoch 241/500\n",
            "2/2 [==============================] - 0s 6ms/step - loss: 13.2317 - mae: 13.2317\n",
            "Epoch 242/500\n",
            "2/2 [==============================] - 0s 7ms/step - loss: 8.8497 - mae: 8.8497\n",
            "Epoch 243/500\n",
            "2/2 [==============================] - 0s 7ms/step - loss: 18.8408 - mae: 18.8408\n",
            "Epoch 244/500\n",
            "2/2 [==============================] - 0s 7ms/step - loss: 14.0711 - mae: 14.0711\n",
            "Epoch 245/500\n",
            "2/2 [==============================] - 0s 7ms/step - loss: 14.6970 - mae: 14.6970\n",
            "Epoch 246/500\n",
            "2/2 [==============================] - 0s 7ms/step - loss: 15.8295 - mae: 15.8295\n",
            "Epoch 247/500\n",
            "2/2 [==============================] - 0s 7ms/step - loss: 17.7134 - mae: 17.7134\n",
            "Epoch 248/500\n",
            "2/2 [==============================] - 0s 6ms/step - loss: 13.2693 - mae: 13.2693\n",
            "Epoch 249/500\n",
            "2/2 [==============================] - 0s 6ms/step - loss: 14.5375 - mae: 14.5375\n",
            "Epoch 250/500\n",
            "2/2 [==============================] - 0s 7ms/step - loss: 23.2711 - mae: 23.2711\n",
            "Epoch 251/500\n",
            "2/2 [==============================] - 0s 6ms/step - loss: 9.3263 - mae: 9.3263\n",
            "Epoch 252/500\n",
            "2/2 [==============================] - 0s 6ms/step - loss: 36.5207 - mae: 36.5207\n",
            "Epoch 253/500\n",
            "2/2 [==============================] - 0s 6ms/step - loss: 21.7311 - mae: 21.7311\n",
            "Epoch 254/500\n",
            "2/2 [==============================] - 0s 6ms/step - loss: 7.3127 - mae: 7.3127\n",
            "Epoch 255/500\n",
            "2/2 [==============================] - 0s 6ms/step - loss: 24.5926 - mae: 24.5926\n",
            "Epoch 256/500\n",
            "2/2 [==============================] - 0s 6ms/step - loss: 12.3921 - mae: 12.3921\n",
            "Epoch 257/500\n",
            "2/2 [==============================] - 0s 6ms/step - loss: 10.5651 - mae: 10.5651\n",
            "Epoch 258/500\n",
            "2/2 [==============================] - 0s 6ms/step - loss: 14.1517 - mae: 14.1517\n",
            "Epoch 259/500\n",
            "2/2 [==============================] - 0s 6ms/step - loss: 11.2451 - mae: 11.2451\n",
            "Epoch 260/500\n",
            "2/2 [==============================] - 0s 7ms/step - loss: 31.4863 - mae: 31.4863\n",
            "Epoch 261/500\n",
            "2/2 [==============================] - 0s 6ms/step - loss: 11.1570 - mae: 11.1570\n",
            "Epoch 262/500\n",
            "2/2 [==============================] - 0s 6ms/step - loss: 10.0157 - mae: 10.0157\n",
            "Epoch 263/500\n",
            "2/2 [==============================] - 0s 7ms/step - loss: 8.9420 - mae: 8.9420\n",
            "Epoch 264/500\n",
            "2/2 [==============================] - 0s 6ms/step - loss: 21.3915 - mae: 21.3915\n",
            "Epoch 265/500\n",
            "2/2 [==============================] - 0s 6ms/step - loss: 11.4896 - mae: 11.4896\n",
            "Epoch 266/500\n",
            "2/2 [==============================] - 0s 6ms/step - loss: 13.3337 - mae: 13.3337\n",
            "Epoch 267/500\n",
            "2/2 [==============================] - 0s 6ms/step - loss: 11.1082 - mae: 11.1082\n",
            "Epoch 268/500\n",
            "2/2 [==============================] - 0s 6ms/step - loss: 19.2109 - mae: 19.2109\n",
            "Epoch 269/500\n",
            "2/2 [==============================] - 0s 6ms/step - loss: 40.5444 - mae: 40.5444\n",
            "Epoch 270/500\n",
            "2/2 [==============================] - 0s 8ms/step - loss: 12.8470 - mae: 12.8470\n",
            "Epoch 271/500\n",
            "2/2 [==============================] - 0s 7ms/step - loss: 14.7827 - mae: 14.7827\n",
            "Epoch 272/500\n",
            "2/2 [==============================] - 0s 7ms/step - loss: 28.5408 - mae: 28.5408\n",
            "Epoch 273/500\n",
            "2/2 [==============================] - 0s 7ms/step - loss: 7.3478 - mae: 7.3478\n",
            "Epoch 274/500\n",
            "2/2 [==============================] - 0s 6ms/step - loss: 6.3660 - mae: 6.3660\n",
            "Epoch 275/500\n",
            "2/2 [==============================] - 0s 7ms/step - loss: 36.7472 - mae: 36.7472\n",
            "Epoch 276/500\n",
            "2/2 [==============================] - 0s 7ms/step - loss: 8.2853 - mae: 8.2853\n",
            "Epoch 277/500\n",
            "2/2 [==============================] - 0s 10ms/step - loss: 27.5916 - mae: 27.5916\n",
            "Epoch 278/500\n",
            "2/2 [==============================] - 0s 7ms/step - loss: 10.7086 - mae: 10.7086\n",
            "Epoch 279/500\n",
            "2/2 [==============================] - 0s 7ms/step - loss: 16.1334 - mae: 16.1334\n",
            "Epoch 280/500\n",
            "2/2 [==============================] - 0s 7ms/step - loss: 21.2836 - mae: 21.2836\n",
            "Epoch 281/500\n",
            "2/2 [==============================] - 0s 7ms/step - loss: 23.6787 - mae: 23.6787\n",
            "Epoch 282/500\n",
            "2/2 [==============================] - 0s 7ms/step - loss: 8.2395 - mae: 8.2395\n",
            "Epoch 283/500\n",
            "2/2 [==============================] - 0s 7ms/step - loss: 8.4346 - mae: 8.4346\n",
            "Epoch 284/500\n",
            "2/2 [==============================] - 0s 6ms/step - loss: 26.5128 - mae: 26.5128\n",
            "Epoch 285/500\n",
            "2/2 [==============================] - 0s 7ms/step - loss: 14.1471 - mae: 14.1471\n",
            "Epoch 286/500\n",
            "2/2 [==============================] - 0s 7ms/step - loss: 6.0155 - mae: 6.0155\n",
            "Epoch 287/500\n",
            "2/2 [==============================] - 0s 7ms/step - loss: 19.0017 - mae: 19.0017\n",
            "Epoch 288/500\n",
            "2/2 [==============================] - 0s 6ms/step - loss: 32.8666 - mae: 32.8666\n",
            "Epoch 289/500\n",
            "2/2 [==============================] - 0s 7ms/step - loss: 8.3849 - mae: 8.3849\n",
            "Epoch 290/500\n",
            "2/2 [==============================] - 0s 7ms/step - loss: 16.8775 - mae: 16.8775\n",
            "Epoch 291/500\n",
            "2/2 [==============================] - 0s 7ms/step - loss: 17.2489 - mae: 17.2489\n",
            "Epoch 292/500\n",
            "2/2 [==============================] - 0s 14ms/step - loss: 10.8854 - mae: 10.8854\n",
            "Epoch 293/500\n",
            "2/2 [==============================] - 0s 9ms/step - loss: 14.5749 - mae: 14.5749\n",
            "Epoch 294/500\n",
            "2/2 [==============================] - 0s 11ms/step - loss: 21.8092 - mae: 21.8092\n",
            "Epoch 295/500\n",
            "2/2 [==============================] - 0s 10ms/step - loss: 19.9678 - mae: 19.9678\n",
            "Epoch 296/500\n",
            "2/2 [==============================] - 0s 7ms/step - loss: 7.0069 - mae: 7.0069\n",
            "Epoch 297/500\n",
            "2/2 [==============================] - 0s 7ms/step - loss: 9.0131 - mae: 9.0131\n",
            "Epoch 298/500\n",
            "2/2 [==============================] - 0s 7ms/step - loss: 24.2624 - mae: 24.2624\n",
            "Epoch 299/500\n",
            "2/2 [==============================] - 0s 6ms/step - loss: 17.8655 - mae: 17.8655\n",
            "Epoch 300/500\n",
            "2/2 [==============================] - 0s 7ms/step - loss: 7.0217 - mae: 7.0217\n",
            "Epoch 301/500\n",
            "2/2 [==============================] - 0s 7ms/step - loss: 25.3446 - mae: 25.3446\n",
            "Epoch 302/500\n",
            "2/2 [==============================] - 0s 6ms/step - loss: 9.4600 - mae: 9.4600\n",
            "Epoch 303/500\n",
            "2/2 [==============================] - 0s 7ms/step - loss: 14.4293 - mae: 14.4293\n",
            "Epoch 304/500\n",
            "2/2 [==============================] - 0s 7ms/step - loss: 10.8413 - mae: 10.8413\n",
            "Epoch 305/500\n",
            "2/2 [==============================] - 0s 7ms/step - loss: 12.6603 - mae: 12.6603\n",
            "Epoch 306/500\n",
            "2/2 [==============================] - 0s 7ms/step - loss: 8.2839 - mae: 8.2839\n",
            "Epoch 307/500\n",
            "2/2 [==============================] - 0s 6ms/step - loss: 13.1022 - mae: 13.1022\n",
            "Epoch 308/500\n",
            "2/2 [==============================] - 0s 7ms/step - loss: 8.1471 - mae: 8.1471\n",
            "Epoch 309/500\n",
            "2/2 [==============================] - 0s 6ms/step - loss: 11.7515 - mae: 11.7515\n",
            "Epoch 310/500\n",
            "2/2 [==============================] - 0s 7ms/step - loss: 6.3532 - mae: 6.3532\n",
            "Epoch 311/500\n",
            "2/2 [==============================] - 0s 7ms/step - loss: 4.9867 - mae: 4.9867\n",
            "Epoch 312/500\n",
            "2/2 [==============================] - 0s 7ms/step - loss: 29.2827 - mae: 29.2827\n",
            "Epoch 313/500\n",
            "2/2 [==============================] - 0s 6ms/step - loss: 8.9665 - mae: 8.9665\n",
            "Epoch 314/500\n",
            "2/2 [==============================] - 0s 7ms/step - loss: 6.5056 - mae: 6.5056\n",
            "Epoch 315/500\n",
            "2/2 [==============================] - 0s 7ms/step - loss: 23.8972 - mae: 23.8972\n",
            "Epoch 316/500\n",
            "2/2 [==============================] - 0s 7ms/step - loss: 16.2709 - mae: 16.2709\n",
            "Epoch 317/500\n",
            "2/2 [==============================] - 0s 6ms/step - loss: 20.9121 - mae: 20.9121\n",
            "Epoch 318/500\n",
            "2/2 [==============================] - 0s 7ms/step - loss: 7.8805 - mae: 7.8805\n",
            "Epoch 319/500\n",
            "2/2 [==============================] - 0s 7ms/step - loss: 17.8358 - mae: 17.8358\n",
            "Epoch 320/500\n",
            "2/2 [==============================] - 0s 7ms/step - loss: 10.1455 - mae: 10.1455\n",
            "Epoch 321/500\n",
            "2/2 [==============================] - 0s 7ms/step - loss: 8.2574 - mae: 8.2574\n",
            "Epoch 322/500\n",
            "2/2 [==============================] - 0s 7ms/step - loss: 4.2630 - mae: 4.2630\n",
            "Epoch 323/500\n",
            "2/2 [==============================] - 0s 7ms/step - loss: 14.6616 - mae: 14.6616\n",
            "Epoch 324/500\n",
            "2/2 [==============================] - 0s 7ms/step - loss: 18.8506 - mae: 18.8506\n",
            "Epoch 325/500\n",
            "2/2 [==============================] - 0s 7ms/step - loss: 17.6061 - mae: 17.6061\n",
            "Epoch 326/500\n",
            "2/2 [==============================] - 0s 6ms/step - loss: 24.0167 - mae: 24.0167\n",
            "Epoch 327/500\n",
            "2/2 [==============================] - 0s 7ms/step - loss: 10.3367 - mae: 10.3367\n",
            "Epoch 328/500\n",
            "2/2 [==============================] - 0s 7ms/step - loss: 13.1101 - mae: 13.1101\n",
            "Epoch 329/500\n",
            "2/2 [==============================] - 0s 7ms/step - loss: 15.9687 - mae: 15.9687\n",
            "Epoch 330/500\n",
            "2/2 [==============================] - 0s 8ms/step - loss: 14.3151 - mae: 14.3151\n",
            "Epoch 331/500\n",
            "2/2 [==============================] - 0s 6ms/step - loss: 25.7434 - mae: 25.7434\n",
            "Epoch 332/500\n",
            "2/2 [==============================] - 0s 6ms/step - loss: 17.2118 - mae: 17.2118\n",
            "Epoch 333/500\n",
            "2/2 [==============================] - 0s 7ms/step - loss: 8.4890 - mae: 8.4890\n",
            "Epoch 334/500\n",
            "2/2 [==============================] - 0s 7ms/step - loss: 13.4284 - mae: 13.4284\n",
            "Epoch 335/500\n",
            "2/2 [==============================] - 0s 7ms/step - loss: 13.0597 - mae: 13.0597\n",
            "Epoch 336/500\n",
            "2/2 [==============================] - 0s 7ms/step - loss: 32.5527 - mae: 32.5527\n",
            "Epoch 337/500\n",
            "2/2 [==============================] - 0s 9ms/step - loss: 11.0826 - mae: 11.0826\n",
            "Epoch 338/500\n",
            "2/2 [==============================] - 0s 8ms/step - loss: 20.0472 - mae: 20.0472\n",
            "Epoch 339/500\n",
            "2/2 [==============================] - 0s 7ms/step - loss: 34.0509 - mae: 34.0509\n",
            "Epoch 340/500\n",
            "2/2 [==============================] - 0s 7ms/step - loss: 8.6294 - mae: 8.6294\n",
            "Epoch 341/500\n",
            "2/2 [==============================] - 0s 7ms/step - loss: 21.7581 - mae: 21.7581\n",
            "Epoch 342/500\n",
            "2/2 [==============================] - 0s 7ms/step - loss: 13.9960 - mae: 13.9960\n",
            "Epoch 343/500\n",
            "2/2 [==============================] - 0s 6ms/step - loss: 11.5201 - mae: 11.5201\n",
            "Epoch 344/500\n",
            "2/2 [==============================] - 0s 7ms/step - loss: 10.6499 - mae: 10.6499\n",
            "Epoch 345/500\n",
            "2/2 [==============================] - 0s 6ms/step - loss: 30.8092 - mae: 30.8092\n",
            "Epoch 346/500\n",
            "2/2 [==============================] - 0s 6ms/step - loss: 10.5712 - mae: 10.5712\n",
            "Epoch 347/500\n",
            "2/2 [==============================] - 0s 6ms/step - loss: 25.4183 - mae: 25.4183\n",
            "Epoch 348/500\n",
            "2/2 [==============================] - 0s 7ms/step - loss: 13.6207 - mae: 13.6207\n",
            "Epoch 349/500\n",
            "2/2 [==============================] - 0s 7ms/step - loss: 12.9021 - mae: 12.9021\n",
            "Epoch 350/500\n",
            "2/2 [==============================] - 0s 8ms/step - loss: 15.3465 - mae: 15.3465\n",
            "Epoch 351/500\n",
            "2/2 [==============================] - 0s 7ms/step - loss: 32.7961 - mae: 32.7961\n",
            "Epoch 352/500\n",
            "2/2 [==============================] - 0s 8ms/step - loss: 13.8396 - mae: 13.8396\n",
            "Epoch 353/500\n",
            "2/2 [==============================] - 0s 9ms/step - loss: 17.8118 - mae: 17.8118\n",
            "Epoch 354/500\n",
            "2/2 [==============================] - 0s 7ms/step - loss: 11.3585 - mae: 11.3585\n",
            "Epoch 355/500\n",
            "2/2 [==============================] - 0s 10ms/step - loss: 26.8107 - mae: 26.8107\n",
            "Epoch 356/500\n",
            "2/2 [==============================] - 0s 9ms/step - loss: 9.6830 - mae: 9.6830\n",
            "Epoch 357/500\n",
            "2/2 [==============================] - 0s 9ms/step - loss: 17.0681 - mae: 17.0681\n",
            "Epoch 358/500\n",
            "2/2 [==============================] - 0s 7ms/step - loss: 15.7276 - mae: 15.7276\n",
            "Epoch 359/500\n",
            "2/2 [==============================] - 0s 9ms/step - loss: 11.7019 - mae: 11.7019\n",
            "Epoch 360/500\n",
            "2/2 [==============================] - 0s 9ms/step - loss: 20.2639 - mae: 20.2639\n",
            "Epoch 361/500\n",
            "2/2 [==============================] - 0s 7ms/step - loss: 11.0159 - mae: 11.0159\n",
            "Epoch 362/500\n",
            "2/2 [==============================] - 0s 12ms/step - loss: 6.8052 - mae: 6.8052\n",
            "Epoch 363/500\n",
            "2/2 [==============================] - 0s 11ms/step - loss: 24.0175 - mae: 24.0175\n",
            "Epoch 364/500\n",
            "2/2 [==============================] - 0s 8ms/step - loss: 29.7860 - mae: 29.7860\n",
            "Epoch 365/500\n",
            "2/2 [==============================] - 0s 9ms/step - loss: 8.3452 - mae: 8.3452\n",
            "Epoch 366/500\n",
            "2/2 [==============================] - 0s 10ms/step - loss: 6.0778 - mae: 6.0778\n",
            "Epoch 367/500\n",
            "2/2 [==============================] - 0s 8ms/step - loss: 34.9656 - mae: 34.9656\n",
            "Epoch 368/500\n",
            "2/2 [==============================] - 0s 8ms/step - loss: 7.4026 - mae: 7.4026\n",
            "Epoch 369/500\n",
            "2/2 [==============================] - 0s 8ms/step - loss: 9.2333 - mae: 9.2333\n",
            "Epoch 370/500\n",
            "2/2 [==============================] - 0s 8ms/step - loss: 10.9502 - mae: 10.9502\n",
            "Epoch 371/500\n",
            "2/2 [==============================] - 0s 8ms/step - loss: 9.0128 - mae: 9.0128\n",
            "Epoch 372/500\n",
            "2/2 [==============================] - 0s 8ms/step - loss: 7.6811 - mae: 7.6811\n",
            "Epoch 373/500\n",
            "2/2 [==============================] - 0s 8ms/step - loss: 25.0273 - mae: 25.0273\n",
            "Epoch 374/500\n",
            "2/2 [==============================] - 0s 6ms/step - loss: 13.2887 - mae: 13.2887\n",
            "Epoch 375/500\n",
            "2/2 [==============================] - 0s 8ms/step - loss: 11.8220 - mae: 11.8220\n",
            "Epoch 376/500\n",
            "2/2 [==============================] - 0s 13ms/step - loss: 14.1033 - mae: 14.1033\n",
            "Epoch 377/500\n",
            "2/2 [==============================] - 0s 7ms/step - loss: 15.6871 - mae: 15.6871\n",
            "Epoch 378/500\n",
            "2/2 [==============================] - 0s 6ms/step - loss: 16.9943 - mae: 16.9943\n",
            "Epoch 379/500\n",
            "2/2 [==============================] - 0s 6ms/step - loss: 19.4820 - mae: 19.4820\n",
            "Epoch 380/500\n",
            "2/2 [==============================] - 0s 11ms/step - loss: 15.8443 - mae: 15.8443\n",
            "Epoch 381/500\n",
            "2/2 [==============================] - 0s 8ms/step - loss: 11.4254 - mae: 11.4254\n",
            "Epoch 382/500\n",
            "2/2 [==============================] - 0s 7ms/step - loss: 16.3092 - mae: 16.3092\n",
            "Epoch 383/500\n",
            "2/2 [==============================] - 0s 6ms/step - loss: 22.0512 - mae: 22.0512\n",
            "Epoch 384/500\n",
            "2/2 [==============================] - 0s 8ms/step - loss: 7.7872 - mae: 7.7872\n",
            "Epoch 385/500\n",
            "2/2 [==============================] - 0s 9ms/step - loss: 10.5784 - mae: 10.5784\n",
            "Epoch 386/500\n",
            "2/2 [==============================] - 0s 10ms/step - loss: 19.0304 - mae: 19.0304\n",
            "Epoch 387/500\n",
            "2/2 [==============================] - 0s 6ms/step - loss: 15.3910 - mae: 15.3910\n",
            "Epoch 388/500\n",
            "2/2 [==============================] - 0s 6ms/step - loss: 5.8824 - mae: 5.8824\n",
            "Epoch 389/500\n",
            "2/2 [==============================] - 0s 7ms/step - loss: 18.0420 - mae: 18.0420\n",
            "Epoch 390/500\n",
            "2/2 [==============================] - 0s 10ms/step - loss: 24.7938 - mae: 24.7938\n",
            "Epoch 391/500\n",
            "2/2 [==============================] - 0s 6ms/step - loss: 16.4420 - mae: 16.4420\n",
            "Epoch 392/500\n",
            "2/2 [==============================] - 0s 6ms/step - loss: 8.3765 - mae: 8.3765\n",
            "Epoch 393/500\n",
            "2/2 [==============================] - 0s 6ms/step - loss: 18.1550 - mae: 18.1550\n",
            "Epoch 394/500\n",
            "2/2 [==============================] - 0s 6ms/step - loss: 14.2002 - mae: 14.2002\n",
            "Epoch 395/500\n",
            "2/2 [==============================] - 0s 6ms/step - loss: 28.6868 - mae: 28.6868\n",
            "Epoch 396/500\n",
            "2/2 [==============================] - 0s 10ms/step - loss: 8.1555 - mae: 8.1555\n",
            "Epoch 397/500\n",
            "2/2 [==============================] - 0s 6ms/step - loss: 10.4766 - mae: 10.4766\n",
            "Epoch 398/500\n",
            "2/2 [==============================] - 0s 8ms/step - loss: 7.3427 - mae: 7.3427\n",
            "Epoch 399/500\n",
            "2/2 [==============================] - 0s 9ms/step - loss: 15.5867 - mae: 15.5867\n",
            "Epoch 400/500\n",
            "2/2 [==============================] - 0s 7ms/step - loss: 6.6946 - mae: 6.6946\n",
            "Epoch 401/500\n",
            "2/2 [==============================] - 0s 7ms/step - loss: 7.9885 - mae: 7.9885\n",
            "Epoch 402/500\n",
            "2/2 [==============================] - 0s 9ms/step - loss: 16.4327 - mae: 16.4327\n",
            "Epoch 403/500\n",
            "2/2 [==============================] - 0s 9ms/step - loss: 12.3403 - mae: 12.3403\n",
            "Epoch 404/500\n",
            "2/2 [==============================] - 0s 8ms/step - loss: 22.9249 - mae: 22.9249\n",
            "Epoch 405/500\n",
            "2/2 [==============================] - 0s 9ms/step - loss: 18.1166 - mae: 18.1166\n",
            "Epoch 406/500\n",
            "2/2 [==============================] - 0s 8ms/step - loss: 7.0338 - mae: 7.0338\n",
            "Epoch 407/500\n",
            "2/2 [==============================] - 0s 9ms/step - loss: 12.6529 - mae: 12.6529\n",
            "Epoch 408/500\n",
            "2/2 [==============================] - 0s 9ms/step - loss: 5.6430 - mae: 5.6430\n",
            "Epoch 409/500\n",
            "2/2 [==============================] - 0s 6ms/step - loss: 31.2743 - mae: 31.2743\n",
            "Epoch 410/500\n",
            "2/2 [==============================] - 0s 8ms/step - loss: 9.2296 - mae: 9.2296\n",
            "Epoch 411/500\n",
            "2/2 [==============================] - 0s 10ms/step - loss: 14.8556 - mae: 14.8556\n",
            "Epoch 412/500\n",
            "2/2 [==============================] - 0s 8ms/step - loss: 21.7298 - mae: 21.7298\n",
            "Epoch 413/500\n",
            "2/2 [==============================] - 0s 7ms/step - loss: 12.6233 - mae: 12.6233\n",
            "Epoch 414/500\n",
            "2/2 [==============================] - 0s 7ms/step - loss: 6.0302 - mae: 6.0302\n",
            "Epoch 415/500\n",
            "2/2 [==============================] - 0s 10ms/step - loss: 13.2224 - mae: 13.2224\n",
            "Epoch 416/500\n",
            "2/2 [==============================] - 0s 6ms/step - loss: 27.4296 - mae: 27.4296\n",
            "Epoch 417/500\n",
            "2/2 [==============================] - 0s 8ms/step - loss: 10.6293 - mae: 10.6293\n",
            "Epoch 418/500\n",
            "2/2 [==============================] - 0s 7ms/step - loss: 12.8137 - mae: 12.8137\n",
            "Epoch 419/500\n",
            "2/2 [==============================] - 0s 7ms/step - loss: 15.8647 - mae: 15.8647\n",
            "Epoch 420/500\n",
            "2/2 [==============================] - 0s 11ms/step - loss: 24.7394 - mae: 24.7394\n",
            "Epoch 421/500\n",
            "2/2 [==============================] - 0s 10ms/step - loss: 17.5063 - mae: 17.5063\n",
            "Epoch 422/500\n",
            "2/2 [==============================] - 0s 8ms/step - loss: 8.6916 - mae: 8.6916\n",
            "Epoch 423/500\n",
            "2/2 [==============================] - 0s 10ms/step - loss: 24.9254 - mae: 24.9254\n",
            "Epoch 424/500\n",
            "2/2 [==============================] - 0s 9ms/step - loss: 16.2246 - mae: 16.2246\n",
            "Epoch 425/500\n",
            "2/2 [==============================] - 0s 7ms/step - loss: 7.1110 - mae: 7.1110\n",
            "Epoch 426/500\n",
            "2/2 [==============================] - 0s 7ms/step - loss: 20.3294 - mae: 20.3294\n",
            "Epoch 427/500\n",
            "2/2 [==============================] - 0s 7ms/step - loss: 6.2831 - mae: 6.2831\n",
            "Epoch 428/500\n",
            "2/2 [==============================] - 0s 9ms/step - loss: 13.0128 - mae: 13.0128\n",
            "Epoch 429/500\n",
            "2/2 [==============================] - 0s 7ms/step - loss: 10.7995 - mae: 10.7995\n",
            "Epoch 430/500\n",
            "2/2 [==============================] - 0s 7ms/step - loss: 11.6589 - mae: 11.6589\n",
            "Epoch 431/500\n",
            "2/2 [==============================] - 0s 7ms/step - loss: 7.8568 - mae: 7.8568\n",
            "Epoch 432/500\n",
            "2/2 [==============================] - 0s 7ms/step - loss: 22.0478 - mae: 22.0478\n",
            "Epoch 433/500\n",
            "2/2 [==============================] - 0s 7ms/step - loss: 6.9716 - mae: 6.9716\n",
            "Epoch 434/500\n",
            "2/2 [==============================] - 0s 8ms/step - loss: 32.0237 - mae: 32.0237\n",
            "Epoch 435/500\n",
            "2/2 [==============================] - 0s 8ms/step - loss: 13.0451 - mae: 13.0451\n",
            "Epoch 436/500\n",
            "2/2 [==============================] - 0s 7ms/step - loss: 28.2031 - mae: 28.2031\n",
            "Epoch 437/500\n",
            "2/2 [==============================] - 0s 9ms/step - loss: 3.8359 - mae: 3.8359\n",
            "Epoch 438/500\n",
            "2/2 [==============================] - 0s 9ms/step - loss: 15.0937 - mae: 15.0937\n",
            "Epoch 439/500\n",
            "2/2 [==============================] - 0s 9ms/step - loss: 45.6674 - mae: 45.6674\n",
            "Epoch 440/500\n",
            "2/2 [==============================] - 0s 8ms/step - loss: 25.9427 - mae: 25.9427\n",
            "Epoch 441/500\n",
            "2/2 [==============================] - 0s 7ms/step - loss: 5.8779 - mae: 5.8779\n",
            "Epoch 442/500\n",
            "2/2 [==============================] - 0s 8ms/step - loss: 23.1353 - mae: 23.1353\n",
            "Epoch 443/500\n",
            "2/2 [==============================] - 0s 8ms/step - loss: 6.8749 - mae: 6.8749\n",
            "Epoch 444/500\n",
            "2/2 [==============================] - 0s 8ms/step - loss: 20.7429 - mae: 20.7429\n",
            "Epoch 445/500\n",
            "2/2 [==============================] - 0s 8ms/step - loss: 13.7814 - mae: 13.7814\n",
            "Epoch 446/500\n",
            "2/2 [==============================] - 0s 8ms/step - loss: 16.3513 - mae: 16.3513\n",
            "Epoch 447/500\n",
            "2/2 [==============================] - 0s 8ms/step - loss: 8.0144 - mae: 8.0144\n",
            "Epoch 448/500\n",
            "2/2 [==============================] - 0s 8ms/step - loss: 13.2566 - mae: 13.2566\n",
            "Epoch 449/500\n",
            "2/2 [==============================] - 0s 8ms/step - loss: 16.0041 - mae: 16.0041\n",
            "Epoch 450/500\n",
            "2/2 [==============================] - 0s 8ms/step - loss: 16.9697 - mae: 16.9697\n",
            "Epoch 451/500\n",
            "2/2 [==============================] - 0s 8ms/step - loss: 14.3626 - mae: 14.3626\n",
            "Epoch 452/500\n",
            "2/2 [==============================] - 0s 8ms/step - loss: 30.7918 - mae: 30.7918\n",
            "Epoch 453/500\n",
            "2/2 [==============================] - 0s 7ms/step - loss: 9.0962 - mae: 9.0962\n",
            "Epoch 454/500\n",
            "2/2 [==============================] - 0s 7ms/step - loss: 27.1456 - mae: 27.1456\n",
            "Epoch 455/500\n",
            "2/2 [==============================] - 0s 7ms/step - loss: 11.5304 - mae: 11.5304\n",
            "Epoch 456/500\n",
            "2/2 [==============================] - 0s 8ms/step - loss: 15.6041 - mae: 15.6041\n",
            "Epoch 457/500\n",
            "2/2 [==============================] - 0s 7ms/step - loss: 19.2243 - mae: 19.2243\n",
            "Epoch 458/500\n",
            "2/2 [==============================] - 0s 7ms/step - loss: 23.1403 - mae: 23.1403\n",
            "Epoch 459/500\n",
            "2/2 [==============================] - 0s 7ms/step - loss: 16.5818 - mae: 16.5818\n",
            "Epoch 460/500\n",
            "2/2 [==============================] - 0s 7ms/step - loss: 7.4053 - mae: 7.4053\n",
            "Epoch 461/500\n",
            "2/2 [==============================] - 0s 7ms/step - loss: 15.5765 - mae: 15.5765\n",
            "Epoch 462/500\n",
            "2/2 [==============================] - 0s 7ms/step - loss: 15.2497 - mae: 15.2497\n",
            "Epoch 463/500\n",
            "2/2 [==============================] - 0s 8ms/step - loss: 16.9164 - mae: 16.9164\n",
            "Epoch 464/500\n",
            "2/2 [==============================] - 0s 7ms/step - loss: 11.2886 - mae: 11.2886\n",
            "Epoch 465/500\n",
            "2/2 [==============================] - 0s 7ms/step - loss: 21.6813 - mae: 21.6813\n",
            "Epoch 466/500\n",
            "2/2 [==============================] - 0s 8ms/step - loss: 24.6889 - mae: 24.6889\n",
            "Epoch 467/500\n",
            "2/2 [==============================] - 0s 9ms/step - loss: 14.5737 - mae: 14.5737\n",
            "Epoch 468/500\n",
            "2/2 [==============================] - 0s 8ms/step - loss: 10.8323 - mae: 10.8323\n",
            "Epoch 469/500\n",
            "2/2 [==============================] - 0s 7ms/step - loss: 27.1137 - mae: 27.1137\n",
            "Epoch 470/500\n",
            "2/2 [==============================] - 0s 7ms/step - loss: 13.1675 - mae: 13.1675\n",
            "Epoch 471/500\n",
            "2/2 [==============================] - 0s 8ms/step - loss: 10.9734 - mae: 10.9734\n",
            "Epoch 472/500\n",
            "2/2 [==============================] - 0s 7ms/step - loss: 15.2579 - mae: 15.2579\n",
            "Epoch 473/500\n",
            "2/2 [==============================] - 0s 8ms/step - loss: 18.9994 - mae: 18.9994\n",
            "Epoch 474/500\n",
            "2/2 [==============================] - 0s 9ms/step - loss: 39.8877 - mae: 39.8877\n",
            "Epoch 475/500\n",
            "2/2 [==============================] - 0s 9ms/step - loss: 16.4461 - mae: 16.4461\n",
            "Epoch 476/500\n",
            "2/2 [==============================] - 0s 8ms/step - loss: 13.3971 - mae: 13.3971\n",
            "Epoch 477/500\n",
            "2/2 [==============================] - 0s 9ms/step - loss: 29.6593 - mae: 29.6593\n",
            "Epoch 478/500\n",
            "2/2 [==============================] - 0s 8ms/step - loss: 3.0805 - mae: 3.0805\n",
            "Epoch 479/500\n",
            "2/2 [==============================] - 0s 9ms/step - loss: 6.0478 - mae: 6.0478\n",
            "Epoch 480/500\n",
            "2/2 [==============================] - 0s 9ms/step - loss: 19.6589 - mae: 19.6589\n",
            "Epoch 481/500\n",
            "2/2 [==============================] - 0s 6ms/step - loss: 10.9002 - mae: 10.9002\n",
            "Epoch 482/500\n",
            "2/2 [==============================] - 0s 8ms/step - loss: 18.3803 - mae: 18.3803\n",
            "Epoch 483/500\n",
            "2/2 [==============================] - 0s 6ms/step - loss: 19.9565 - mae: 19.9565\n",
            "Epoch 484/500\n",
            "2/2 [==============================] - 0s 6ms/step - loss: 18.1308 - mae: 18.1308\n",
            "Epoch 485/500\n",
            "2/2 [==============================] - 0s 6ms/step - loss: 7.8799 - mae: 7.8799\n",
            "Epoch 486/500\n",
            "2/2 [==============================] - 0s 9ms/step - loss: 19.4196 - mae: 19.4196\n",
            "Epoch 487/500\n",
            "2/2 [==============================] - 0s 14ms/step - loss: 12.4941 - mae: 12.4941\n",
            "Epoch 488/500\n",
            "2/2 [==============================] - 0s 7ms/step - loss: 10.8563 - mae: 10.8563\n",
            "Epoch 489/500\n",
            "2/2 [==============================] - 0s 8ms/step - loss: 15.9983 - mae: 15.9983\n",
            "Epoch 490/500\n",
            "2/2 [==============================] - 0s 7ms/step - loss: 14.2392 - mae: 14.2392\n",
            "Epoch 491/500\n",
            "2/2 [==============================] - 0s 8ms/step - loss: 26.2883 - mae: 26.2883\n",
            "Epoch 492/500\n",
            "2/2 [==============================] - 0s 8ms/step - loss: 13.9606 - mae: 13.9606\n",
            "Epoch 493/500\n",
            "2/2 [==============================] - 0s 8ms/step - loss: 10.2886 - mae: 10.2886\n",
            "Epoch 494/500\n",
            "2/2 [==============================] - 0s 11ms/step - loss: 12.8472 - mae: 12.8472\n",
            "Epoch 495/500\n",
            "2/2 [==============================] - 0s 9ms/step - loss: 13.8408 - mae: 13.8408\n",
            "Epoch 496/500\n",
            "2/2 [==============================] - 0s 6ms/step - loss: 13.0052 - mae: 13.0052\n",
            "Epoch 497/500\n",
            "2/2 [==============================] - 0s 6ms/step - loss: 18.2256 - mae: 18.2256\n",
            "Epoch 498/500\n",
            "2/2 [==============================] - 0s 9ms/step - loss: 22.1838 - mae: 22.1838\n",
            "Epoch 499/500\n",
            "2/2 [==============================] - 0s 9ms/step - loss: 8.0770 - mae: 8.0770\n",
            "Epoch 500/500\n",
            "2/2 [==============================] - 0s 8ms/step - loss: 14.1937 - mae: 14.1937\n"
          ]
        },
        {
          "output_type": "execute_result",
          "data": {
            "text/plain": [
              "<keras.callbacks.History at 0x7f9d2a66ae90>"
            ]
          },
          "metadata": {},
          "execution_count": 83
        }
      ]
    },
    {
      "cell_type": "code",
      "source": [
        "y_preds_3 = model_3.predict(X_test)\n",
        "plot_predictions(predictions=y_preds_3)"
      ],
      "metadata": {
        "colab": {
          "base_uri": "https://localhost:8080/",
          "height": 617
        },
        "id": "nkKAMtPC7bVr",
        "outputId": "901dce73-b589-45ab-e2f4-bfa198b9150f"
      },
      "execution_count": 84,
      "outputs": [
        {
          "output_type": "stream",
          "name": "stdout",
          "text": [
            "1/1 [==============================] - 0s 232ms/step\n"
          ]
        },
        {
          "output_type": "display_data",
          "data": {
            "text/plain": [
              "<Figure size 1000x700 with 1 Axes>"
            ],
            "image/png": "[encoded data removed]"
          },
          "metadata": {}
        }
      ]
    },
    {
      "cell_type": "code",
      "source": [
        "mae_3 = mae(y_test, y_preds_3.squeeze()).numpy()\n",
        "mse_3 = mse(y_test, y_preds_3.squeeze()).numpy()\n",
        "mae_3, mse_3"
      ],
      "metadata": {
        "colab": {
          "base_uri": "https://localhost:8080/"
        },
        "id": "EUSH3DUr7i5R",
        "outputId": "9248d8d3-b762-47d9-aac4-890664c79019"
      },
      "execution_count": 85,
      "outputs": [
        {
          "output_type": "execute_result",
          "data": {
            "text/plain": [
              "(67.291466, 4610.95)"
            ]
          },
          "metadata": {},
          "execution_count": 85
        }
      ]
    },
    {
      "cell_type": "markdown",
      "source": [
        "# comparing results"
      ],
      "metadata": {
        "id": "kPBE8dFe7tVg"
      }
    },
    {
      "cell_type": "code",
      "source": [
        "model_results = [[\"model_1\", mae_1, mse_1],\n",
        "                 [\"model_2\", mae_2, mse_2],\n",
        "                 [\"model_3\", mae_3, mae_3]]"
      ],
      "metadata": {
        "id": "QHUjF27F8pyW"
      },
      "execution_count": 90,
      "outputs": []
    },
    {
      "cell_type": "code",
      "source": [
        "import pandas as pd\n",
        "all_results = pd.DataFrame(model_results, columns=[\"model\", \"mae\", \"mse\"])\n",
        "all_results"
      ],
      "metadata": {
        "colab": {
          "base_uri": "https://localhost:8080/",
          "height": 143
        },
        "id": "6jEE6S2W8iQt",
        "outputId": "cee45f61-4edc-488e-a04b-cfdeea51699c"
      },
      "execution_count": 92,
      "outputs": [
        {
          "output_type": "execute_result",
          "data": {
            "text/plain": [
              "     model        mae         mse\n",
              "0  model_1  14.945013  224.189651\n",
              "1  model_2   1.929602    5.569355\n",
              "2  model_3  67.291466   67.291466"
            ],
            "text/html": [
              "\n",
              "  <div id=\"df-3ae7e950-58f7-453c-9389-524635b96f25\">\n",
              "    <div class=\"colab-df-container\">\n",
              "      <div>\n",
              "<style scoped>\n",
              "    .dataframe tbody tr th:only-of-type {\n",
              "        vertical-align: middle;\n",
              "    }\n",
              "\n",
              "    .dataframe tbody tr th {\n",
              "        vertical-align: top;\n",
              "    }\n",
              "\n",
              "    .dataframe thead th {\n",
              "        text-align: right;\n",
              "    }\n",
              "</style>\n",
              "<table border=\"1\" class=\"dataframe\">\n",
              "  <thead>\n",
              "    <tr style=\"text-align: right;\">\n",
              "      <th></th>\n",
              "      <th>model</th>\n",
              "      <th>mae</th>\n",
              "      <th>mse</th>\n",
              "    </tr>\n",
              "  </thead>\n",
              "  <tbody>\n",
              "    <tr>\n",
              "      <th>0</th>\n",
              "      <td>model_1</td>\n",
              "      <td>14.945013</td>\n",
              "      <td>224.189651</td>\n",
              "    </tr>\n",
              "    <tr>\n",
              "      <th>1</th>\n",
              "      <td>model_2</td>\n",
              "      <td>1.929602</td>\n",
              "      <td>5.569355</td>\n",
              "    </tr>\n",
              "    <tr>\n",
              "      <th>2</th>\n",
              "      <td>model_3</td>\n",
              "      <td>67.291466</td>\n",
              "      <td>67.291466</td>\n",
              "    </tr>\n",
              "  </tbody>\n",
              "</table>\n",
              "</div>\n",
              "      <button class=\"colab-df-convert\" onclick=\"convertToInteractive('df-3ae7e950-58f7-453c-9389-524635b96f25')\"\n",
              "              title=\"Convert this dataframe to an interactive table.\"\n",
              "              style=\"display:none;\">\n",
              "        \n",
              "  <svg xmlns=\"http://www.w3.org/2000/svg\" height=\"24px\"viewBox=\"0 0 24 24\"\n",
              "       width=\"24px\">\n",
              "    <path d=\"M0 0h24v24H0V0z\" fill=\"none\"/>\n",
              "    <path d=\"M18.56 5.44l.94 2.06.94-2.06 2.06-.94-2.06-.94-.94-2.06-.94 2.06-2.06.94zm-11 1L8.5 8.5l.94-2.06 2.06-.94-2.06-.94L8.5 2.5l-.94 2.06-2.06.94zm10 10l.94 2.06.94-2.06 2.06-.94-2.06-.94-.94-2.06-.94 2.06-2.06.94z\"/><path d=\"M17.41 7.96l-1.37-1.37c-.4-.4-.92-.59-1.43-.59-.52 0-1.04.2-1.43.59L10.3 9.45l-7.72 7.72c-.78.78-.78 2.05 0 2.83L4 21.41c.39.39.9.59 1.41.59.51 0 1.02-.2 1.41-.59l7.78-7.78 2.81-2.81c.8-.78.8-2.07 0-2.86zM5.41 20L4 18.59l7.72-7.72 1.47 1.35L5.41 20z\"/>\n",
              "  </svg>\n",
              "      </button>\n",
              "      \n",
              "  <style>\n",
              "    .colab-df-container {\n",
              "      display:flex;\n",
              "      flex-wrap:wrap;\n",
              "      gap: 12px;\n",
              "    }\n",
              "\n",
              "    .colab-df-convert {\n",
              "      background-color: #E8F0FE;\n",
              "      border: none;\n",
              "      border-radius: 50%;\n",
              "      cursor: pointer;\n",
              "      display: none;\n",
              "      fill: #1967D2;\n",
              "      height: 32px;\n",
              "      padding: 0 0 0 0;\n",
              "      width: 32px;\n",
              "    }\n",
              "\n",
              "    .colab-df-convert:hover {\n",
              "      background-color: #E2EBFA;\n",
              "      box-shadow: 0px 1px 2px rgba(60, 64, 67, 0.3), 0px 1px 3px 1px rgba(60, 64, 67, 0.15);\n",
              "      fill: #174EA6;\n",
              "    }\n",
              "\n",
              "    [theme=dark] .colab-df-convert {\n",
              "      background-color: #3B4455;\n",
              "      fill: #D2E3FC;\n",
              "    }\n",
              "\n",
              "    [theme=dark] .colab-df-convert:hover {\n",
              "      background-color: #434B5C;\n",
              "      box-shadow: 0px 1px 3px 1px rgba(0, 0, 0, 0.15);\n",
              "      filter: drop-shadow(0px 1px 2px rgba(0, 0, 0, 0.3));\n",
              "      fill: #FFFFFF;\n",
              "    }\n",
              "  </style>\n",
              "\n",
              "      <script>\n",
              "        const buttonEl =\n",
              "          document.querySelector('#df-3ae7e950-58f7-453c-9389-524635b96f25 button.colab-df-convert');\n",
              "        buttonEl.style.display =\n",
              "          google.colab.kernel.accessAllowed ? 'block' : 'none';\n",
              "\n",
              "        async function convertToInteractive(key) {\n",
              "          const element = document.querySelector('#df-3ae7e950-58f7-453c-9389-524635b96f25');\n",
              "          const dataTable =\n",
              "            await google.colab.kernel.invokeFunction('convertToInteractive',\n",
              "                                                     [key], {});\n",
              "          if (!dataTable) return;\n",
              "\n",
              "          const docLinkHtml = 'Like what you see? Visit the ' +\n",
              "            '<a target=\"_blank\" href=https://colab.research.google.com/notebooks/data_table.ipynb>data table notebook</a>'\n",
              "            + ' to learn more about interactive tables.';\n",
              "          element.innerHTML = '';\n",
              "          dataTable['output_type'] = 'display_data';\n",
              "          await google.colab.output.renderOutput(dataTable, element);\n",
              "          const docLink = document.createElement('div');\n",
              "          docLink.innerHTML = docLinkHtml;\n",
              "          element.appendChild(docLink);\n",
              "        }\n",
              "      </script>\n",
              "    </div>\n",
              "  </div>\n",
              "  "
            ]
          },
          "metadata": {},
          "execution_count": 92
        }
      ]
    },
    {
      "cell_type": "markdown",
      "source": [
        "# Saving our model"
      ],
      "metadata": {
        "id": "qt3t9m958mSS"
      }
    },
    {
      "cell_type": "markdown",
      "source": [
        "You can save a TensorFlow/Keras model using model.save().\n",
        "\n",
        "There are two ways to save a model in TensorFlow:\n",
        "\n",
        "The SavedModel format (default).\n",
        "\n",
        "The HDF5 format.\n",
        "\n",
        "\n",
        "---\n",
        "\n",
        "\n",
        "The main difference between the two is the SavedModel is automatically able to save custom objects (such as special layers) without additional modifications when loading the model back in."
      ],
      "metadata": {
        "id": "HJpq25sFBlOb"
      }
    },
    {
      "cell_type": "code",
      "source": [
        "# Save a model using the SavedModel format\n",
        "model_2.save('model2_saved')"
      ],
      "metadata": {
        "colab": {
          "base_uri": "https://localhost:8080/"
        },
        "id": "YKv3-IWw-7td",
        "outputId": "a31f94e1-11b4-4289-8213-99d2a7bc18f8"
      },
      "execution_count": 93,
      "outputs": [
        {
          "output_type": "stream",
          "name": "stderr",
          "text": [
            "WARNING:absl:Found untraced functions such as _update_step_xla while saving (showing 1 of 1). These functions will not be directly callable after loading.\n"
          ]
        }
      ]
    },
    {
      "cell_type": "code",
      "source": [
        "model_2.save('model2_saved_using_HDF5.h5') # h5 is the file extension here "
      ],
      "metadata": {
        "id": "oSYXT_yCB4ey"
      },
      "execution_count": 94,
      "outputs": []
    },
    {
      "cell_type": "markdown",
      "source": [
        "The basic difference between both is that, SaveModel format creates a folder, which has our saved model with .pb extension,\n",
        " \n",
        "whereas, HTF5 saves our model directly as a file whith h5 extension"
      ],
      "metadata": {
        "id": "G8o3dUErCeXs"
      }
    },
    {
      "cell_type": "markdown",
      "source": [
        "# Loading a model\n",
        "\n",
        "both the models can be loaded using same method"
      ],
      "metadata": {
        "id": "W_JKGND8DE3V"
      }
    },
    {
      "cell_type": "code",
      "source": [
        "loaded_saved_model = tf.keras.models.load_model(\"/content/model2_saved\")\n",
        "loaded_saved_model.summary()"
      ],
      "metadata": {
        "colab": {
          "base_uri": "https://localhost:8080/"
        },
        "id": "bg6nuJ4XDLQM",
        "outputId": "3860dec1-51ec-47d9-fe7f-f7fdbbffa6ad"
      },
      "execution_count": 95,
      "outputs": [
        {
          "output_type": "stream",
          "name": "stdout",
          "text": [
            "Model: \"sequential_13\"\n",
            "_________________________________________________________________\n",
            " Layer (type)                Output Shape              Param #   \n",
            "=================================================================\n",
            " dense_16 (Dense)            (None, 100)               200       \n",
            "                                                                 \n",
            " dense_17 (Dense)            (None, 1)                 101       \n",
            "                                                                 \n",
            "=================================================================\n",
            "Total params: 301\n",
            "Trainable params: 301\n",
            "Non-trainable params: 0\n",
            "_________________________________________________________________\n"
          ]
        }
      ]
    },
    {
      "cell_type": "code",
      "source": [
        "model_2_preds = model_2.predict(X_test)\n",
        "saved_model_preds = loaded_saved_model.predict(X_test)\n",
        "mae(y_test, saved_model_preds.squeeze()).numpy() == mae(y_test, model_2_preds.squeeze()).numpy()"
      ],
      "metadata": {
        "colab": {
          "base_uri": "https://localhost:8080/"
        },
        "id": "aCjuFgNJFA0h",
        "outputId": "5bf3eeb5-2b28-4405-8c26-183aa1ddbfca"
      },
      "execution_count": 96,
      "outputs": [
        {
          "output_type": "stream",
          "name": "stdout",
          "text": [
            "1/1 [==============================] - 0s 77ms/step\n",
            "1/1 [==============================] - 0s 106ms/step\n"
          ]
        },
        {
          "output_type": "execute_result",
          "data": {
            "text/plain": [
              "True"
            ]
          },
          "metadata": {},
          "execution_count": 96
        }
      ]
    },
    {
      "cell_type": "markdown",
      "source": [
        "## Working on a larger dataset\n"
      ],
      "metadata": {
        "id": "EyPf4trhFh65"
      }
    },
    {
      "cell_type": "code",
      "source": [
        "# Import required libraries\n",
        "import tensorflow as tf\n",
        "import pandas as pd\n",
        "import matplotlib.pyplot as plt"
      ],
      "metadata": {
        "id": "TVDksNOaHozI"
      },
      "execution_count": 97,
      "outputs": []
    },
    {
      "cell_type": "code",
      "source": [
        "## importing data through kaggle\n",
        "# Read in the insurance dataset\n",
        "insurance = pd.read_csv(\"https://raw.githubusercontent.com/stedy/Machine-Learning-with-R-datasets/master/insurance.csv\")\n",
        "     \n"
      ],
      "metadata": {
        "id": "RlAJcLlVHtw7"
      },
      "execution_count": 98,
      "outputs": []
    },
    {
      "cell_type": "code",
      "source": [
        "insurance"
      ],
      "metadata": {
        "colab": {
          "base_uri": "https://localhost:8080/",
          "height": 423
        },
        "id": "npZBSqozH1VI",
        "outputId": "726e3500-e6ec-4d14-db40-eaec9b8db1bb"
      },
      "execution_count": 99,
      "outputs": [
        {
          "output_type": "execute_result",
          "data": {
            "text/plain": [
              "      age     sex     bmi  children smoker     region      charges\n",
              "0      19  female  27.900         0    yes  southwest  16884.92400\n",
              "1      18    male  33.770         1     no  southeast   1725.55230\n",
              "2      28    male  33.000         3     no  southeast   4449.46200\n",
              "3      33    male  22.705         0     no  northwest  21984.47061\n",
              "4      32    male  28.880         0     no  northwest   3866.85520\n",
              "...   ...     ...     ...       ...    ...        ...          ...\n",
              "1333   50    male  30.970         3     no  northwest  10600.54830\n",
              "1334   18  female  31.920         0     no  northeast   2205.98080\n",
              "1335   18  female  36.850         0     no  southeast   1629.83350\n",
              "1336   21  female  25.800         0     no  southwest   2007.94500\n",
              "1337   61  female  29.070         0    yes  northwest  29141.36030\n",
              "\n",
              "[1338 rows x 7 columns]"
            ],
            "text/html": [
              "\n",
              "  <div id=\"df-460b2ee9-e1a4-4a27-9c6b-f7f952134192\">\n",
              "    <div class=\"colab-df-container\">\n",
              "      <div>\n",
              "<style scoped>\n",
              "    .dataframe tbody tr th:only-of-type {\n",
              "        vertical-align: middle;\n",
              "    }\n",
              "\n",
              "    .dataframe tbody tr th {\n",
              "        vertical-align: top;\n",
              "    }\n",
              "\n",
              "    .dataframe thead th {\n",
              "        text-align: right;\n",
              "    }\n",
              "</style>\n",
              "<table border=\"1\" class=\"dataframe\">\n",
              "  <thead>\n",
              "    <tr style=\"text-align: right;\">\n",
              "      <th></th>\n",
              "      <th>age</th>\n",
              "      <th>sex</th>\n",
              "      <th>bmi</th>\n",
              "      <th>children</th>\n",
              "      <th>smoker</th>\n",
              "      <th>region</th>\n",
              "      <th>charges</th>\n",
              "    </tr>\n",
              "  </thead>\n",
              "  <tbody>\n",
              "    <tr>\n",
              "      <th>0</th>\n",
              "      <td>19</td>\n",
              "      <td>female</td>\n",
              "      <td>27.900</td>\n",
              "      <td>0</td>\n",
              "      <td>yes</td>\n",
              "      <td>southwest</td>\n",
              "      <td>16884.92400</td>\n",
              "    </tr>\n",
              "    <tr>\n",
              "      <th>1</th>\n",
              "      <td>18</td>\n",
              "      <td>male</td>\n",
              "      <td>33.770</td>\n",
              "      <td>1</td>\n",
              "      <td>no</td>\n",
              "      <td>southeast</td>\n",
              "      <td>1725.55230</td>\n",
              "    </tr>\n",
              "    <tr>\n",
              "      <th>2</th>\n",
              "      <td>28</td>\n",
              "      <td>male</td>\n",
              "      <td>33.000</td>\n",
              "      <td>3</td>\n",
              "      <td>no</td>\n",
              "      <td>southeast</td>\n",
              "      <td>4449.46200</td>\n",
              "    </tr>\n",
              "    <tr>\n",
              "      <th>3</th>\n",
              "      <td>33</td>\n",
              "      <td>male</td>\n",
              "      <td>22.705</td>\n",
              "      <td>0</td>\n",
              "      <td>no</td>\n",
              "      <td>northwest</td>\n",
              "      <td>21984.47061</td>\n",
              "    </tr>\n",
              "    <tr>\n",
              "      <th>4</th>\n",
              "      <td>32</td>\n",
              "      <td>male</td>\n",
              "      <td>28.880</td>\n",
              "      <td>0</td>\n",
              "      <td>no</td>\n",
              "      <td>northwest</td>\n",
              "      <td>3866.85520</td>\n",
              "    </tr>\n",
              "    <tr>\n",
              "      <th>...</th>\n",
              "      <td>...</td>\n",
              "      <td>...</td>\n",
              "      <td>...</td>\n",
              "      <td>...</td>\n",
              "      <td>...</td>\n",
              "      <td>...</td>\n",
              "      <td>...</td>\n",
              "    </tr>\n",
              "    <tr>\n",
              "      <th>1333</th>\n",
              "      <td>50</td>\n",
              "      <td>male</td>\n",
              "      <td>30.970</td>\n",
              "      <td>3</td>\n",
              "      <td>no</td>\n",
              "      <td>northwest</td>\n",
              "      <td>10600.54830</td>\n",
              "    </tr>\n",
              "    <tr>\n",
              "      <th>1334</th>\n",
              "      <td>18</td>\n",
              "      <td>female</td>\n",
              "      <td>31.920</td>\n",
              "      <td>0</td>\n",
              "      <td>no</td>\n",
              "      <td>northeast</td>\n",
              "      <td>2205.98080</td>\n",
              "    </tr>\n",
              "    <tr>\n",
              "      <th>1335</th>\n",
              "      <td>18</td>\n",
              "      <td>female</td>\n",
              "      <td>36.850</td>\n",
              "      <td>0</td>\n",
              "      <td>no</td>\n",
              "      <td>southeast</td>\n",
              "      <td>1629.83350</td>\n",
              "    </tr>\n",
              "    <tr>\n",
              "      <th>1336</th>\n",
              "      <td>21</td>\n",
              "      <td>female</td>\n",
              "      <td>25.800</td>\n",
              "      <td>0</td>\n",
              "      <td>no</td>\n",
              "      <td>southwest</td>\n",
              "      <td>2007.94500</td>\n",
              "    </tr>\n",
              "    <tr>\n",
              "      <th>1337</th>\n",
              "      <td>61</td>\n",
              "      <td>female</td>\n",
              "      <td>29.070</td>\n",
              "      <td>0</td>\n",
              "      <td>yes</td>\n",
              "      <td>northwest</td>\n",
              "      <td>29141.36030</td>\n",
              "    </tr>\n",
              "  </tbody>\n",
              "</table>\n",
              "<p>1338 rows × 7 columns</p>\n",
              "</div>\n",
              "      <button class=\"colab-df-convert\" onclick=\"convertToInteractive('df-460b2ee9-e1a4-4a27-9c6b-f7f952134192')\"\n",
              "              title=\"Convert this dataframe to an interactive table.\"\n",
              "              style=\"display:none;\">\n",
              "        \n",
              "  <svg xmlns=\"http://www.w3.org/2000/svg\" height=\"24px\"viewBox=\"0 0 24 24\"\n",
              "       width=\"24px\">\n",
              "    <path d=\"M0 0h24v24H0V0z\" fill=\"none\"/>\n",
              "    <path d=\"M18.56 5.44l.94 2.06.94-2.06 2.06-.94-2.06-.94-.94-2.06-.94 2.06-2.06.94zm-11 1L8.5 8.5l.94-2.06 2.06-.94-2.06-.94L8.5 2.5l-.94 2.06-2.06.94zm10 10l.94 2.06.94-2.06 2.06-.94-2.06-.94-.94-2.06-.94 2.06-2.06.94z\"/><path d=\"M17.41 7.96l-1.37-1.37c-.4-.4-.92-.59-1.43-.59-.52 0-1.04.2-1.43.59L10.3 9.45l-7.72 7.72c-.78.78-.78 2.05 0 2.83L4 21.41c.39.39.9.59 1.41.59.51 0 1.02-.2 1.41-.59l7.78-7.78 2.81-2.81c.8-.78.8-2.07 0-2.86zM5.41 20L4 18.59l7.72-7.72 1.47 1.35L5.41 20z\"/>\n",
              "  </svg>\n",
              "      </button>\n",
              "      \n",
              "  <style>\n",
              "    .colab-df-container {\n",
              "      display:flex;\n",
              "      flex-wrap:wrap;\n",
              "      gap: 12px;\n",
              "    }\n",
              "\n",
              "    .colab-df-convert {\n",
              "      background-color: #E8F0FE;\n",
              "      border: none;\n",
              "      border-radius: 50%;\n",
              "      cursor: pointer;\n",
              "      display: none;\n",
              "      fill: #1967D2;\n",
              "      height: 32px;\n",
              "      padding: 0 0 0 0;\n",
              "      width: 32px;\n",
              "    }\n",
              "\n",
              "    .colab-df-convert:hover {\n",
              "      background-color: #E2EBFA;\n",
              "      box-shadow: 0px 1px 2px rgba(60, 64, 67, 0.3), 0px 1px 3px 1px rgba(60, 64, 67, 0.15);\n",
              "      fill: #174EA6;\n",
              "    }\n",
              "\n",
              "    [theme=dark] .colab-df-convert {\n",
              "      background-color: #3B4455;\n",
              "      fill: #D2E3FC;\n",
              "    }\n",
              "\n",
              "    [theme=dark] .colab-df-convert:hover {\n",
              "      background-color: #434B5C;\n",
              "      box-shadow: 0px 1px 3px 1px rgba(0, 0, 0, 0.15);\n",
              "      filter: drop-shadow(0px 1px 2px rgba(0, 0, 0, 0.3));\n",
              "      fill: #FFFFFF;\n",
              "    }\n",
              "  </style>\n",
              "\n",
              "      <script>\n",
              "        const buttonEl =\n",
              "          document.querySelector('#df-460b2ee9-e1a4-4a27-9c6b-f7f952134192 button.colab-df-convert');\n",
              "        buttonEl.style.display =\n",
              "          google.colab.kernel.accessAllowed ? 'block' : 'none';\n",
              "\n",
              "        async function convertToInteractive(key) {\n",
              "          const element = document.querySelector('#df-460b2ee9-e1a4-4a27-9c6b-f7f952134192');\n",
              "          const dataTable =\n",
              "            await google.colab.kernel.invokeFunction('convertToInteractive',\n",
              "                                                     [key], {});\n",
              "          if (!dataTable) return;\n",
              "\n",
              "          const docLinkHtml = 'Like what you see? Visit the ' +\n",
              "            '<a target=\"_blank\" href=https://colab.research.google.com/notebooks/data_table.ipynb>data table notebook</a>'\n",
              "            + ' to learn more about interactive tables.';\n",
              "          element.innerHTML = '';\n",
              "          dataTable['output_type'] = 'display_data';\n",
              "          await google.colab.output.renderOutput(dataTable, element);\n",
              "          const docLink = document.createElement('div');\n",
              "          docLink.innerHTML = docLinkHtml;\n",
              "          element.appendChild(docLink);\n",
              "        }\n",
              "      </script>\n",
              "    </div>\n",
              "  </div>\n",
              "  "
            ]
          },
          "metadata": {},
          "execution_count": 99
        }
      ]
    },
    {
      "cell_type": "markdown",
      "source": [
        "We're going to have to turn the non-numerical columns into numbers (because a neural network can't handle non-numerical inputs).\n",
        "\n",
        "To do so, we'll use the get_dummies() method in pandas.\n",
        "\n",
        "It converts categorical variables (like the sex, smoker and region columns) into numerical variables using one-hot encoding."
      ],
      "metadata": {
        "id": "aNoMeO-aH_oi"
      }
    },
    {
      "cell_type": "code",
      "source": [
        "insurance_one_hot = pd.get_dummies(insurance)\n",
        "insurance_one_hot"
      ],
      "metadata": {
        "colab": {
          "base_uri": "https://localhost:8080/",
          "height": 487
        },
        "id": "bIbgMFDWH5MD",
        "outputId": "7493be9e-06b9-4493-d38a-d41fd51ee848"
      },
      "execution_count": 100,
      "outputs": [
        {
          "output_type": "execute_result",
          "data": {
            "text/plain": [
              "      age     bmi  children      charges  sex_female  sex_male  smoker_no  \\\n",
              "0      19  27.900         0  16884.92400           1         0          0   \n",
              "1      18  33.770         1   1725.55230           0         1          1   \n",
              "2      28  33.000         3   4449.46200           0         1          1   \n",
              "3      33  22.705         0  21984.47061           0         1          1   \n",
              "4      32  28.880         0   3866.85520           0         1          1   \n",
              "...   ...     ...       ...          ...         ...       ...        ...   \n",
              "1333   50  30.970         3  10600.54830           0         1          1   \n",
              "1334   18  31.920         0   2205.98080           1         0          1   \n",
              "1335   18  36.850         0   1629.83350           1         0          1   \n",
              "1336   21  25.800         0   2007.94500           1         0          1   \n",
              "1337   61  29.070         0  29141.36030           1         0          0   \n",
              "\n",
              "      smoker_yes  region_northeast  region_northwest  region_southeast  \\\n",
              "0              1                 0                 0                 0   \n",
              "1              0                 0                 0                 1   \n",
              "2              0                 0                 0                 1   \n",
              "3              0                 0                 1                 0   \n",
              "4              0                 0                 1                 0   \n",
              "...          ...               ...               ...               ...   \n",
              "1333           0                 0                 1                 0   \n",
              "1334           0                 1                 0                 0   \n",
              "1335           0                 0                 0                 1   \n",
              "1336           0                 0                 0                 0   \n",
              "1337           1                 0                 1                 0   \n",
              "\n",
              "      region_southwest  \n",
              "0                    1  \n",
              "1                    0  \n",
              "2                    0  \n",
              "3                    0  \n",
              "4                    0  \n",
              "...                ...  \n",
              "1333                 0  \n",
              "1334                 0  \n",
              "1335                 0  \n",
              "1336                 1  \n",
              "1337                 0  \n",
              "\n",
              "[1338 rows x 12 columns]"
            ],
            "text/html": [
              "\n",
              "  <div id=\"df-745bc866-c8c3-4b01-b235-39da749b8399\">\n",
              "    <div class=\"colab-df-container\">\n",
              "      <div>\n",
              "<style scoped>\n",
              "    .dataframe tbody tr th:only-of-type {\n",
              "        vertical-align: middle;\n",
              "    }\n",
              "\n",
              "    .dataframe tbody tr th {\n",
              "        vertical-align: top;\n",
              "    }\n",
              "\n",
              "    .dataframe thead th {\n",
              "        text-align: right;\n",
              "    }\n",
              "</style>\n",
              "<table border=\"1\" class=\"dataframe\">\n",
              "  <thead>\n",
              "    <tr style=\"text-align: right;\">\n",
              "      <th></th>\n",
              "      <th>age</th>\n",
              "      <th>bmi</th>\n",
              "      <th>children</th>\n",
              "      <th>charges</th>\n",
              "      <th>sex_female</th>\n",
              "      <th>sex_male</th>\n",
              "      <th>smoker_no</th>\n",
              "      <th>smoker_yes</th>\n",
              "      <th>region_northeast</th>\n",
              "      <th>region_northwest</th>\n",
              "      <th>region_southeast</th>\n",
              "      <th>region_southwest</th>\n",
              "    </tr>\n",
              "  </thead>\n",
              "  <tbody>\n",
              "    <tr>\n",
              "      <th>0</th>\n",
              "      <td>19</td>\n",
              "      <td>27.900</td>\n",
              "      <td>0</td>\n",
              "      <td>16884.92400</td>\n",
              "      <td>1</td>\n",
              "      <td>0</td>\n",
              "      <td>0</td>\n",
              "      <td>1</td>\n",
              "      <td>0</td>\n",
              "      <td>0</td>\n",
              "      <td>0</td>\n",
              "      <td>1</td>\n",
              "    </tr>\n",
              "    <tr>\n",
              "      <th>1</th>\n",
              "      <td>18</td>\n",
              "      <td>33.770</td>\n",
              "      <td>1</td>\n",
              "      <td>1725.55230</td>\n",
              "      <td>0</td>\n",
              "      <td>1</td>\n",
              "      <td>1</td>\n",
              "      <td>0</td>\n",
              "      <td>0</td>\n",
              "      <td>0</td>\n",
              "      <td>1</td>\n",
              "      <td>0</td>\n",
              "    </tr>\n",
              "    <tr>\n",
              "      <th>2</th>\n",
              "      <td>28</td>\n",
              "      <td>33.000</td>\n",
              "      <td>3</td>\n",
              "      <td>4449.46200</td>\n",
              "      <td>0</td>\n",
              "      <td>1</td>\n",
              "      <td>1</td>\n",
              "      <td>0</td>\n",
              "      <td>0</td>\n",
              "      <td>0</td>\n",
              "      <td>1</td>\n",
              "      <td>0</td>\n",
              "    </tr>\n",
              "    <tr>\n",
              "      <th>3</th>\n",
              "      <td>33</td>\n",
              "      <td>22.705</td>\n",
              "      <td>0</td>\n",
              "      <td>21984.47061</td>\n",
              "      <td>0</td>\n",
              "      <td>1</td>\n",
              "      <td>1</td>\n",
              "      <td>0</td>\n",
              "      <td>0</td>\n",
              "      <td>1</td>\n",
              "      <td>0</td>\n",
              "      <td>0</td>\n",
              "    </tr>\n",
              "    <tr>\n",
              "      <th>4</th>\n",
              "      <td>32</td>\n",
              "      <td>28.880</td>\n",
              "      <td>0</td>\n",
              "      <td>3866.85520</td>\n",
              "      <td>0</td>\n",
              "      <td>1</td>\n",
              "      <td>1</td>\n",
              "      <td>0</td>\n",
              "      <td>0</td>\n",
              "      <td>1</td>\n",
              "      <td>0</td>\n",
              "      <td>0</td>\n",
              "    </tr>\n",
              "    <tr>\n",
              "      <th>...</th>\n",
              "      <td>...</td>\n",
              "      <td>...</td>\n",
              "      <td>...</td>\n",
              "      <td>...</td>\n",
              "      <td>...</td>\n",
              "      <td>...</td>\n",
              "      <td>...</td>\n",
              "      <td>...</td>\n",
              "      <td>...</td>\n",
              "      <td>...</td>\n",
              "      <td>...</td>\n",
              "      <td>...</td>\n",
              "    </tr>\n",
              "    <tr>\n",
              "      <th>1333</th>\n",
              "      <td>50</td>\n",
              "      <td>30.970</td>\n",
              "      <td>3</td>\n",
              "      <td>10600.54830</td>\n",
              "      <td>0</td>\n",
              "      <td>1</td>\n",
              "      <td>1</td>\n",
              "      <td>0</td>\n",
              "      <td>0</td>\n",
              "      <td>1</td>\n",
              "      <td>0</td>\n",
              "      <td>0</td>\n",
              "    </tr>\n",
              "    <tr>\n",
              "      <th>1334</th>\n",
              "      <td>18</td>\n",
              "      <td>31.920</td>\n",
              "      <td>0</td>\n",
              "      <td>2205.98080</td>\n",
              "      <td>1</td>\n",
              "      <td>0</td>\n",
              "      <td>1</td>\n",
              "      <td>0</td>\n",
              "      <td>1</td>\n",
              "      <td>0</td>\n",
              "      <td>0</td>\n",
              "      <td>0</td>\n",
              "    </tr>\n",
              "    <tr>\n",
              "      <th>1335</th>\n",
              "      <td>18</td>\n",
              "      <td>36.850</td>\n",
              "      <td>0</td>\n",
              "      <td>1629.83350</td>\n",
              "      <td>1</td>\n",
              "      <td>0</td>\n",
              "      <td>1</td>\n",
              "      <td>0</td>\n",
              "      <td>0</td>\n",
              "      <td>0</td>\n",
              "      <td>1</td>\n",
              "      <td>0</td>\n",
              "    </tr>\n",
              "    <tr>\n",
              "      <th>1336</th>\n",
              "      <td>21</td>\n",
              "      <td>25.800</td>\n",
              "      <td>0</td>\n",
              "      <td>2007.94500</td>\n",
              "      <td>1</td>\n",
              "      <td>0</td>\n",
              "      <td>1</td>\n",
              "      <td>0</td>\n",
              "      <td>0</td>\n",
              "      <td>0</td>\n",
              "      <td>0</td>\n",
              "      <td>1</td>\n",
              "    </tr>\n",
              "    <tr>\n",
              "      <th>1337</th>\n",
              "      <td>61</td>\n",
              "      <td>29.070</td>\n",
              "      <td>0</td>\n",
              "      <td>29141.36030</td>\n",
              "      <td>1</td>\n",
              "      <td>0</td>\n",
              "      <td>0</td>\n",
              "      <td>1</td>\n",
              "      <td>0</td>\n",
              "      <td>1</td>\n",
              "      <td>0</td>\n",
              "      <td>0</td>\n",
              "    </tr>\n",
              "  </tbody>\n",
              "</table>\n",
              "<p>1338 rows × 12 columns</p>\n",
              "</div>\n",
              "      <button class=\"colab-df-convert\" onclick=\"convertToInteractive('df-745bc866-c8c3-4b01-b235-39da749b8399')\"\n",
              "              title=\"Convert this dataframe to an interactive table.\"\n",
              "              style=\"display:none;\">\n",
              "        \n",
              "  <svg xmlns=\"http://www.w3.org/2000/svg\" height=\"24px\"viewBox=\"0 0 24 24\"\n",
              "       width=\"24px\">\n",
              "    <path d=\"M0 0h24v24H0V0z\" fill=\"none\"/>\n",
              "    <path d=\"M18.56 5.44l.94 2.06.94-2.06 2.06-.94-2.06-.94-.94-2.06-.94 2.06-2.06.94zm-11 1L8.5 8.5l.94-2.06 2.06-.94-2.06-.94L8.5 2.5l-.94 2.06-2.06.94zm10 10l.94 2.06.94-2.06 2.06-.94-2.06-.94-.94-2.06-.94 2.06-2.06.94z\"/><path d=\"M17.41 7.96l-1.37-1.37c-.4-.4-.92-.59-1.43-.59-.52 0-1.04.2-1.43.59L10.3 9.45l-7.72 7.72c-.78.78-.78 2.05 0 2.83L4 21.41c.39.39.9.59 1.41.59.51 0 1.02-.2 1.41-.59l7.78-7.78 2.81-2.81c.8-.78.8-2.07 0-2.86zM5.41 20L4 18.59l7.72-7.72 1.47 1.35L5.41 20z\"/>\n",
              "  </svg>\n",
              "      </button>\n",
              "      \n",
              "  <style>\n",
              "    .colab-df-container {\n",
              "      display:flex;\n",
              "      flex-wrap:wrap;\n",
              "      gap: 12px;\n",
              "    }\n",
              "\n",
              "    .colab-df-convert {\n",
              "      background-color: #E8F0FE;\n",
              "      border: none;\n",
              "      border-radius: 50%;\n",
              "      cursor: pointer;\n",
              "      display: none;\n",
              "      fill: #1967D2;\n",
              "      height: 32px;\n",
              "      padding: 0 0 0 0;\n",
              "      width: 32px;\n",
              "    }\n",
              "\n",
              "    .colab-df-convert:hover {\n",
              "      background-color: #E2EBFA;\n",
              "      box-shadow: 0px 1px 2px rgba(60, 64, 67, 0.3), 0px 1px 3px 1px rgba(60, 64, 67, 0.15);\n",
              "      fill: #174EA6;\n",
              "    }\n",
              "\n",
              "    [theme=dark] .colab-df-convert {\n",
              "      background-color: #3B4455;\n",
              "      fill: #D2E3FC;\n",
              "    }\n",
              "\n",
              "    [theme=dark] .colab-df-convert:hover {\n",
              "      background-color: #434B5C;\n",
              "      box-shadow: 0px 1px 3px 1px rgba(0, 0, 0, 0.15);\n",
              "      filter: drop-shadow(0px 1px 2px rgba(0, 0, 0, 0.3));\n",
              "      fill: #FFFFFF;\n",
              "    }\n",
              "  </style>\n",
              "\n",
              "      <script>\n",
              "        const buttonEl =\n",
              "          document.querySelector('#df-745bc866-c8c3-4b01-b235-39da749b8399 button.colab-df-convert');\n",
              "        buttonEl.style.display =\n",
              "          google.colab.kernel.accessAllowed ? 'block' : 'none';\n",
              "\n",
              "        async function convertToInteractive(key) {\n",
              "          const element = document.querySelector('#df-745bc866-c8c3-4b01-b235-39da749b8399');\n",
              "          const dataTable =\n",
              "            await google.colab.kernel.invokeFunction('convertToInteractive',\n",
              "                                                     [key], {});\n",
              "          if (!dataTable) return;\n",
              "\n",
              "          const docLinkHtml = 'Like what you see? Visit the ' +\n",
              "            '<a target=\"_blank\" href=https://colab.research.google.com/notebooks/data_table.ipynb>data table notebook</a>'\n",
              "            + ' to learn more about interactive tables.';\n",
              "          element.innerHTML = '';\n",
              "          dataTable['output_type'] = 'display_data';\n",
              "          await google.colab.output.renderOutput(dataTable, element);\n",
              "          const docLink = document.createElement('div');\n",
              "          docLink.innerHTML = docLinkHtml;\n",
              "          element.appendChild(docLink);\n",
              "        }\n",
              "      </script>\n",
              "    </div>\n",
              "  </div>\n",
              "  "
            ]
          },
          "metadata": {},
          "execution_count": 100
        }
      ]
    },
    {
      "cell_type": "code",
      "source": [
        "# Create X & y values\n",
        "X = insurance_one_hot.drop(\"charges\", axis=1)\n",
        "y = insurance_one_hot[\"charges\"]\n"
      ],
      "metadata": {
        "id": "vzNa50TeIJrf"
      },
      "execution_count": 104,
      "outputs": []
    },
    {
      "cell_type": "code",
      "source": [
        "X.head()"
      ],
      "metadata": {
        "colab": {
          "base_uri": "https://localhost:8080/",
          "height": 270
        },
        "id": "ZtZqp0ISI7nt",
        "outputId": "6bb5f6c6-da57-407e-c775-9fbce8aedbb3"
      },
      "execution_count": 105,
      "outputs": [
        {
          "output_type": "execute_result",
          "data": {
            "text/plain": [
              "   age     bmi  children  sex_female  sex_male  smoker_no  smoker_yes  \\\n",
              "0   19  27.900         0           1         0          0           1   \n",
              "1   18  33.770         1           0         1          1           0   \n",
              "2   28  33.000         3           0         1          1           0   \n",
              "3   33  22.705         0           0         1          1           0   \n",
              "4   32  28.880         0           0         1          1           0   \n",
              "\n",
              "   region_northeast  region_northwest  region_southeast  region_southwest  \n",
              "0                 0                 0                 0                 1  \n",
              "1                 0                 0                 1                 0  \n",
              "2                 0                 0                 1                 0  \n",
              "3                 0                 1                 0                 0  \n",
              "4                 0                 1                 0                 0  "
            ],
            "text/html": [
              "\n",
              "  <div id=\"df-8f7a041d-19c3-452e-a138-92a7f4804b2a\">\n",
              "    <div class=\"colab-df-container\">\n",
              "      <div>\n",
              "<style scoped>\n",
              "    .dataframe tbody tr th:only-of-type {\n",
              "        vertical-align: middle;\n",
              "    }\n",
              "\n",
              "    .dataframe tbody tr th {\n",
              "        vertical-align: top;\n",
              "    }\n",
              "\n",
              "    .dataframe thead th {\n",
              "        text-align: right;\n",
              "    }\n",
              "</style>\n",
              "<table border=\"1\" class=\"dataframe\">\n",
              "  <thead>\n",
              "    <tr style=\"text-align: right;\">\n",
              "      <th></th>\n",
              "      <th>age</th>\n",
              "      <th>bmi</th>\n",
              "      <th>children</th>\n",
              "      <th>sex_female</th>\n",
              "      <th>sex_male</th>\n",
              "      <th>smoker_no</th>\n",
              "      <th>smoker_yes</th>\n",
              "      <th>region_northeast</th>\n",
              "      <th>region_northwest</th>\n",
              "      <th>region_southeast</th>\n",
              "      <th>region_southwest</th>\n",
              "    </tr>\n",
              "  </thead>\n",
              "  <tbody>\n",
              "    <tr>\n",
              "      <th>0</th>\n",
              "      <td>19</td>\n",
              "      <td>27.900</td>\n",
              "      <td>0</td>\n",
              "      <td>1</td>\n",
              "      <td>0</td>\n",
              "      <td>0</td>\n",
              "      <td>1</td>\n",
              "      <td>0</td>\n",
              "      <td>0</td>\n",
              "      <td>0</td>\n",
              "      <td>1</td>\n",
              "    </tr>\n",
              "    <tr>\n",
              "      <th>1</th>\n",
              "      <td>18</td>\n",
              "      <td>33.770</td>\n",
              "      <td>1</td>\n",
              "      <td>0</td>\n",
              "      <td>1</td>\n",
              "      <td>1</td>\n",
              "      <td>0</td>\n",
              "      <td>0</td>\n",
              "      <td>0</td>\n",
              "      <td>1</td>\n",
              "      <td>0</td>\n",
              "    </tr>\n",
              "    <tr>\n",
              "      <th>2</th>\n",
              "      <td>28</td>\n",
              "      <td>33.000</td>\n",
              "      <td>3</td>\n",
              "      <td>0</td>\n",
              "      <td>1</td>\n",
              "      <td>1</td>\n",
              "      <td>0</td>\n",
              "      <td>0</td>\n",
              "      <td>0</td>\n",
              "      <td>1</td>\n",
              "      <td>0</td>\n",
              "    </tr>\n",
              "    <tr>\n",
              "      <th>3</th>\n",
              "      <td>33</td>\n",
              "      <td>22.705</td>\n",
              "      <td>0</td>\n",
              "      <td>0</td>\n",
              "      <td>1</td>\n",
              "      <td>1</td>\n",
              "      <td>0</td>\n",
              "      <td>0</td>\n",
              "      <td>1</td>\n",
              "      <td>0</td>\n",
              "      <td>0</td>\n",
              "    </tr>\n",
              "    <tr>\n",
              "      <th>4</th>\n",
              "      <td>32</td>\n",
              "      <td>28.880</td>\n",
              "      <td>0</td>\n",
              "      <td>0</td>\n",
              "      <td>1</td>\n",
              "      <td>1</td>\n",
              "      <td>0</td>\n",
              "      <td>0</td>\n",
              "      <td>1</td>\n",
              "      <td>0</td>\n",
              "      <td>0</td>\n",
              "    </tr>\n",
              "  </tbody>\n",
              "</table>\n",
              "</div>\n",
              "      <button class=\"colab-df-convert\" onclick=\"convertToInteractive('df-8f7a041d-19c3-452e-a138-92a7f4804b2a')\"\n",
              "              title=\"Convert this dataframe to an interactive table.\"\n",
              "              style=\"display:none;\">\n",
              "        \n",
              "  <svg xmlns=\"http://www.w3.org/2000/svg\" height=\"24px\"viewBox=\"0 0 24 24\"\n",
              "       width=\"24px\">\n",
              "    <path d=\"M0 0h24v24H0V0z\" fill=\"none\"/>\n",
              "    <path d=\"M18.56 5.44l.94 2.06.94-2.06 2.06-.94-2.06-.94-.94-2.06-.94 2.06-2.06.94zm-11 1L8.5 8.5l.94-2.06 2.06-.94-2.06-.94L8.5 2.5l-.94 2.06-2.06.94zm10 10l.94 2.06.94-2.06 2.06-.94-2.06-.94-.94-2.06-.94 2.06-2.06.94z\"/><path d=\"M17.41 7.96l-1.37-1.37c-.4-.4-.92-.59-1.43-.59-.52 0-1.04.2-1.43.59L10.3 9.45l-7.72 7.72c-.78.78-.78 2.05 0 2.83L4 21.41c.39.39.9.59 1.41.59.51 0 1.02-.2 1.41-.59l7.78-7.78 2.81-2.81c.8-.78.8-2.07 0-2.86zM5.41 20L4 18.59l7.72-7.72 1.47 1.35L5.41 20z\"/>\n",
              "  </svg>\n",
              "      </button>\n",
              "      \n",
              "  <style>\n",
              "    .colab-df-container {\n",
              "      display:flex;\n",
              "      flex-wrap:wrap;\n",
              "      gap: 12px;\n",
              "    }\n",
              "\n",
              "    .colab-df-convert {\n",
              "      background-color: #E8F0FE;\n",
              "      border: none;\n",
              "      border-radius: 50%;\n",
              "      cursor: pointer;\n",
              "      display: none;\n",
              "      fill: #1967D2;\n",
              "      height: 32px;\n",
              "      padding: 0 0 0 0;\n",
              "      width: 32px;\n",
              "    }\n",
              "\n",
              "    .colab-df-convert:hover {\n",
              "      background-color: #E2EBFA;\n",
              "      box-shadow: 0px 1px 2px rgba(60, 64, 67, 0.3), 0px 1px 3px 1px rgba(60, 64, 67, 0.15);\n",
              "      fill: #174EA6;\n",
              "    }\n",
              "\n",
              "    [theme=dark] .colab-df-convert {\n",
              "      background-color: #3B4455;\n",
              "      fill: #D2E3FC;\n",
              "    }\n",
              "\n",
              "    [theme=dark] .colab-df-convert:hover {\n",
              "      background-color: #434B5C;\n",
              "      box-shadow: 0px 1px 3px 1px rgba(0, 0, 0, 0.15);\n",
              "      filter: drop-shadow(0px 1px 2px rgba(0, 0, 0, 0.3));\n",
              "      fill: #FFFFFF;\n",
              "    }\n",
              "  </style>\n",
              "\n",
              "      <script>\n",
              "        const buttonEl =\n",
              "          document.querySelector('#df-8f7a041d-19c3-452e-a138-92a7f4804b2a button.colab-df-convert');\n",
              "        buttonEl.style.display =\n",
              "          google.colab.kernel.accessAllowed ? 'block' : 'none';\n",
              "\n",
              "        async function convertToInteractive(key) {\n",
              "          const element = document.querySelector('#df-8f7a041d-19c3-452e-a138-92a7f4804b2a');\n",
              "          const dataTable =\n",
              "            await google.colab.kernel.invokeFunction('convertToInteractive',\n",
              "                                                     [key], {});\n",
              "          if (!dataTable) return;\n",
              "\n",
              "          const docLinkHtml = 'Like what you see? Visit the ' +\n",
              "            '<a target=\"_blank\" href=https://colab.research.google.com/notebooks/data_table.ipynb>data table notebook</a>'\n",
              "            + ' to learn more about interactive tables.';\n",
              "          element.innerHTML = '';\n",
              "          dataTable['output_type'] = 'display_data';\n",
              "          await google.colab.output.renderOutput(dataTable, element);\n",
              "          const docLink = document.createElement('div');\n",
              "          docLink.innerHTML = docLinkHtml;\n",
              "          element.appendChild(docLink);\n",
              "        }\n",
              "      </script>\n",
              "    </div>\n",
              "  </div>\n",
              "  "
            ]
          },
          "metadata": {},
          "execution_count": 105
        }
      ]
    },
    {
      "cell_type": "code",
      "source": [
        "y.head()"
      ],
      "metadata": {
        "colab": {
          "base_uri": "https://localhost:8080/"
        },
        "id": "YStMKvVqJil1",
        "outputId": "00b2631f-2601-4291-91dc-8c3fe180c0d5"
      },
      "execution_count": 106,
      "outputs": [
        {
          "output_type": "execute_result",
          "data": {
            "text/plain": [
              "0    16884.92400\n",
              "1     1725.55230\n",
              "2     4449.46200\n",
              "3    21984.47061\n",
              "4     3866.85520\n",
              "Name: charges, dtype: float64"
            ]
          },
          "metadata": {},
          "execution_count": 106
        }
      ]
    },
    {
      "cell_type": "code",
      "source": [
        "from sklearn.model_selection import train_test_split\n",
        "X_train, X_test, y_train, y_test = train_test_split(X, \n",
        "                                                    y, \n",
        "                                                    test_size=0.2, \n",
        "                                                    random_state=42)"
      ],
      "metadata": {
        "id": "zeldsH8LJl9H"
      },
      "execution_count": 108,
      "outputs": []
    },
    {
      "cell_type": "code",
      "source": [
        "len(X), len(X_train), len(X_test)"
      ],
      "metadata": {
        "colab": {
          "base_uri": "https://localhost:8080/"
        },
        "id": "dco56XVDKSLL",
        "outputId": "81a9e10e-2d67-47bf-945f-19291f2973dd"
      },
      "execution_count": 110,
      "outputs": [
        {
          "output_type": "execute_result",
          "data": {
            "text/plain": [
              "(1338, 1070, 268)"
            ]
          },
          "metadata": {},
          "execution_count": 110
        }
      ]
    },
    {
      "cell_type": "code",
      "source": [
        "X_train.head()\n",
        "\n",
        "## as you can see the index, the dataset inside the X_train is randomly shuffeled"
      ],
      "metadata": {
        "colab": {
          "base_uri": "https://localhost:8080/",
          "height": 270
        },
        "id": "QOy0rXvzKxBB",
        "outputId": "6199cb62-fdea-422b-a1c9-b7bbad717ac6"
      },
      "execution_count": 111,
      "outputs": [
        {
          "output_type": "execute_result",
          "data": {
            "text/plain": [
              "      age    bmi  children  sex_female  sex_male  smoker_no  smoker_yes  \\\n",
              "560    46  19.95         2           1         0          1           0   \n",
              "1285   47  24.32         0           1         0          1           0   \n",
              "1142   52  24.86         0           1         0          1           0   \n",
              "969    39  34.32         5           1         0          1           0   \n",
              "486    54  21.47         3           1         0          1           0   \n",
              "\n",
              "      region_northeast  region_northwest  region_southeast  region_southwest  \n",
              "560                  0                 1                 0                 0  \n",
              "1285                 1                 0                 0                 0  \n",
              "1142                 0                 0                 1                 0  \n",
              "969                  0                 0                 1                 0  \n",
              "486                  0                 1                 0                 0  "
            ],
            "text/html": [
              "\n",
              "  <div id=\"df-38e879be-cd62-4d6b-b27e-f3764e980d25\">\n",
              "    <div class=\"colab-df-container\">\n",
              "      <div>\n",
              "<style scoped>\n",
              "    .dataframe tbody tr th:only-of-type {\n",
              "        vertical-align: middle;\n",
              "    }\n",
              "\n",
              "    .dataframe tbody tr th {\n",
              "        vertical-align: top;\n",
              "    }\n",
              "\n",
              "    .dataframe thead th {\n",
              "        text-align: right;\n",
              "    }\n",
              "</style>\n",
              "<table border=\"1\" class=\"dataframe\">\n",
              "  <thead>\n",
              "    <tr style=\"text-align: right;\">\n",
              "      <th></th>\n",
              "      <th>age</th>\n",
              "      <th>bmi</th>\n",
              "      <th>children</th>\n",
              "      <th>sex_female</th>\n",
              "      <th>sex_male</th>\n",
              "      <th>smoker_no</th>\n",
              "      <th>smoker_yes</th>\n",
              "      <th>region_northeast</th>\n",
              "      <th>region_northwest</th>\n",
              "      <th>region_southeast</th>\n",
              "      <th>region_southwest</th>\n",
              "    </tr>\n",
              "  </thead>\n",
              "  <tbody>\n",
              "    <tr>\n",
              "      <th>560</th>\n",
              "      <td>46</td>\n",
              "      <td>19.95</td>\n",
              "      <td>2</td>\n",
              "      <td>1</td>\n",
              "      <td>0</td>\n",
              "      <td>1</td>\n",
              "      <td>0</td>\n",
              "      <td>0</td>\n",
              "      <td>1</td>\n",
              "      <td>0</td>\n",
              "      <td>0</td>\n",
              "    </tr>\n",
              "    <tr>\n",
              "      <th>1285</th>\n",
              "      <td>47</td>\n",
              "      <td>24.32</td>\n",
              "      <td>0</td>\n",
              "      <td>1</td>\n",
              "      <td>0</td>\n",
              "      <td>1</td>\n",
              "      <td>0</td>\n",
              "      <td>1</td>\n",
              "      <td>0</td>\n",
              "      <td>0</td>\n",
              "      <td>0</td>\n",
              "    </tr>\n",
              "    <tr>\n",
              "      <th>1142</th>\n",
              "      <td>52</td>\n",
              "      <td>24.86</td>\n",
              "      <td>0</td>\n",
              "      <td>1</td>\n",
              "      <td>0</td>\n",
              "      <td>1</td>\n",
              "      <td>0</td>\n",
              "      <td>0</td>\n",
              "      <td>0</td>\n",
              "      <td>1</td>\n",
              "      <td>0</td>\n",
              "    </tr>\n",
              "    <tr>\n",
              "      <th>969</th>\n",
              "      <td>39</td>\n",
              "      <td>34.32</td>\n",
              "      <td>5</td>\n",
              "      <td>1</td>\n",
              "      <td>0</td>\n",
              "      <td>1</td>\n",
              "      <td>0</td>\n",
              "      <td>0</td>\n",
              "      <td>0</td>\n",
              "      <td>1</td>\n",
              "      <td>0</td>\n",
              "    </tr>\n",
              "    <tr>\n",
              "      <th>486</th>\n",
              "      <td>54</td>\n",
              "      <td>21.47</td>\n",
              "      <td>3</td>\n",
              "      <td>1</td>\n",
              "      <td>0</td>\n",
              "      <td>1</td>\n",
              "      <td>0</td>\n",
              "      <td>0</td>\n",
              "      <td>1</td>\n",
              "      <td>0</td>\n",
              "      <td>0</td>\n",
              "    </tr>\n",
              "  </tbody>\n",
              "</table>\n",
              "</div>\n",
              "      <button class=\"colab-df-convert\" onclick=\"convertToInteractive('df-38e879be-cd62-4d6b-b27e-f3764e980d25')\"\n",
              "              title=\"Convert this dataframe to an interactive table.\"\n",
              "              style=\"display:none;\">\n",
              "        \n",
              "  <svg xmlns=\"http://www.w3.org/2000/svg\" height=\"24px\"viewBox=\"0 0 24 24\"\n",
              "       width=\"24px\">\n",
              "    <path d=\"M0 0h24v24H0V0z\" fill=\"none\"/>\n",
              "    <path d=\"M18.56 5.44l.94 2.06.94-2.06 2.06-.94-2.06-.94-.94-2.06-.94 2.06-2.06.94zm-11 1L8.5 8.5l.94-2.06 2.06-.94-2.06-.94L8.5 2.5l-.94 2.06-2.06.94zm10 10l.94 2.06.94-2.06 2.06-.94-2.06-.94-.94-2.06-.94 2.06-2.06.94z\"/><path d=\"M17.41 7.96l-1.37-1.37c-.4-.4-.92-.59-1.43-.59-.52 0-1.04.2-1.43.59L10.3 9.45l-7.72 7.72c-.78.78-.78 2.05 0 2.83L4 21.41c.39.39.9.59 1.41.59.51 0 1.02-.2 1.41-.59l7.78-7.78 2.81-2.81c.8-.78.8-2.07 0-2.86zM5.41 20L4 18.59l7.72-7.72 1.47 1.35L5.41 20z\"/>\n",
              "  </svg>\n",
              "      </button>\n",
              "      \n",
              "  <style>\n",
              "    .colab-df-container {\n",
              "      display:flex;\n",
              "      flex-wrap:wrap;\n",
              "      gap: 12px;\n",
              "    }\n",
              "\n",
              "    .colab-df-convert {\n",
              "      background-color: #E8F0FE;\n",
              "      border: none;\n",
              "      border-radius: 50%;\n",
              "      cursor: pointer;\n",
              "      display: none;\n",
              "      fill: #1967D2;\n",
              "      height: 32px;\n",
              "      padding: 0 0 0 0;\n",
              "      width: 32px;\n",
              "    }\n",
              "\n",
              "    .colab-df-convert:hover {\n",
              "      background-color: #E2EBFA;\n",
              "      box-shadow: 0px 1px 2px rgba(60, 64, 67, 0.3), 0px 1px 3px 1px rgba(60, 64, 67, 0.15);\n",
              "      fill: #174EA6;\n",
              "    }\n",
              "\n",
              "    [theme=dark] .colab-df-convert {\n",
              "      background-color: #3B4455;\n",
              "      fill: #D2E3FC;\n",
              "    }\n",
              "\n",
              "    [theme=dark] .colab-df-convert:hover {\n",
              "      background-color: #434B5C;\n",
              "      box-shadow: 0px 1px 3px 1px rgba(0, 0, 0, 0.15);\n",
              "      filter: drop-shadow(0px 1px 2px rgba(0, 0, 0, 0.3));\n",
              "      fill: #FFFFFF;\n",
              "    }\n",
              "  </style>\n",
              "\n",
              "      <script>\n",
              "        const buttonEl =\n",
              "          document.querySelector('#df-38e879be-cd62-4d6b-b27e-f3764e980d25 button.colab-df-convert');\n",
              "        buttonEl.style.display =\n",
              "          google.colab.kernel.accessAllowed ? 'block' : 'none';\n",
              "\n",
              "        async function convertToInteractive(key) {\n",
              "          const element = document.querySelector('#df-38e879be-cd62-4d6b-b27e-f3764e980d25');\n",
              "          const dataTable =\n",
              "            await google.colab.kernel.invokeFunction('convertToInteractive',\n",
              "                                                     [key], {});\n",
              "          if (!dataTable) return;\n",
              "\n",
              "          const docLinkHtml = 'Like what you see? Visit the ' +\n",
              "            '<a target=\"_blank\" href=https://colab.research.google.com/notebooks/data_table.ipynb>data table notebook</a>'\n",
              "            + ' to learn more about interactive tables.';\n",
              "          element.innerHTML = '';\n",
              "          dataTable['output_type'] = 'display_data';\n",
              "          await google.colab.output.renderOutput(dataTable, element);\n",
              "          const docLink = document.createElement('div');\n",
              "          docLink.innerHTML = docLinkHtml;\n",
              "          element.appendChild(docLink);\n",
              "        }\n",
              "      </script>\n",
              "    </div>\n",
              "  </div>\n",
              "  "
            ]
          },
          "metadata": {},
          "execution_count": 111
        }
      ]
    },
    {
      "cell_type": "code",
      "source": [
        "## creating a model for the above insurance problem\n",
        "\n",
        "# create\n",
        "insurance_model=tf.keras.Sequential([\n",
        "    tf.keras.layers.Dense(100),\n",
        "    tf.keras.layers.Dense(1)\n",
        "])\n",
        "\n",
        "#compile\n",
        "insurance_model.compile(loss=tf.keras.losses.mae,\n",
        "                        optimizer=tf.keras.optimizers.SGD(),\n",
        "                        metrics=[\"mae\"])\n",
        "\n",
        "#fit\n",
        "insurance_model.fit(X_train, y_train, epochs=100)"
      ],
      "metadata": {
        "colab": {
          "base_uri": "https://localhost:8080/"
        },
        "id": "m68bX8V7LDEq",
        "outputId": "ec4dabc9-2020-46a3-b692-3c62ea317822"
      },
      "execution_count": 115,
      "outputs": [
        {
          "output_type": "stream",
          "name": "stdout",
          "text": [
            "Epoch 1/100\n",
            "34/34 [==============================] - 0s 2ms/step - loss: 8562.3008 - mae: 8562.3008\n",
            "Epoch 2/100\n",
            "34/34 [==============================] - 0s 2ms/step - loss: 7884.4609 - mae: 7884.4609\n",
            "Epoch 3/100\n",
            "34/34 [==============================] - 0s 1ms/step - loss: 7607.3989 - mae: 7607.3989\n",
            "Epoch 4/100\n",
            "34/34 [==============================] - 0s 2ms/step - loss: 7769.6108 - mae: 7769.6108\n",
            "Epoch 5/100\n",
            "34/34 [==============================] - 0s 2ms/step - loss: 7670.9419 - mae: 7670.9419\n",
            "Epoch 6/100\n",
            "34/34 [==============================] - 0s 2ms/step - loss: 7598.3379 - mae: 7598.3379\n",
            "Epoch 7/100\n",
            "34/34 [==============================] - 0s 2ms/step - loss: 7645.3975 - mae: 7645.3975\n",
            "Epoch 8/100\n",
            "34/34 [==============================] - 0s 2ms/step - loss: 7751.4741 - mae: 7751.4741\n",
            "Epoch 9/100\n",
            "34/34 [==============================] - 0s 2ms/step - loss: 7484.5908 - mae: 7484.5908\n",
            "Epoch 10/100\n",
            "34/34 [==============================] - 0s 1ms/step - loss: 7744.3589 - mae: 7744.3589\n",
            "Epoch 11/100\n",
            "34/34 [==============================] - 0s 1ms/step - loss: 7619.9419 - mae: 7619.9419\n",
            "Epoch 12/100\n",
            "34/34 [==============================] - 0s 2ms/step - loss: 7701.0811 - mae: 7701.0811\n",
            "Epoch 13/100\n",
            "34/34 [==============================] - 0s 2ms/step - loss: 7615.3662 - mae: 7615.3662\n",
            "Epoch 14/100\n",
            "34/34 [==============================] - 0s 2ms/step - loss: 7820.1812 - mae: 7820.1812\n",
            "Epoch 15/100\n",
            "34/34 [==============================] - 0s 2ms/step - loss: 7348.2090 - mae: 7348.2090\n",
            "Epoch 16/100\n",
            "34/34 [==============================] - 0s 2ms/step - loss: 7771.0381 - mae: 7771.0381\n",
            "Epoch 17/100\n",
            "34/34 [==============================] - 0s 5ms/step - loss: 7568.2432 - mae: 7568.2432\n",
            "Epoch 18/100\n",
            "34/34 [==============================] - 0s 5ms/step - loss: 7706.4453 - mae: 7706.4453\n",
            "Epoch 19/100\n",
            "34/34 [==============================] - 0s 3ms/step - loss: 7760.8667 - mae: 7760.8667\n",
            "Epoch 20/100\n",
            "34/34 [==============================] - 0s 3ms/step - loss: 7878.9082 - mae: 7878.9082\n",
            "Epoch 21/100\n",
            "34/34 [==============================] - 0s 3ms/step - loss: 7459.4595 - mae: 7459.4595\n",
            "Epoch 22/100\n",
            "34/34 [==============================] - 0s 3ms/step - loss: 7849.5142 - mae: 7849.5142\n",
            "Epoch 23/100\n",
            "34/34 [==============================] - 0s 4ms/step - loss: 7491.5840 - mae: 7491.5840\n",
            "Epoch 24/100\n",
            "34/34 [==============================] - 0s 4ms/step - loss: 7606.7666 - mae: 7606.7666\n",
            "Epoch 25/100\n",
            "34/34 [==============================] - 0s 6ms/step - loss: 7695.1890 - mae: 7695.1890\n",
            "Epoch 26/100\n",
            "34/34 [==============================] - 0s 6ms/step - loss: 7695.7690 - mae: 7695.7690\n",
            "Epoch 27/100\n",
            "34/34 [==============================] - 0s 4ms/step - loss: 7706.8354 - mae: 7706.8354\n",
            "Epoch 28/100\n",
            "34/34 [==============================] - 0s 5ms/step - loss: 7284.3882 - mae: 7284.3882\n",
            "Epoch 29/100\n",
            "34/34 [==============================] - 0s 6ms/step - loss: 7694.5430 - mae: 7694.5430\n",
            "Epoch 30/100\n",
            "34/34 [==============================] - 0s 9ms/step - loss: 7516.1753 - mae: 7516.1753\n",
            "Epoch 31/100\n",
            "34/34 [==============================] - 0s 6ms/step - loss: 7463.4800 - mae: 7463.4800\n",
            "Epoch 32/100\n",
            "34/34 [==============================] - 0s 6ms/step - loss: 7508.2119 - mae: 7508.2119\n",
            "Epoch 33/100\n",
            "34/34 [==============================] - 0s 6ms/step - loss: 7498.9082 - mae: 7498.9082\n",
            "Epoch 34/100\n",
            "34/34 [==============================] - 0s 6ms/step - loss: 7461.4810 - mae: 7461.4810\n",
            "Epoch 35/100\n",
            "34/34 [==============================] - 0s 9ms/step - loss: 7616.9619 - mae: 7616.9619\n",
            "Epoch 36/100\n",
            "34/34 [==============================] - 0s 11ms/step - loss: 7512.7568 - mae: 7512.7568\n",
            "Epoch 37/100\n",
            "34/34 [==============================] - 0s 6ms/step - loss: 7634.8877 - mae: 7634.8877\n",
            "Epoch 38/100\n",
            "34/34 [==============================] - 0s 6ms/step - loss: 7549.2373 - mae: 7549.2373\n",
            "Epoch 39/100\n",
            "34/34 [==============================] - 0s 7ms/step - loss: 7518.6177 - mae: 7518.6177\n",
            "Epoch 40/100\n",
            "34/34 [==============================] - 0s 8ms/step - loss: 7440.4170 - mae: 7440.4170\n",
            "Epoch 41/100\n",
            "34/34 [==============================] - 0s 4ms/step - loss: 7695.2217 - mae: 7695.2217\n",
            "Epoch 42/100\n",
            "34/34 [==============================] - 0s 2ms/step - loss: 7805.3169 - mae: 7805.3169\n",
            "Epoch 43/100\n",
            "34/34 [==============================] - 0s 2ms/step - loss: 7638.8354 - mae: 7638.8354\n",
            "Epoch 44/100\n",
            "34/34 [==============================] - 0s 2ms/step - loss: 7255.8936 - mae: 7255.8936\n",
            "Epoch 45/100\n",
            "34/34 [==============================] - 0s 2ms/step - loss: 7542.1606 - mae: 7542.1606\n",
            "Epoch 46/100\n",
            "34/34 [==============================] - 0s 2ms/step - loss: 7440.7783 - mae: 7440.7783\n",
            "Epoch 47/100\n",
            "34/34 [==============================] - 0s 2ms/step - loss: 7358.3853 - mae: 7358.3853\n",
            "Epoch 48/100\n",
            "34/34 [==============================] - 0s 2ms/step - loss: 7482.4727 - mae: 7482.4727\n",
            "Epoch 49/100\n",
            "34/34 [==============================] - 0s 2ms/step - loss: 7535.1245 - mae: 7535.1245\n",
            "Epoch 50/100\n",
            "34/34 [==============================] - 0s 2ms/step - loss: 7508.7324 - mae: 7508.7324\n",
            "Epoch 51/100\n",
            "34/34 [==============================] - 0s 2ms/step - loss: 7419.4443 - mae: 7419.4443\n",
            "Epoch 52/100\n",
            "34/34 [==============================] - 0s 2ms/step - loss: 7428.0791 - mae: 7428.0791\n",
            "Epoch 53/100\n",
            "34/34 [==============================] - 0s 2ms/step - loss: 7372.3960 - mae: 7372.3960\n",
            "Epoch 54/100\n",
            "34/34 [==============================] - 0s 2ms/step - loss: 7247.0322 - mae: 7247.0322\n",
            "Epoch 55/100\n",
            "34/34 [==============================] - 0s 1ms/step - loss: 7459.4751 - mae: 7459.4751\n",
            "Epoch 56/100\n",
            "34/34 [==============================] - 0s 2ms/step - loss: 7169.8110 - mae: 7169.8110\n",
            "Epoch 57/100\n",
            "34/34 [==============================] - 0s 2ms/step - loss: 7447.3179 - mae: 7447.3179\n",
            "Epoch 58/100\n",
            "34/34 [==============================] - 0s 2ms/step - loss: 7386.7402 - mae: 7386.7402\n",
            "Epoch 59/100\n",
            "34/34 [==============================] - 0s 2ms/step - loss: 7395.9312 - mae: 7395.9312\n",
            "Epoch 60/100\n",
            "34/34 [==============================] - 0s 2ms/step - loss: 7496.2070 - mae: 7496.2070\n",
            "Epoch 61/100\n",
            "34/34 [==============================] - 0s 2ms/step - loss: 7479.6904 - mae: 7479.6904\n",
            "Epoch 62/100\n",
            "34/34 [==============================] - 0s 1ms/step - loss: 7408.5366 - mae: 7408.5366\n",
            "Epoch 63/100\n",
            "34/34 [==============================] - 0s 2ms/step - loss: 7363.6924 - mae: 7363.6924\n",
            "Epoch 64/100\n",
            "34/34 [==============================] - 0s 2ms/step - loss: 7340.7402 - mae: 7340.7402\n",
            "Epoch 65/100\n",
            "34/34 [==============================] - 0s 2ms/step - loss: 7436.0000 - mae: 7436.0000\n",
            "Epoch 66/100\n",
            "34/34 [==============================] - 0s 2ms/step - loss: 7437.2295 - mae: 7437.2295\n",
            "Epoch 67/100\n",
            "34/34 [==============================] - 0s 2ms/step - loss: 7352.2842 - mae: 7352.2842\n",
            "Epoch 68/100\n",
            "34/34 [==============================] - 0s 2ms/step - loss: 7530.3740 - mae: 7530.3740\n",
            "Epoch 69/100\n",
            "34/34 [==============================] - 0s 2ms/step - loss: 7524.5122 - mae: 7524.5122\n",
            "Epoch 70/100\n",
            "34/34 [==============================] - 0s 2ms/step - loss: 7483.1479 - mae: 7483.1479\n",
            "Epoch 71/100\n",
            "34/34 [==============================] - 0s 2ms/step - loss: 7282.0532 - mae: 7282.0532\n",
            "Epoch 72/100\n",
            "34/34 [==============================] - 0s 2ms/step - loss: 7425.8081 - mae: 7425.8081\n",
            "Epoch 73/100\n",
            "34/34 [==============================] - 0s 2ms/step - loss: 7508.6348 - mae: 7508.6348\n",
            "Epoch 74/100\n",
            "34/34 [==============================] - 0s 2ms/step - loss: 7404.5532 - mae: 7404.5532\n",
            "Epoch 75/100\n",
            "34/34 [==============================] - 0s 2ms/step - loss: 7347.2012 - mae: 7347.2012\n",
            "Epoch 76/100\n",
            "34/34 [==============================] - 0s 2ms/step - loss: 7176.2158 - mae: 7176.2158\n",
            "Epoch 77/100\n",
            "34/34 [==============================] - 0s 2ms/step - loss: 7349.3652 - mae: 7349.3652\n",
            "Epoch 78/100\n",
            "34/34 [==============================] - 0s 2ms/step - loss: 7230.4551 - mae: 7230.4551\n",
            "Epoch 79/100\n",
            "34/34 [==============================] - 0s 2ms/step - loss: 7480.6318 - mae: 7480.6318\n",
            "Epoch 80/100\n",
            "34/34 [==============================] - 0s 2ms/step - loss: 7334.7876 - mae: 7334.7876\n",
            "Epoch 81/100\n",
            "34/34 [==============================] - 0s 2ms/step - loss: 7233.1831 - mae: 7233.1831\n",
            "Epoch 82/100\n",
            "34/34 [==============================] - 0s 2ms/step - loss: 7189.4673 - mae: 7189.4673\n",
            "Epoch 83/100\n",
            "34/34 [==============================] - 0s 2ms/step - loss: 7521.0332 - mae: 7521.0332\n",
            "Epoch 84/100\n",
            "34/34 [==============================] - 0s 2ms/step - loss: 7367.1616 - mae: 7367.1616\n",
            "Epoch 85/100\n",
            "34/34 [==============================] - 0s 1ms/step - loss: 7279.2925 - mae: 7279.2925\n",
            "Epoch 86/100\n",
            "34/34 [==============================] - 0s 1ms/step - loss: 7346.2788 - mae: 7346.2788\n",
            "Epoch 87/100\n",
            "34/34 [==============================] - 0s 1ms/step - loss: 7372.8345 - mae: 7372.8345\n",
            "Epoch 88/100\n",
            "34/34 [==============================] - 0s 2ms/step - loss: 7365.4150 - mae: 7365.4150\n",
            "Epoch 89/100\n",
            "34/34 [==============================] - 0s 2ms/step - loss: 7517.5366 - mae: 7517.5366\n",
            "Epoch 90/100\n",
            "34/34 [==============================] - 0s 2ms/step - loss: 7091.8467 - mae: 7091.8467\n",
            "Epoch 91/100\n",
            "34/34 [==============================] - 0s 1ms/step - loss: 7319.9214 - mae: 7319.9214\n",
            "Epoch 92/100\n",
            "34/34 [==============================] - 0s 2ms/step - loss: 7380.2705 - mae: 7380.2705\n",
            "Epoch 93/100\n",
            "34/34 [==============================] - 0s 2ms/step - loss: 7524.1021 - mae: 7524.1021\n",
            "Epoch 94/100\n",
            "34/34 [==============================] - 0s 2ms/step - loss: 7051.3877 - mae: 7051.3877\n",
            "Epoch 95/100\n",
            "34/34 [==============================] - 0s 2ms/step - loss: 7347.9312 - mae: 7347.9312\n",
            "Epoch 96/100\n",
            "34/34 [==============================] - 0s 2ms/step - loss: 7354.6748 - mae: 7354.6748\n",
            "Epoch 97/100\n",
            "34/34 [==============================] - 0s 2ms/step - loss: 7097.1201 - mae: 7097.1201\n",
            "Epoch 98/100\n",
            "34/34 [==============================] - 0s 2ms/step - loss: 7241.5327 - mae: 7241.5327\n",
            "Epoch 99/100\n",
            "34/34 [==============================] - 0s 2ms/step - loss: 7418.0576 - mae: 7418.0576\n",
            "Epoch 100/100\n",
            "34/34 [==============================] - 0s 2ms/step - loss: 7086.0986 - mae: 7086.0986\n"
          ]
        },
        {
          "output_type": "execute_result",
          "data": {
            "text/plain": [
              "<keras.callbacks.History at 0x7f9d1732bb80>"
            ]
          },
          "metadata": {},
          "execution_count": 115
        }
      ]
    },
    {
      "cell_type": "code",
      "source": [
        "# Check the results of the insurance model\n",
        "insurance_model.evaluate(X_test, y_test)"
      ],
      "metadata": {
        "colab": {
          "base_uri": "https://localhost:8080/"
        },
        "id": "EbuHerjtMfC2",
        "outputId": "440a58e2-6ab0-4bda-ab79-6b557465d08e"
      },
      "execution_count": 116,
      "outputs": [
        {
          "output_type": "stream",
          "name": "stdout",
          "text": [
            "9/9 [==============================] - 0s 4ms/step - loss: 7460.1587 - mae: 7460.1587\n"
          ]
        },
        {
          "output_type": "execute_result",
          "data": {
            "text/plain": [
              "[7460.15869140625, 7460.15869140625]"
            ]
          },
          "metadata": {},
          "execution_count": 116
        }
      ]
    },
    {
      "cell_type": "markdown",
      "source": [
        "Our model didn't perform very well, let's try a bigger model.\n",
        "\n",
        "We'll try 3 things:\n",
        "\n",
        "Increasing the number of layers (2 -> 3).\n",
        "\n",
        "Increasing the number of units in each layer (except for the output layer).\n",
        "\n",
        "Changing the optimizer (from SGD to Adam)."
      ],
      "metadata": {
        "id": "pX-El7_LM8YS"
      }
    },
    {
      "cell_type": "markdown",
      "source": [
        "\n",
        "\n",
        "---\n",
        "from next time try to change and compare the model results one by one instead of putting al the changes at once\n"
      ],
      "metadata": {
        "id": "FPVD9xinOPF1"
      }
    },
    {
      "cell_type": "code",
      "source": [
        "# Set random seed\n",
        "tf.random.set_seed(42)\n",
        "\n",
        "# Add an extra layer and increase number of units\n",
        "insurance_model_3 = tf.keras.Sequential([\n",
        "  tf.keras.layers.Dense(100), # 100 units\n",
        "  tf.keras.layers.Dense(10), # 10 units\n",
        "  tf.keras.layers.Dense(1) # 1 unit (important for output layer)\n",
        "])\n",
        "\n",
        "# Compile the model\n",
        "insurance_model_3.compile(loss=tf.keras.losses.mae,\n",
        "                          optimizer=tf.keras.optimizers.Adam(), # Adam works but SGD doesn't \n",
        "                          metrics=['mae'])\n",
        "\n",
        "# Fit the model and save the history (we can plot this)\n",
        "history = insurance_model_3.fit(X_train, y_train, epochs=100, verbose=0)"
      ],
      "metadata": {
        "id": "7G0BaiSSNfgQ"
      },
      "execution_count": 120,
      "outputs": []
    },
    {
      "cell_type": "code",
      "source": [
        "insurance_model_3.evaluate(X_test, y_test)"
      ],
      "metadata": {
        "colab": {
          "base_uri": "https://localhost:8080/"
        },
        "id": "V4IPirWHNsCf",
        "outputId": "5d81af45-7fcf-4540-d9ff-caa3ddff593f"
      },
      "execution_count": 121,
      "outputs": [
        {
          "output_type": "stream",
          "name": "stdout",
          "text": [
            "9/9 [==============================] - 0s 2ms/step - loss: 4713.2969 - mae: 4713.2969\n"
          ]
        },
        {
          "output_type": "execute_result",
          "data": {
            "text/plain": [
              "[4713.296875, 4713.296875]"
            ]
          },
          "metadata": {},
          "execution_count": 121
        }
      ]
    },
    {
      "cell_type": "code",
      "source": [
        "# one more model changing epochs\n",
        "\n",
        "# Set random seed\n",
        "tf.random.set_seed(42)\n",
        "\n",
        "# Add an extra layer and increase number of units\n",
        "insurance_model_2 = tf.keras.Sequential([\n",
        "  tf.keras.layers.Dense(100), # 100 units\n",
        "  tf.keras.layers.Dense(10), # 10 units\n",
        "  tf.keras.layers.Dense(1) # 1 unit (important for output layer)\n",
        "])\n",
        "\n",
        "# Compile the model\n",
        "insurance_model_2.compile(loss=tf.keras.losses.mae,\n",
        "                          optimizer=tf.keras.optimizers.Adam(), # Adam works but SGD doesn't \n",
        "                          metrics=['mae'])\n",
        "\n",
        "# Fit the model and save the history (we can plot this)\n",
        "history = insurance_model_2.fit(X_train, y_train, epochs=200, verbose=0)"
      ],
      "metadata": {
        "id": "n69P0jn3N0gx"
      },
      "execution_count": 119,
      "outputs": []
    },
    {
      "cell_type": "code",
      "source": [
        "insurance_model_2.evaluate(X_test, y_test)"
      ],
      "metadata": {
        "colab": {
          "base_uri": "https://localhost:8080/"
        },
        "id": "ja7nnFvwO4k7",
        "outputId": "4847a0a6-a0eb-4a25-b44b-812c4abe6f75"
      },
      "execution_count": 123,
      "outputs": [
        {
          "output_type": "stream",
          "name": "stdout",
          "text": [
            "9/9 [==============================] - 0s 3ms/step - loss: 3504.7832 - mae: 3504.7832\n"
          ]
        },
        {
          "output_type": "execute_result",
          "data": {
            "text/plain": [
              "[3504.783203125, 3504.783203125]"
            ]
          },
          "metadata": {},
          "execution_count": 123
        }
      ]
    },
    {
      "cell_type": "code",
      "source": [
        "# Plot history (also known as a loss curve)\n",
        "pd.DataFrame(history.history).plot()\n",
        "plt.ylabel(\"loss\")\n",
        "plt.xlabel(\"epochs\")"
      ],
      "metadata": {
        "colab": {
          "base_uri": "https://localhost:8080/",
          "height": 467
        },
        "id": "QW0jQMJlPXs_",
        "outputId": "817f18b7-e08d-4e14-a2d2-26aebca237cb"
      },
      "execution_count": 124,
      "outputs": [
        {
          "output_type": "execute_result",
          "data": {
            "text/plain": [
              "Text(0.5, 0, 'epochs')"
            ]
          },
          "metadata": {},
          "execution_count": 124
        },
        {
          "output_type": "display_data",
          "data": {
            "text/plain": [
              "<Figure size 640x480 with 1 Axes>"
            ],
            "image/png": "[encoded data removed]"
          },
          "metadata": {}
        }
      ]
    },
    {
      "cell_type": "markdown",
      "source": [
        "# Preprocessing data "
      ],
      "metadata": {
        "id": "yS9u31CyP8nL"
      }
    },
    {
      "cell_type": "markdown",
      "source": [
        "A common practice when working with neural networks is to make sure all of the data you pass to them is in the range 0 to 1.\n",
        "\n",
        "Turning all of your data to numbers (a neural network can't handle strings).\n",
        "\n",
        "Making sure your data is in the right shape (verifying input and output shapes).\n",
        "\n",
        "---\n",
        "\n",
        "Normalizing data (making sure all values are between 0 and 1)\n",
        "\n",
        ". This is done by subtracting the minimum value then dividing by the maximum value minus the minmum. This is also referred to as min-max scaling.\n",
        "\n",
        ".\n",
        "\n",
        "Standardization (making sure all values have a mean of 0 and a variance of 1).\n",
        "\n",
        ". This is done by substracting the mean value from the target feature and then dividing it by the standard deviation."
      ],
      "metadata": {
        "id": "1wk1fzW_SrY0"
      }
    },
    {
      "cell_type": "code",
      "source": [
        "import pandas as pd\n",
        "import matplotlib.pyplot as plt\n",
        "import tensorflow as tf\n",
        "\n",
        "# Read in the insurance dataset\n",
        "insurance = pd.read_csv(\"https://raw.githubusercontent.com/stedy/Machine-Learning-with-R-datasets/master/insurance.csv\")\n",
        "\n",
        "\n",
        "insurance.head()"
      ],
      "metadata": {
        "id": "nN7Ze_lMSghe",
        "outputId": "7bd795a1-142e-4729-a31e-fa09f2f117d3",
        "colab": {
          "base_uri": "https://localhost:8080/",
          "height": 206
        }
      },
      "execution_count": 125,
      "outputs": [
        {
          "output_type": "execute_result",
          "data": {
            "text/plain": [
              "   age     sex     bmi  children smoker     region      charges\n",
              "0   19  female  27.900         0    yes  southwest  16884.92400\n",
              "1   18    male  33.770         1     no  southeast   1725.55230\n",
              "2   28    male  33.000         3     no  southeast   4449.46200\n",
              "3   33    male  22.705         0     no  northwest  21984.47061\n",
              "4   32    male  28.880         0     no  northwest   3866.85520"
            ],
            "text/html": [
              "\n",
              "  <div id=\"df-346d2468-2ae8-4f4d-82af-4c4ba7e7095d\">\n",
              "    <div class=\"colab-df-container\">\n",
              "      <div>\n",
              "<style scoped>\n",
              "    .dataframe tbody tr th:only-of-type {\n",
              "        vertical-align: middle;\n",
              "    }\n",
              "\n",
              "    .dataframe tbody tr th {\n",
              "        vertical-align: top;\n",
              "    }\n",
              "\n",
              "    .dataframe thead th {\n",
              "        text-align: right;\n",
              "    }\n",
              "</style>\n",
              "<table border=\"1\" class=\"dataframe\">\n",
              "  <thead>\n",
              "    <tr style=\"text-align: right;\">\n",
              "      <th></th>\n",
              "      <th>age</th>\n",
              "      <th>sex</th>\n",
              "      <th>bmi</th>\n",
              "      <th>children</th>\n",
              "      <th>smoker</th>\n",
              "      <th>region</th>\n",
              "      <th>charges</th>\n",
              "    </tr>\n",
              "  </thead>\n",
              "  <tbody>\n",
              "    <tr>\n",
              "      <th>0</th>\n",
              "      <td>19</td>\n",
              "      <td>female</td>\n",
              "      <td>27.900</td>\n",
              "      <td>0</td>\n",
              "      <td>yes</td>\n",
              "      <td>southwest</td>\n",
              "      <td>16884.92400</td>\n",
              "    </tr>\n",
              "    <tr>\n",
              "      <th>1</th>\n",
              "      <td>18</td>\n",
              "      <td>male</td>\n",
              "      <td>33.770</td>\n",
              "      <td>1</td>\n",
              "      <td>no</td>\n",
              "      <td>southeast</td>\n",
              "      <td>1725.55230</td>\n",
              "    </tr>\n",
              "    <tr>\n",
              "      <th>2</th>\n",
              "      <td>28</td>\n",
              "      <td>male</td>\n",
              "      <td>33.000</td>\n",
              "      <td>3</td>\n",
              "      <td>no</td>\n",
              "      <td>southeast</td>\n",
              "      <td>4449.46200</td>\n",
              "    </tr>\n",
              "    <tr>\n",
              "      <th>3</th>\n",
              "      <td>33</td>\n",
              "      <td>male</td>\n",
              "      <td>22.705</td>\n",
              "      <td>0</td>\n",
              "      <td>no</td>\n",
              "      <td>northwest</td>\n",
              "      <td>21984.47061</td>\n",
              "    </tr>\n",
              "    <tr>\n",
              "      <th>4</th>\n",
              "      <td>32</td>\n",
              "      <td>male</td>\n",
              "      <td>28.880</td>\n",
              "      <td>0</td>\n",
              "      <td>no</td>\n",
              "      <td>northwest</td>\n",
              "      <td>3866.85520</td>\n",
              "    </tr>\n",
              "  </tbody>\n",
              "</table>\n",
              "</div>\n",
              "      <button class=\"colab-df-convert\" onclick=\"convertToInteractive('df-346d2468-2ae8-4f4d-82af-4c4ba7e7095d')\"\n",
              "              title=\"Convert this dataframe to an interactive table.\"\n",
              "              style=\"display:none;\">\n",
              "        \n",
              "  <svg xmlns=\"http://www.w3.org/2000/svg\" height=\"24px\"viewBox=\"0 0 24 24\"\n",
              "       width=\"24px\">\n",
              "    <path d=\"M0 0h24v24H0V0z\" fill=\"none\"/>\n",
              "    <path d=\"M18.56 5.44l.94 2.06.94-2.06 2.06-.94-2.06-.94-.94-2.06-.94 2.06-2.06.94zm-11 1L8.5 8.5l.94-2.06 2.06-.94-2.06-.94L8.5 2.5l-.94 2.06-2.06.94zm10 10l.94 2.06.94-2.06 2.06-.94-2.06-.94-.94-2.06-.94 2.06-2.06.94z\"/><path d=\"M17.41 7.96l-1.37-1.37c-.4-.4-.92-.59-1.43-.59-.52 0-1.04.2-1.43.59L10.3 9.45l-7.72 7.72c-.78.78-.78 2.05 0 2.83L4 21.41c.39.39.9.59 1.41.59.51 0 1.02-.2 1.41-.59l7.78-7.78 2.81-2.81c.8-.78.8-2.07 0-2.86zM5.41 20L4 18.59l7.72-7.72 1.47 1.35L5.41 20z\"/>\n",
              "  </svg>\n",
              "      </button>\n",
              "      \n",
              "  <style>\n",
              "    .colab-df-container {\n",
              "      display:flex;\n",
              "      flex-wrap:wrap;\n",
              "      gap: 12px;\n",
              "    }\n",
              "\n",
              "    .colab-df-convert {\n",
              "      background-color: #E8F0FE;\n",
              "      border: none;\n",
              "      border-radius: 50%;\n",
              "      cursor: pointer;\n",
              "      display: none;\n",
              "      fill: #1967D2;\n",
              "      height: 32px;\n",
              "      padding: 0 0 0 0;\n",
              "      width: 32px;\n",
              "    }\n",
              "\n",
              "    .colab-df-convert:hover {\n",
              "      background-color: #E2EBFA;\n",
              "      box-shadow: 0px 1px 2px rgba(60, 64, 67, 0.3), 0px 1px 3px 1px rgba(60, 64, 67, 0.15);\n",
              "      fill: #174EA6;\n",
              "    }\n",
              "\n",
              "    [theme=dark] .colab-df-convert {\n",
              "      background-color: #3B4455;\n",
              "      fill: #D2E3FC;\n",
              "    }\n",
              "\n",
              "    [theme=dark] .colab-df-convert:hover {\n",
              "      background-color: #434B5C;\n",
              "      box-shadow: 0px 1px 3px 1px rgba(0, 0, 0, 0.15);\n",
              "      filter: drop-shadow(0px 1px 2px rgba(0, 0, 0, 0.3));\n",
              "      fill: #FFFFFF;\n",
              "    }\n",
              "  </style>\n",
              "\n",
              "      <script>\n",
              "        const buttonEl =\n",
              "          document.querySelector('#df-346d2468-2ae8-4f4d-82af-4c4ba7e7095d button.colab-df-convert');\n",
              "        buttonEl.style.display =\n",
              "          google.colab.kernel.accessAllowed ? 'block' : 'none';\n",
              "\n",
              "        async function convertToInteractive(key) {\n",
              "          const element = document.querySelector('#df-346d2468-2ae8-4f4d-82af-4c4ba7e7095d');\n",
              "          const dataTable =\n",
              "            await google.colab.kernel.invokeFunction('convertToInteractive',\n",
              "                                                     [key], {});\n",
              "          if (!dataTable) return;\n",
              "\n",
              "          const docLinkHtml = 'Like what you see? Visit the ' +\n",
              "            '<a target=\"_blank\" href=https://colab.research.google.com/notebooks/data_table.ipynb>data table notebook</a>'\n",
              "            + ' to learn more about interactive tables.';\n",
              "          element.innerHTML = '';\n",
              "          dataTable['output_type'] = 'display_data';\n",
              "          await google.colab.output.renderOutput(dataTable, element);\n",
              "          const docLink = document.createElement('div');\n",
              "          docLink.innerHTML = docLinkHtml;\n",
              "          element.appendChild(docLink);\n",
              "        }\n",
              "      </script>\n",
              "    </div>\n",
              "  </div>\n",
              "  "
            ]
          },
          "metadata": {},
          "execution_count": 125
        }
      ]
    },
    {
      "cell_type": "markdown",
      "source": [
        "make_column_transformer - build a multi-step data preprocessing function for the folllowing transformations:\n",
        "\n",
        "MinMaxScaler - make sure all numerical columns are normalized (between 0 and 1).\n",
        "\n",
        "OneHotEncoder - one hot encode the non-numerical columns."
      ],
      "metadata": {
        "id": "u47VC2xRTes6"
      }
    },
    {
      "cell_type": "code",
      "source": [
        "X[\"age\"].plot(kind=\"hist\") # age graph before using the normalization"
      ],
      "metadata": {
        "id": "SZbA1UcxTu0k",
        "outputId": "5e0cd4cb-e8e3-44a4-f30e-102894780bca",
        "colab": {
          "base_uri": "https://localhost:8080/",
          "height": 448
        }
      },
      "execution_count": 126,
      "outputs": [
        {
          "output_type": "execute_result",
          "data": {
            "text/plain": [
              "<Axes: ylabel='Frequency'>"
            ]
          },
          "metadata": {},
          "execution_count": 126
        },
        {
          "output_type": "display_data",
          "data": {
            "text/plain": [
              "<Figure size 640x480 with 1 Axes>"
            ],
            "image/png": "[encoded data removed]"
          },
          "metadata": {}
        }
      ]
    },
    {
      "cell_type": "code",
      "source": [
        "from sklearn.compose import make_column_transformer\n",
        "from sklearn.preprocessing import MinMaxScaler, OneHotEncoder\n",
        "\n",
        "# Create column transformer (this will help us normalize/preprocess our data)\n",
        "ct = make_column_transformer(\n",
        "    (MinMaxScaler(), [\"age\", \"bmi\", \"children\"]), # get all values between 0 and 1\n",
        "    (OneHotEncoder(handle_unknown=\"ignore\"), [\"sex\", \"smoker\", \"region\"])\n",
        ")\n",
        "\n",
        "# Create X & y\n",
        "X = insurance.drop(\"charges\", axis=1)\n",
        "y = insurance[\"charges\"]\n",
        "\n",
        "# Build our train and test sets (use random state to ensure same split as before)\n",
        "X_train, X_test, y_train, y_test = train_test_split(X, y, test_size=0.2, random_state=42)\n",
        "\n",
        "# Fit column transformer that we have created on the training data only \n",
        "ct.fit(X_train)\n",
        "\n",
        "# Transform training and test data with normalization (MinMaxScalar) and one hot encoding (OneHotEncoder)\n",
        "X_train_normal = ct.transform(X_train)\n",
        "X_test_normal = ct.transform(X_test)"
      ],
      "metadata": {
        "id": "rcu4hfpYT8yH"
      },
      "execution_count": 127,
      "outputs": []
    },
    {
      "cell_type": "code",
      "source": [
        "X_train.loc[0]"
      ],
      "metadata": {
        "id": "7IfaqhilV7fv",
        "outputId": "5ae0ecd4-f9c9-4439-ca5b-a67a670a6aa3",
        "colab": {
          "base_uri": "https://localhost:8080/"
        }
      },
      "execution_count": 132,
      "outputs": [
        {
          "output_type": "execute_result",
          "data": {
            "text/plain": [
              "age                19\n",
              "sex            female\n",
              "bmi              27.9\n",
              "children            0\n",
              "smoker            yes\n",
              "region      southwest\n",
              "Name: 0, dtype: object"
            ]
          },
          "metadata": {},
          "execution_count": 132
        }
      ]
    },
    {
      "cell_type": "code",
      "source": [
        "X_train_normal[0]"
      ],
      "metadata": {
        "id": "KBnXG_aKWMch",
        "outputId": "ddfec8fa-186f-4eeb-c278-b27b16abeec7",
        "colab": {
          "base_uri": "https://localhost:8080/"
        }
      },
      "execution_count": 130,
      "outputs": [
        {
          "output_type": "execute_result",
          "data": {
            "text/plain": [
              "array([0.60869565, 0.10734463, 0.4       , 1.        , 0.        ,\n",
              "       1.        , 0.        , 0.        , 1.        , 0.        ,\n",
              "       0.        ])"
            ]
          },
          "metadata": {},
          "execution_count": 130
        }
      ]
    },
    {
      "cell_type": "code",
      "source": [
        "# Set random seed\n",
        "tf.random.set_seed(42)\n",
        "\n",
        "# Build the model (3 layers, 100, 10, 1 units)\n",
        "insurance_model_5 = tf.keras.Sequential([\n",
        "  tf.keras.layers.Dense(100),\n",
        "  tf.keras.layers.Dense(10),\n",
        "  tf.keras.layers.Dense(1)\n",
        "])\n",
        "\n",
        "# Compile the model\n",
        "insurance_model_5.compile(loss=tf.keras.losses.mae,\n",
        "                          optimizer=tf.keras.optimizers.Adam(),\n",
        "                          metrics=['mae'])\n",
        "\n",
        "# Fit the model for 200 epochs (same as insurance_model_2)\n",
        "insurance_model_5.fit(X_train_normal, y_train, epochs=200, verbose=0) "
      ],
      "metadata": {
        "id": "k74a4Do0XimE",
        "outputId": "fac2ddf5-9f9a-473e-a416-b7b91664d6cb",
        "colab": {
          "base_uri": "https://localhost:8080/"
        }
      },
      "execution_count": 134,
      "outputs": [
        {
          "output_type": "execute_result",
          "data": {
            "text/plain": [
              "<keras.callbacks.History at 0x7f9d2a1b9f60>"
            ]
          },
          "metadata": {},
          "execution_count": 134
        }
      ]
    },
    {
      "cell_type": "code",
      "source": [
        "insurance_model_5.evaluate(X_test_normal, y_test)"
      ],
      "metadata": {
        "id": "lkCB7KxwXuwh",
        "outputId": "5f51ecfe-4dbb-4250-9070-b1e7532441b0",
        "colab": {
          "base_uri": "https://localhost:8080/"
        }
      },
      "execution_count": 135,
      "outputs": [
        {
          "output_type": "stream",
          "name": "stdout",
          "text": [
            "9/9 [==============================] - 1s 5ms/step - loss: 3166.8303 - mae: 3166.8303\n"
          ]
        },
        {
          "output_type": "execute_result",
          "data": {
            "text/plain": [
              "[3166.830322265625, 3166.830322265625]"
            ]
          },
          "metadata": {},
          "execution_count": 135
        }
      ]
    },
    {
      "cell_type": "code",
      "source": [
        "# insurance_model_2 evaluation result\n",
        "\n",
        "# 9/9 [==============================] - 0s 3ms/step - loss: 3504.7832 - mae: 3504.7832\n",
        "# [3504.783203125, 3504.783203125]"
      ],
      "metadata": {
        "id": "MyOVLujHX6Sb"
      },
      "execution_count": null,
      "outputs": []
    },
    {
      "cell_type": "markdown",
      "source": [
        "From this we can see normalizing the data results in 10% less error using the same model than not normalizing the data.\n",
        "\n",
        "This is one of the main benefits of normalization: faster convergence time (a fancy way of saying, your model gets to better results faster).\n",
        "\n",
        "insurance_model_2 may have eventually achieved the same results as insurance_model_3 if we left it training for longer."
      ],
      "metadata": {
        "id": "Xb0TWP8UZNku"
      }
    },
    {
      "cell_type": "code",
      "source": [],
      "metadata": {
        "id": "zDvjJUaQZXHA"
      },
      "execution_count": null,
      "outputs": []
    }
  ]
}